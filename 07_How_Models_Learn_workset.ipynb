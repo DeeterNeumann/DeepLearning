{
  "cells": [
    {
      "cell_type": "markdown",
      "metadata": {
        "id": "view-in-github",
        "colab_type": "text"
      },
      "source": [
        "<a href=\"https://colab.research.google.com/github/DeeterNeumann/DeepLearning/blob/main/07_How_Models_Learn_workset.ipynb\" target=\"_parent\"><img src=\"https://colab.research.google.com/assets/colab-badge.svg\" alt=\"Open In Colab\"/></a>"
      ]
    },
    {
      "cell_type": "code",
      "execution_count": 1,
      "id": "030c1766-f1f2-4af1-85a1-3d788615875f",
      "metadata": {
        "id": "030c1766-f1f2-4af1-85a1-3d788615875f"
      },
      "outputs": [],
      "source": [
        "import torch\n",
        "from torch import nn\n",
        "import torch.nn.functional as F\n",
        "from graphviz import Digraph\n",
        "import matplotlib.pyplot as plt\n",
        "import numpy as np\n",
        "import ipywidgets as widgets"
      ]
    },
    {
      "cell_type": "code",
      "execution_count": 2,
      "id": "4bbda347-5187-4548-83db-346dfc917435",
      "metadata": {
        "colab": {
          "base_uri": "https://localhost:8080/",
          "height": 471,
          "referenced_widgets": [
            "305b82645271400d812b6a6023e2ce3a",
            "24d8b4da9ff94baf8dc9a0e9d69e53be",
            "329ab302a2dc4632802c36f663d11757",
            "07bb689e9c364ac989cdbe79971160d8",
            "a9b0bfe498cc42758b05529d69b359e5",
            "d7c24e89ab574bfe87f43f87df3c8414",
            "9219e8cee3b34b37a1f529838cdc5573"
          ]
        },
        "id": "4bbda347-5187-4548-83db-346dfc917435",
        "outputId": "d98519e8-e053-4c22-ec72-72671a1713af"
      },
      "outputs": [
        {
          "output_type": "display_data",
          "data": {
            "text/plain": [
              "interactive(children=(FloatSlider(value=1.4, description='x', max=2.0, min=-2.0), Output()), _dom_classes=('wi…"
            ],
            "application/vnd.jupyter.widget-view+json": {
              "version_major": 2,
              "version_minor": 0,
              "model_id": "305b82645271400d812b6a6023e2ce3a"
            }
          },
          "metadata": {}
        }
      ],
      "source": [
        "# Create x and y values for our function over a range of values\n",
        "X = torch.arange(-2, 2.1, step=.1)\n",
        "\n",
        "def f(x):\n",
        "    return x**2\n",
        "\n",
        "Y = f(X)\n",
        "\n",
        "def plot_derivative_at(point, ax):\n",
        "    _x, _y = point\n",
        "    slope = 2*_x # What's the derivative of y with respect to x?\n",
        "    intercept = slope * _x  - _y # Figure out the intercept\n",
        "    x = torch.arange(-2, 2.1, .1) # xs to plot\n",
        "    y = slope * X - _y # ys to plot\n",
        "    ax.scatter(_x, _y, c='r', label=f'({float(_x):.02f}, {float(_y):.02f})', linewidth=8)\n",
        "    ax.plot(x, y, label=f'dy/dx = {float(slope):.02f}', linewidth=3, ls='--')\n",
        "\n",
        "@widgets.interact(\n",
        "    x = widgets.FloatSlider(value=1.4, min=-2, max=2)\n",
        ")\n",
        "def show_derivative_at(x):\n",
        "    x = torch.tensor(x).float()\n",
        "    point = (x, f(x))\n",
        "    fig, ax = plt.subplots(figsize=(12,8))\n",
        "    ax.plot(X, Y, label='f(x)', linewidth=3)\n",
        "    ax.set_xlim(-2, 2)\n",
        "    ax.set_ylim(0, 4)\n",
        "    plot_derivative_at(point, ax)\n",
        "    ax.legend()\n",
        "    plt.show()"
      ]
    },
    {
      "cell_type": "code",
      "execution_count": 3,
      "id": "7fb9cf2f-9230-4b35-98d2-8283ff3406ee",
      "metadata": {
        "id": "7fb9cf2f-9230-4b35-98d2-8283ff3406ee"
      },
      "outputs": [],
      "source": [
        "x = torch.tensor(2., requires_grad=True, dtype=torch.float32)"
      ]
    },
    {
      "cell_type": "code",
      "execution_count": 4,
      "id": "1d406a1c-8b48-4afd-81b6-c8ec58f389c5",
      "metadata": {
        "colab": {
          "base_uri": "https://localhost:8080/"
        },
        "id": "1d406a1c-8b48-4afd-81b6-c8ec58f389c5",
        "outputId": "564603bb-fc4c-4038-de99-1b61751cc852"
      },
      "outputs": [
        {
          "output_type": "execute_result",
          "data": {
            "text/plain": [
              "tensor(19., grad_fn=<AddBackward0>)"
            ]
          },
          "metadata": {},
          "execution_count": 4
        }
      ],
      "source": [
        "a = x + 2\n",
        "b = a ** 2\n",
        "y = b + 3\n",
        "y"
      ]
    },
    {
      "cell_type": "code",
      "execution_count": 5,
      "id": "03cfcf72-db3f-4407-8da8-99724ca49669",
      "metadata": {
        "id": "03cfcf72-db3f-4407-8da8-99724ca49669"
      },
      "outputs": [],
      "source": [
        "y.backward()"
      ]
    },
    {
      "cell_type": "code",
      "execution_count": 6,
      "id": "19f6f1b6-bd74-48f1-9667-0176cc88c2dc",
      "metadata": {
        "colab": {
          "base_uri": "https://localhost:8080/"
        },
        "id": "19f6f1b6-bd74-48f1-9667-0176cc88c2dc",
        "outputId": "f199eb27-d6d1-41c3-a1db-40c979e48d3c"
      },
      "outputs": [
        {
          "output_type": "execute_result",
          "data": {
            "text/plain": [
              "tensor(8.)"
            ]
          },
          "metadata": {},
          "execution_count": 6
        }
      ],
      "source": [
        "x.grad"
      ]
    },
    {
      "cell_type": "code",
      "execution_count": 7,
      "id": "5d4fa79f-ae01-4dd5-867f-889b47b9a299",
      "metadata": {
        "id": "5d4fa79f-ae01-4dd5-867f-889b47b9a299"
      },
      "outputs": [],
      "source": [
        "x = torch.tensor(2., requires_grad=True)"
      ]
    },
    {
      "cell_type": "markdown",
      "source": [],
      "metadata": {
        "id": "KInD5cR_fhUL"
      },
      "id": "KInD5cR_fhUL"
    },
    {
      "cell_type": "code",
      "execution_count": 8,
      "id": "e3dbbc20-ebee-43ee-bd41-b547263e9ad5",
      "metadata": {
        "id": "e3dbbc20-ebee-43ee-bd41-b547263e9ad5"
      },
      "outputs": [],
      "source": [
        "def f(x):\n",
        "    return ((x+2)**2) + 3"
      ]
    },
    {
      "cell_type": "code",
      "execution_count": 9,
      "id": "ea111ecb-655d-401f-895c-7f996347081d",
      "metadata": {
        "id": "ea111ecb-655d-401f-895c-7f996347081d"
      },
      "outputs": [],
      "source": [
        "y = f(x)"
      ]
    },
    {
      "cell_type": "code",
      "execution_count": 10,
      "id": "13de81ed-6193-4edf-99e8-4af7aff9267b",
      "metadata": {
        "colab": {
          "base_uri": "https://localhost:8080/"
        },
        "id": "13de81ed-6193-4edf-99e8-4af7aff9267b",
        "outputId": "5cf0607a-4ae0-4459-e66e-38888689376e"
      },
      "outputs": [
        {
          "output_type": "execute_result",
          "data": {
            "text/plain": [
              "tensor(19., grad_fn=<AddBackward0>)"
            ]
          },
          "metadata": {},
          "execution_count": 10
        }
      ],
      "source": [
        "y"
      ]
    },
    {
      "cell_type": "code",
      "execution_count": 11,
      "id": "febef235-008f-4455-bbce-b9da818fd0db",
      "metadata": {
        "id": "febef235-008f-4455-bbce-b9da818fd0db"
      },
      "outputs": [],
      "source": [
        "y.backward()"
      ]
    },
    {
      "cell_type": "code",
      "execution_count": 12,
      "id": "98b668f8-d163-4ba7-814a-a3a9096cce02",
      "metadata": {
        "colab": {
          "base_uri": "https://localhost:8080/"
        },
        "id": "98b668f8-d163-4ba7-814a-a3a9096cce02",
        "outputId": "45277148-4c0c-45fa-a4c5-4a60ed881d70"
      },
      "outputs": [
        {
          "output_type": "execute_result",
          "data": {
            "text/plain": [
              "tensor(8.)"
            ]
          },
          "metadata": {},
          "execution_count": 12
        }
      ],
      "source": [
        "x.grad"
      ]
    },
    {
      "cell_type": "markdown",
      "id": "wmFIYwvIWkjG",
      "metadata": {
        "id": "wmFIYwvIWkjG"
      },
      "source": [
        "# Exercise 7.1\n",
        "\n",
        "Complete the function `g` below with your own mathematical operation.\n",
        "What is $\\frac{dg}{dx}$ at `x=10`? `x=42` `x=3.14`?\n",
        "\n",
        "<!-- startquestion -->"
      ]
    },
    {
      "cell_type": "code",
      "source": [],
      "metadata": {
        "id": "ZmfBYRAXtSui"
      },
      "id": "ZmfBYRAXtSui",
      "execution_count": null,
      "outputs": []
    },
    {
      "cell_type": "code",
      "execution_count": 14,
      "id": "9AujlZviWp_P",
      "metadata": {
        "id": "9AujlZviWp_P"
      },
      "outputs": [],
      "source": [
        "# Write your own function\n",
        "def derivative_at_point(func, x_val):\n",
        "  # Create tensor with gradient tracking\n",
        "  x = torch.tensor(x_val, dtype=torch.float32, requires_grad=True)\n",
        "  g = func(x)\n",
        "  g.backward()\n",
        "  return x.grad.item()\n",
        "\n"
      ]
    },
    {
      "cell_type": "code",
      "execution_count": 16,
      "id": "ZdMGKtOLW7tJ",
      "metadata": {
        "id": "ZdMGKtOLW7tJ",
        "colab": {
          "base_uri": "https://localhost:8080/"
        },
        "outputId": "6461800f-18e7-49af-dddc-7a0fda2b23c3"
      },
      "outputs": [
        {
          "output_type": "execute_result",
          "data": {
            "text/plain": [
              "tensor(18.)"
            ]
          },
          "metadata": {},
          "execution_count": 16
        }
      ],
      "source": [
        "y = g(x)\n",
        "y\n",
        "y.backward()\n",
        "x.grad"
      ]
    },
    {
      "cell_type": "code",
      "execution_count": null,
      "id": "9fcdd825-66d2-4a3e-9a6f-b521a9a48a45",
      "metadata": {
        "id": "9fcdd825-66d2-4a3e-9a6f-b521a9a48a45"
      },
      "outputs": [],
      "source": [
        "x = torch.arange(3, dtype=torch.float32, requires_grad=True)\n",
        "x"
      ]
    },
    {
      "cell_type": "code",
      "execution_count": null,
      "id": "ca384249-60cf-462b-ba06-db9fa0688864",
      "metadata": {
        "id": "ca384249-60cf-462b-ba06-db9fa0688864"
      },
      "outputs": [],
      "source": [
        "def f(x):\n",
        "    a = torch.exp(x)\n",
        "    b = a / 1+torch.exp(x)\n",
        "    return b.mean()"
      ]
    },
    {
      "cell_type": "code",
      "execution_count": null,
      "id": "927b7f23-74d2-43f3-aeed-b1873a2bf38a",
      "metadata": {
        "id": "927b7f23-74d2-43f3-aeed-b1873a2bf38a"
      },
      "outputs": [],
      "source": [
        "y = f(x)"
      ]
    },
    {
      "cell_type": "code",
      "execution_count": null,
      "id": "BwMMoAqT0aZm",
      "metadata": {
        "id": "BwMMoAqT0aZm"
      },
      "outputs": [],
      "source": [
        "y"
      ]
    },
    {
      "cell_type": "code",
      "execution_count": null,
      "id": "8385d2e1-65e9-4dad-a025-c642e92520f5",
      "metadata": {
        "id": "8385d2e1-65e9-4dad-a025-c642e92520f5"
      },
      "outputs": [],
      "source": [
        "y.backward()"
      ]
    },
    {
      "cell_type": "code",
      "execution_count": null,
      "id": "947b0d94-96d5-47f1-9322-935c3cabf8a9",
      "metadata": {
        "id": "947b0d94-96d5-47f1-9322-935c3cabf8a9"
      },
      "outputs": [],
      "source": [
        "x.grad"
      ]
    },
    {
      "cell_type": "code",
      "execution_count": null,
      "id": "24454b79-9da2-4736-8c04-90d3fd031c53",
      "metadata": {
        "id": "24454b79-9da2-4736-8c04-90d3fd031c53"
      },
      "outputs": [],
      "source": [
        "rng = torch.arange(-5, 5.01, 0.05)\n",
        "fig, ax = plt.subplots(figsize=(14, 8))\n",
        "ax.plot(rng, F.relu(rng), label='ReLU')\n",
        "ax.plot(rng, torch.tanh(rng), label='tanh')\n",
        "ax.plot(rng, torch.sigmoid(rng), label='sigmoid')\n",
        "ax.plot(rng, F.leaky_relu(rng, negative_slope=0.01), ls='--', label='leaky ReLU')\n",
        "ax.plot(rng, F.gelu(rng), ls=':', label='gelu')\n",
        "ax.plot(rng, F.silu(rng), ls='dashdot', label='swish')\n",
        "ax.plot(rng, F.mish(rng), label='mish')\n",
        "ax.set_ylim(-1.1, 2)\n",
        "ax.set_title('Common activation functions')\n",
        "ax.legend()"
      ]
    },
    {
      "cell_type": "code",
      "execution_count": null,
      "id": "d298f64a-5966-403d-92aa-31d16d26b222",
      "metadata": {
        "id": "d298f64a-5966-403d-92aa-31d16d26b222"
      },
      "outputs": [],
      "source": [
        "rng = torch.arange(-1, 1, .2)"
      ]
    },
    {
      "cell_type": "code",
      "execution_count": null,
      "id": "4Eq3-gSwN2Ye",
      "metadata": {
        "id": "4Eq3-gSwN2Ye"
      },
      "outputs": [],
      "source": [
        "rng"
      ]
    },
    {
      "cell_type": "code",
      "execution_count": null,
      "id": "0f950646-7783-44db-ad4c-919d37e915cd",
      "metadata": {
        "id": "0f950646-7783-44db-ad4c-919d37e915cd"
      },
      "outputs": [],
      "source": [
        "rng.max(torch.tensor(0.))"
      ]
    },
    {
      "cell_type": "code",
      "execution_count": null,
      "id": "75c428dd-a299-4583-b81a-9374d46691f0",
      "metadata": {
        "id": "75c428dd-a299-4583-b81a-9374d46691f0"
      },
      "outputs": [],
      "source": [
        "F.relu(rng)"
      ]
    },
    {
      "cell_type": "code",
      "execution_count": null,
      "id": "f238a253-dabf-4b1c-abb9-818a4c73c06c",
      "metadata": {
        "id": "f238a253-dabf-4b1c-abb9-818a4c73c06c"
      },
      "outputs": [],
      "source": [
        "nn.ReLU()(rng)"
      ]
    },
    {
      "cell_type": "code",
      "execution_count": null,
      "id": "e2202eae-45d1-4474-b264-0292a988700d",
      "metadata": {
        "id": "e2202eae-45d1-4474-b264-0292a988700d"
      },
      "outputs": [],
      "source": [
        "leak = 0.1"
      ]
    },
    {
      "cell_type": "code",
      "execution_count": null,
      "id": "769bb75e-d051-44a9-9d1e-574226c74404",
      "metadata": {
        "id": "769bb75e-d051-44a9-9d1e-574226c74404"
      },
      "outputs": [],
      "source": [
        "rng.max(rng * leak)"
      ]
    },
    {
      "cell_type": "code",
      "execution_count": null,
      "id": "589a4421-cc6b-4150-b433-3651a749b264",
      "metadata": {
        "id": "589a4421-cc6b-4150-b433-3651a749b264"
      },
      "outputs": [],
      "source": [
        "F.leaky_relu(rng, leak)"
      ]
    },
    {
      "cell_type": "code",
      "execution_count": null,
      "id": "40ee97f4-9a57-4acb-b02b-bf0d49234f3a",
      "metadata": {
        "id": "40ee97f4-9a57-4acb-b02b-bf0d49234f3a"
      },
      "outputs": [],
      "source": [
        "nn.LeakyReLU(leak)(rng)"
      ]
    },
    {
      "cell_type": "code",
      "execution_count": null,
      "id": "a904f14d-f71f-4361-93b2-cff4e20a3a11",
      "metadata": {
        "id": "a904f14d-f71f-4361-93b2-cff4e20a3a11"
      },
      "outputs": [],
      "source": [
        "activations = torch.tensor(np.random.normal(loc=1.5, scale=7, size=(10, 5)))\n",
        "activations"
      ]
    },
    {
      "cell_type": "code",
      "execution_count": null,
      "id": "7493970d-3e67-4d83-b720-c300a0906eed",
      "metadata": {
        "id": "7493970d-3e67-4d83-b720-c300a0906eed"
      },
      "outputs": [],
      "source": [
        "ub = activations.mean(dim=0)\n",
        "ub"
      ]
    },
    {
      "cell_type": "code",
      "execution_count": null,
      "id": "62ef33d2-47eb-455d-8006-ece3526661f2",
      "metadata": {
        "id": "62ef33d2-47eb-455d-8006-ece3526661f2"
      },
      "outputs": [],
      "source": [
        "vb = activations.var(dim=0)\n",
        "vb"
      ]
    },
    {
      "cell_type": "code",
      "execution_count": null,
      "id": "f7f3e9f6-53d5-4be8-8f17-3c022696a5c5",
      "metadata": {
        "id": "f7f3e9f6-53d5-4be8-8f17-3c022696a5c5"
      },
      "outputs": [],
      "source": [
        "xhat = (activations - ub) / torch.sqrt(vb + 1e-5)\n",
        "xhat"
      ]
    },
    {
      "cell_type": "code",
      "execution_count": null,
      "id": "4d3e6632-fecb-47cc-900b-7d94f0ba3ebf",
      "metadata": {
        "id": "4d3e6632-fecb-47cc-900b-7d94f0ba3ebf"
      },
      "outputs": [],
      "source": [
        "# Check that the mean of each \"feature\" is close to zero\n",
        "np.allclose(xhat.mean(dim=0), 0)"
      ]
    },
    {
      "cell_type": "code",
      "execution_count": null,
      "id": "2832cea2-85c4-44c8-b05e-fd5f26923361",
      "metadata": {
        "id": "2832cea2-85c4-44c8-b05e-fd5f26923361"
      },
      "outputs": [],
      "source": [
        "scale = torch.tensor(np.random.normal(loc=0.1, scale=1.2, size=(5)))\n",
        "shift = torch.tensor(np.random.normal(loc=0.1, scale=1.2, size=(5)))"
      ]
    },
    {
      "cell_type": "code",
      "execution_count": null,
      "id": "bb771952-5114-427a-a17b-29a6b91aadc0",
      "metadata": {
        "id": "bb771952-5114-427a-a17b-29a6b91aadc0"
      },
      "outputs": [],
      "source": [
        "outputs = xhat * scale + shift\n",
        "outputs"
      ]
    },
    {
      "cell_type": "code",
      "execution_count": null,
      "id": "ARgpGE6E_HKD",
      "metadata": {
        "id": "ARgpGE6E_HKD"
      },
      "outputs": [],
      "source": []
    }
  ],
  "metadata": {
    "colab": {
      "name": "07_How_Models_Learn.ipynb",
      "provenance": [],
      "include_colab_link": true
    },
    "kernelspec": {
      "display_name": "cndl",
      "language": "python",
      "name": "cndl"
    },
    "language_info": {
      "codemirror_mode": {
        "name": "ipython",
        "version": 3
      },
      "file_extension": ".py",
      "mimetype": "text/x-python",
      "name": "python",
      "nbconvert_exporter": "python",
      "pygments_lexer": "ipython3",
      "version": "3.9.4"
    },
    "widgets": {
      "application/vnd.jupyter.widget-state+json": {
        "305b82645271400d812b6a6023e2ce3a": {
          "model_module": "@jupyter-widgets/controls",
          "model_name": "VBoxModel",
          "model_module_version": "1.5.0",
          "state": {
            "_dom_classes": [
              "widget-interact"
            ],
            "_model_module": "@jupyter-widgets/controls",
            "_model_module_version": "1.5.0",
            "_model_name": "VBoxModel",
            "_view_count": null,
            "_view_module": "@jupyter-widgets/controls",
            "_view_module_version": "1.5.0",
            "_view_name": "VBoxView",
            "box_style": "",
            "children": [
              "IPY_MODEL_24d8b4da9ff94baf8dc9a0e9d69e53be",
              "IPY_MODEL_329ab302a2dc4632802c36f663d11757"
            ],
            "layout": "IPY_MODEL_07bb689e9c364ac989cdbe79971160d8"
          }
        },
        "24d8b4da9ff94baf8dc9a0e9d69e53be": {
          "model_module": "@jupyter-widgets/controls",
          "model_name": "FloatSliderModel",
          "model_module_version": "1.5.0",
          "state": {
            "_dom_classes": [],
            "_model_module": "@jupyter-widgets/controls",
            "_model_module_version": "1.5.0",
            "_model_name": "FloatSliderModel",
            "_view_count": null,
            "_view_module": "@jupyter-widgets/controls",
            "_view_module_version": "1.5.0",
            "_view_name": "FloatSliderView",
            "continuous_update": true,
            "description": "x",
            "description_tooltip": null,
            "disabled": false,
            "layout": "IPY_MODEL_a9b0bfe498cc42758b05529d69b359e5",
            "max": 2,
            "min": -2,
            "orientation": "horizontal",
            "readout": true,
            "readout_format": ".2f",
            "step": 0.1,
            "style": "IPY_MODEL_d7c24e89ab574bfe87f43f87df3c8414",
            "value": 1.4
          }
        },
        "329ab302a2dc4632802c36f663d11757": {
          "model_module": "@jupyter-widgets/output",
          "model_name": "OutputModel",
          "model_module_version": "1.0.0",
          "state": {
            "_dom_classes": [],
            "_model_module": "@jupyter-widgets/output",
            "_model_module_version": "1.0.0",
            "_model_name": "OutputModel",
            "_view_count": null,
            "_view_module": "@jupyter-widgets/output",
            "_view_module_version": "1.0.0",
            "_view_name": "OutputView",
            "layout": "IPY_MODEL_9219e8cee3b34b37a1f529838cdc5573",
            "msg_id": "",
            "outputs": [
              {
                "output_type": "display_data",
                "data": {
                  "text/plain": "<Figure size 1200x800 with 1 Axes>",
                  "image/png": "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\n"
                },
                "metadata": {}
              }
            ]
          }
        },
        "07bb689e9c364ac989cdbe79971160d8": {
          "model_module": "@jupyter-widgets/base",
          "model_name": "LayoutModel",
          "model_module_version": "1.2.0",
          "state": {
            "_model_module": "@jupyter-widgets/base",
            "_model_module_version": "1.2.0",
            "_model_name": "LayoutModel",
            "_view_count": null,
            "_view_module": "@jupyter-widgets/base",
            "_view_module_version": "1.2.0",
            "_view_name": "LayoutView",
            "align_content": null,
            "align_items": null,
            "align_self": null,
            "border": null,
            "bottom": null,
            "display": null,
            "flex": null,
            "flex_flow": null,
            "grid_area": null,
            "grid_auto_columns": null,
            "grid_auto_flow": null,
            "grid_auto_rows": null,
            "grid_column": null,
            "grid_gap": null,
            "grid_row": null,
            "grid_template_areas": null,
            "grid_template_columns": null,
            "grid_template_rows": null,
            "height": null,
            "justify_content": null,
            "justify_items": null,
            "left": null,
            "margin": null,
            "max_height": null,
            "max_width": null,
            "min_height": null,
            "min_width": null,
            "object_fit": null,
            "object_position": null,
            "order": null,
            "overflow": null,
            "overflow_x": null,
            "overflow_y": null,
            "padding": null,
            "right": null,
            "top": null,
            "visibility": null,
            "width": null
          }
        },
        "a9b0bfe498cc42758b05529d69b359e5": {
          "model_module": "@jupyter-widgets/base",
          "model_name": "LayoutModel",
          "model_module_version": "1.2.0",
          "state": {
            "_model_module": "@jupyter-widgets/base",
            "_model_module_version": "1.2.0",
            "_model_name": "LayoutModel",
            "_view_count": null,
            "_view_module": "@jupyter-widgets/base",
            "_view_module_version": "1.2.0",
            "_view_name": "LayoutView",
            "align_content": null,
            "align_items": null,
            "align_self": null,
            "border": null,
            "bottom": null,
            "display": null,
            "flex": null,
            "flex_flow": null,
            "grid_area": null,
            "grid_auto_columns": null,
            "grid_auto_flow": null,
            "grid_auto_rows": null,
            "grid_column": null,
            "grid_gap": null,
            "grid_row": null,
            "grid_template_areas": null,
            "grid_template_columns": null,
            "grid_template_rows": null,
            "height": null,
            "justify_content": null,
            "justify_items": null,
            "left": null,
            "margin": null,
            "max_height": null,
            "max_width": null,
            "min_height": null,
            "min_width": null,
            "object_fit": null,
            "object_position": null,
            "order": null,
            "overflow": null,
            "overflow_x": null,
            "overflow_y": null,
            "padding": null,
            "right": null,
            "top": null,
            "visibility": null,
            "width": null
          }
        },
        "d7c24e89ab574bfe87f43f87df3c8414": {
          "model_module": "@jupyter-widgets/controls",
          "model_name": "SliderStyleModel",
          "model_module_version": "1.5.0",
          "state": {
            "_model_module": "@jupyter-widgets/controls",
            "_model_module_version": "1.5.0",
            "_model_name": "SliderStyleModel",
            "_view_count": null,
            "_view_module": "@jupyter-widgets/base",
            "_view_module_version": "1.2.0",
            "_view_name": "StyleView",
            "description_width": "",
            "handle_color": null
          }
        },
        "9219e8cee3b34b37a1f529838cdc5573": {
          "model_module": "@jupyter-widgets/base",
          "model_name": "LayoutModel",
          "model_module_version": "1.2.0",
          "state": {
            "_model_module": "@jupyter-widgets/base",
            "_model_module_version": "1.2.0",
            "_model_name": "LayoutModel",
            "_view_count": null,
            "_view_module": "@jupyter-widgets/base",
            "_view_module_version": "1.2.0",
            "_view_name": "LayoutView",
            "align_content": null,
            "align_items": null,
            "align_self": null,
            "border": null,
            "bottom": null,
            "display": null,
            "flex": null,
            "flex_flow": null,
            "grid_area": null,
            "grid_auto_columns": null,
            "grid_auto_flow": null,
            "grid_auto_rows": null,
            "grid_column": null,
            "grid_gap": null,
            "grid_row": null,
            "grid_template_areas": null,
            "grid_template_columns": null,
            "grid_template_rows": null,
            "height": null,
            "justify_content": null,
            "justify_items": null,
            "left": null,
            "margin": null,
            "max_height": null,
            "max_width": null,
            "min_height": null,
            "min_width": null,
            "object_fit": null,
            "object_position": null,
            "order": null,
            "overflow": null,
            "overflow_x": null,
            "overflow_y": null,
            "padding": null,
            "right": null,
            "top": null,
            "visibility": null,
            "width": null
          }
        }
      }
    }
  },
  "nbformat": 4,
  "nbformat_minor": 5
}