{
  "cells": [
    {
      "cell_type": "code",
      "execution_count": 9,
      "metadata": {
        "id": "UVZlK6AjphyK"
      },
      "outputs": [],
      "source": [
        "# Imports\n",
        "import torch\n",
        "from torch import nn, optim\n",
        "import torch.nn.functional as F\n",
        "import matplotlib.pyplot as plt\n",
        "import numpy as np\n",
        "import seaborn as sns\n",
        "from sklearn.model_selection import train_test_split\n",
        "\n",
        "%matplotlib inline"
      ]
    },
    {
      "cell_type": "code",
      "execution_count": 10,
      "metadata": {
        "id": "Zhrag2TVqUut"
      },
      "outputs": [],
      "source": [
        "def seed_all(seed=42):\n",
        "    \"\"\"\n",
        "    Sets the numpy and torch random seed.\n",
        "    \"\"\"\n",
        "    np.random.seed(seed)\n",
        "    torch.random.seed = seed\n",
        "\n",
        "seed_all()"
      ]
    },
    {
      "cell_type": "code",
      "execution_count": 11,
      "metadata": {
        "id": "3i5JbcrJp8Ng"
      },
      "outputs": [],
      "source": [
        "# Create some X data\n",
        "X = np.random.uniform(0, 10, 100)"
      ]
    },
    {
      "cell_type": "code",
      "execution_count": 12,
      "metadata": {
        "id": "uWXuFmJPqglE"
      },
      "outputs": [],
      "source": [
        "# Define the slope (m), bias (b), and some noise we want to add to X to make y\n",
        "m = 3\n",
        "b = 1.8\n",
        "noise = np.random.normal(scale=3, size=100)"
      ]
    },
    {
      "cell_type": "markdown",
      "metadata": {
        "id": "YaATIViIcyK_"
      },
      "source": [
        "# Exercise 2.1\n",
        "\n",
        "Based on your knowledge of linear regression, please use the variables `X`, `m`, `b`, and `noise` to generate a new variable `y`.\n",
        "\n",
        "<!-- startquestion -->"
      ]
    },
    {
      "cell_type": "code",
      "execution_count": 13,
      "metadata": {
        "id": "cCGl3ng2dSRw"
      },
      "outputs": [],
      "source": [
        "y = X*m + b + noise"
      ]
    },
    {
      "cell_type": "code",
      "execution_count": 14,
      "metadata": {
        "colab": {
          "base_uri": "https://localhost:8080/",
          "height": 867
        },
        "id": "6R0i1APRq0SW",
        "outputId": "e24b863b-b092-47a1-a35b-26d0d71ec8f4"
      },
      "outputs": [
        {
          "output_type": "execute_result",
          "data": {
            "text/plain": [
              "<matplotlib.collections.PathCollection at 0x7e466d83a6d0>"
            ]
          },
          "metadata": {},
          "execution_count": 14
        },
        {
          "output_type": "display_data",
          "data": {
            "text/plain": [
              "<Figure size 1000x1000 with 1 Axes>"
            ],
            "image/png": "[encoded data removed]"
          },
          "metadata": {}
        }
      ],
      "source": [
        "fig, ax = plt.subplots(figsize=(10,10))\n",
        "ax.set_xlabel('X')\n",
        "ax.set_ylabel('y')\n",
        "ax.scatter(X, y)"
      ]
    },
    {
      "cell_type": "markdown",
      "metadata": {
        "id": "5mMYN-sAdqc1"
      },
      "source": [
        "# Exercise 2.2\n",
        "\n",
        "Please complete the `mse` function below.\n",
        "There is a sanity check implemented that shoudl let you know if you've implemented the function correctly.\n",
        "\n",
        "<!-- startquestion -->"
      ]
    },
    {
      "cell_type": "code",
      "execution_count": 15,
      "metadata": {
        "id": "duBXRwuidjI0"
      },
      "outputs": [],
      "source": [
        "# Define MSE\n",
        "def mse(predictions:torch.Tensor, actuals:torch.Tensor) -> torch.Tensor:\n",
        "    yhats = predictions\n",
        "    ys = actuals\n",
        "    mse = ((yhats - ys)**2).mean()\n",
        "    return mse\n",
        "    raise NotImplementedError(\"Implement MSE, then remove this line\")"
      ]
    },
    {
      "cell_type": "code",
      "execution_count": 16,
      "metadata": {
        "id": "YXVJjYjQYS-r"
      },
      "outputs": [],
      "source": [
        "ys = torch.tensor([1,2,3])\n",
        "yhats = torch.tensor([1.1, 2.1, 3.1])"
      ]
    },
    {
      "cell_type": "code",
      "execution_count": 18,
      "metadata": {
        "colab": {
          "base_uri": "https://localhost:8080/",
          "height": 141
        },
        "id": "aqjXsI8dr4ba",
        "outputId": "cd82fa1d-545a-47a7-f87d-e830c60005ad"
      },
      "outputs": [
        {
          "output_type": "error",
          "ename": "AssertionError",
          "evalue": "",
          "traceback": [
            "\u001b[0;31m---------------------------------------------------------------------------\u001b[0m",
            "\u001b[0;31mAssertionError\u001b[0m                            Traceback (most recent call last)",
            "\u001b[0;32m/tmp/ipython-input-18-278485530.py\u001b[0m in \u001b[0;36m<cell line: 0>\u001b[0;34m()\u001b[0m\n\u001b[0;32m----> 1\u001b[0;31m \u001b[0;32massert\u001b[0m \u001b[0mmse\u001b[0m\u001b[0;34m(\u001b[0m\u001b[0mys\u001b[0m\u001b[0;34m,\u001b[0m \u001b[0myhats\u001b[0m\u001b[0;34m)\u001b[0m \u001b[0;34m==\u001b[0m \u001b[0;36m0.01\u001b[0m\u001b[0;34m\u001b[0m\u001b[0;34m\u001b[0m\u001b[0m\n\u001b[0m",
            "\u001b[0;31mAssertionError\u001b[0m: "
          ]
        }
      ],
      "source": [
        "assert mse(ys, yhats) == 0.01"
      ]
    },
    {
      "cell_type": "code",
      "execution_count": 19,
      "metadata": {
        "colab": {
          "base_uri": "https://localhost:8080/"
        },
        "id": "JXN3G-Fq4m9a",
        "outputId": "2fc10b76-ebbd-4b7c-a944-3d76aef18edb"
      },
      "outputs": [
        {
          "output_type": "stream",
          "name": "stdout",
          "text": [
            "tensor(0.0100)\n",
            "0.009999989\n"
          ]
        }
      ],
      "source": [
        "print(mse(ys, yhats))\n",
        "print(mse(ys, yhats).numpy())"
      ]
    },
    {
      "cell_type": "code",
      "execution_count": 20,
      "metadata": {
        "id": "T4dfoBM14tOq"
      },
      "outputs": [],
      "source": [
        "assert torch.allclose(mse(ys, yhats), torch.tensor(0.01))"
      ]
    },
    {
      "cell_type": "code",
      "execution_count": 21,
      "metadata": {
        "colab": {
          "base_uri": "https://localhost:8080/"
        },
        "id": "lmtAEb1_YOo6",
        "outputId": "f3c1c9d8-a02f-4035-9870-61ff9bb6c9d9"
      },
      "outputs": [
        {
          "output_type": "execute_result",
          "data": {
            "text/plain": [
              "tensor(0.0100)"
            ]
          },
          "metadata": {},
          "execution_count": 21
        }
      ],
      "source": [
        "# Now that we've defined MSE, let's just use Torch's.\n",
        "mse_loss = nn.MSELoss()\n",
        "mse_loss(ys, yhats)"
      ]
    },
    {
      "cell_type": "code",
      "execution_count": 22,
      "metadata": {
        "colab": {
          "base_uri": "https://localhost:8080/"
        },
        "id": "HROGoKWjY0g1",
        "outputId": "26a3dec0-8d36-4b2a-d187-d164737c8bd5"
      },
      "outputs": [
        {
          "output_type": "execute_result",
          "data": {
            "text/plain": [
              "tensor(0.0100)"
            ]
          },
          "metadata": {},
          "execution_count": 22
        }
      ],
      "source": [
        "# We can also use the functional API to calculate MSE\n",
        "F.mse_loss(ys, yhats)"
      ]
    },
    {
      "cell_type": "code",
      "execution_count": 23,
      "metadata": {
        "id": "_i03QSwHZQFj"
      },
      "outputs": [],
      "source": [
        "from sklearn.linear_model import LinearRegression\n",
        "from sklearn.metrics import mean_squared_error"
      ]
    },
    {
      "cell_type": "markdown",
      "metadata": {
        "id": "1yIFPBzglI7u"
      },
      "source": [
        "# Exercise 2.3\n",
        "\n",
        "In the exercise below, use the notebook to fit a `LinearRegression` model.\n",
        "We will inspect the parameters (the coefficient and intercept), and calculate the mean squared error.\n",
        "In the cells below, complete the exercise to determine the coefficient and intercept learned by a `LinearRegression`.\n",
        "\n",
        "<!-- startquestion -->"
      ]
    },
    {
      "cell_type": "code",
      "execution_count": 26,
      "metadata": {
        "id": "M1rMNqDneidD",
        "colab": {
          "base_uri": "https://localhost:8080/",
          "height": 80
        },
        "outputId": "c0d83b90-bae5-48d8-9bea-0c9c9a385a99"
      },
      "outputs": [
        {
          "output_type": "execute_result",
          "data": {
            "text/plain": [
              "LinearRegression()"
            ],
            "text/html": [
              "<style>#sk-container-id-1 {\n",
              "  /* Definition of color scheme common for light and dark mode */\n",
              "  --sklearn-color-text: #000;\n",
              "  --sklearn-color-text-muted: #666;\n",
              "  --sklearn-color-line: gray;\n",
              "  /* Definition of color scheme for unfitted estimators */\n",
              "  --sklearn-color-unfitted-level-0: #fff5e6;\n",
              "  --sklearn-color-unfitted-level-1: #f6e4d2;\n",
              "  --sklearn-color-unfitted-level-2: #ffe0b3;\n",
              "  --sklearn-color-unfitted-level-3: chocolate;\n",
              "  /* Definition of color scheme for fitted estimators */\n",
              "  --sklearn-color-fitted-level-0: #f0f8ff;\n",
              "  --sklearn-color-fitted-level-1: #d4ebff;\n",
              "  --sklearn-color-fitted-level-2: #b3dbfd;\n",
              "  --sklearn-color-fitted-level-3: cornflowerblue;\n",
              "\n",
              "  /* Specific color for light theme */\n",
              "  --sklearn-color-text-on-default-background: var(--sg-text-color, var(--theme-code-foreground, var(--jp-content-font-color1, black)));\n",
              "  --sklearn-color-background: var(--sg-background-color, var(--theme-background, var(--jp-layout-color0, white)));\n",
              "  --sklearn-color-border-box: var(--sg-text-color, var(--theme-code-foreground, var(--jp-content-font-color1, black)));\n",
              "  --sklearn-color-icon: #696969;\n",
              "\n",
              "  @media (prefers-color-scheme: dark) {\n",
              "    /* Redefinition of color scheme for dark theme */\n",
              "    --sklearn-color-text-on-default-background: var(--sg-text-color, var(--theme-code-foreground, var(--jp-content-font-color1, white)));\n",
              "    --sklearn-color-background: var(--sg-background-color, var(--theme-background, var(--jp-layout-color0, #111)));\n",
              "    --sklearn-color-border-box: var(--sg-text-color, var(--theme-code-foreground, var(--jp-content-font-color1, white)));\n",
              "    --sklearn-color-icon: #878787;\n",
              "  }\n",
              "}\n",
              "\n",
              "#sk-container-id-1 {\n",
              "  color: var(--sklearn-color-text);\n",
              "}\n",
              "\n",
              "#sk-container-id-1 pre {\n",
              "  padding: 0;\n",
              "}\n",
              "\n",
              "#sk-container-id-1 input.sk-hidden--visually {\n",
              "  border: 0;\n",
              "  clip: rect(1px 1px 1px 1px);\n",
              "  clip: rect(1px, 1px, 1px, 1px);\n",
              "  height: 1px;\n",
              "  margin: -1px;\n",
              "  overflow: hidden;\n",
              "  padding: 0;\n",
              "  position: absolute;\n",
              "  width: 1px;\n",
              "}\n",
              "\n",
              "#sk-container-id-1 div.sk-dashed-wrapped {\n",
              "  border: 1px dashed var(--sklearn-color-line);\n",
              "  margin: 0 0.4em 0.5em 0.4em;\n",
              "  box-sizing: border-box;\n",
              "  padding-bottom: 0.4em;\n",
              "  background-color: var(--sklearn-color-background);\n",
              "}\n",
              "\n",
              "#sk-container-id-1 div.sk-container {\n",
              "  /* jupyter's `normalize.less` sets `[hidden] { display: none; }`\n",
              "     but bootstrap.min.css set `[hidden] { display: none !important; }`\n",
              "     so we also need the `!important` here to be able to override the\n",
              "     default hidden behavior on the sphinx rendered scikit-learn.org.\n",
              "     See: https://github.com/scikit-learn/scikit-learn/issues/21755 */\n",
              "  display: inline-block !important;\n",
              "  position: relative;\n",
              "}\n",
              "\n",
              "#sk-container-id-1 div.sk-text-repr-fallback {\n",
              "  display: none;\n",
              "}\n",
              "\n",
              "div.sk-parallel-item,\n",
              "div.sk-serial,\n",
              "div.sk-item {\n",
              "  /* draw centered vertical line to link estimators */\n",
              "  background-image: linear-gradient(var(--sklearn-color-text-on-default-background), var(--sklearn-color-text-on-default-background));\n",
              "  background-size: 2px 100%;\n",
              "  background-repeat: no-repeat;\n",
              "  background-position: center center;\n",
              "}\n",
              "\n",
              "/* Parallel-specific style estimator block */\n",
              "\n",
              "#sk-container-id-1 div.sk-parallel-item::after {\n",
              "  content: \"\";\n",
              "  width: 100%;\n",
              "  border-bottom: 2px solid var(--sklearn-color-text-on-default-background);\n",
              "  flex-grow: 1;\n",
              "}\n",
              "\n",
              "#sk-container-id-1 div.sk-parallel {\n",
              "  display: flex;\n",
              "  align-items: stretch;\n",
              "  justify-content: center;\n",
              "  background-color: var(--sklearn-color-background);\n",
              "  position: relative;\n",
              "}\n",
              "\n",
              "#sk-container-id-1 div.sk-parallel-item {\n",
              "  display: flex;\n",
              "  flex-direction: column;\n",
              "}\n",
              "\n",
              "#sk-container-id-1 div.sk-parallel-item:first-child::after {\n",
              "  align-self: flex-end;\n",
              "  width: 50%;\n",
              "}\n",
              "\n",
              "#sk-container-id-1 div.sk-parallel-item:last-child::after {\n",
              "  align-self: flex-start;\n",
              "  width: 50%;\n",
              "}\n",
              "\n",
              "#sk-container-id-1 div.sk-parallel-item:only-child::after {\n",
              "  width: 0;\n",
              "}\n",
              "\n",
              "/* Serial-specific style estimator block */\n",
              "\n",
              "#sk-container-id-1 div.sk-serial {\n",
              "  display: flex;\n",
              "  flex-direction: column;\n",
              "  align-items: center;\n",
              "  background-color: var(--sklearn-color-background);\n",
              "  padding-right: 1em;\n",
              "  padding-left: 1em;\n",
              "}\n",
              "\n",
              "\n",
              "/* Toggleable style: style used for estimator/Pipeline/ColumnTransformer box that is\n",
              "clickable and can be expanded/collapsed.\n",
              "- Pipeline and ColumnTransformer use this feature and define the default style\n",
              "- Estimators will overwrite some part of the style using the `sk-estimator` class\n",
              "*/\n",
              "\n",
              "/* Pipeline and ColumnTransformer style (default) */\n",
              "\n",
              "#sk-container-id-1 div.sk-toggleable {\n",
              "  /* Default theme specific background. It is overwritten whether we have a\n",
              "  specific estimator or a Pipeline/ColumnTransformer */\n",
              "  background-color: var(--sklearn-color-background);\n",
              "}\n",
              "\n",
              "/* Toggleable label */\n",
              "#sk-container-id-1 label.sk-toggleable__label {\n",
              "  cursor: pointer;\n",
              "  display: flex;\n",
              "  width: 100%;\n",
              "  margin-bottom: 0;\n",
              "  padding: 0.5em;\n",
              "  box-sizing: border-box;\n",
              "  text-align: center;\n",
              "  align-items: start;\n",
              "  justify-content: space-between;\n",
              "  gap: 0.5em;\n",
              "}\n",
              "\n",
              "#sk-container-id-1 label.sk-toggleable__label .caption {\n",
              "  font-size: 0.6rem;\n",
              "  font-weight: lighter;\n",
              "  color: var(--sklearn-color-text-muted);\n",
              "}\n",
              "\n",
              "#sk-container-id-1 label.sk-toggleable__label-arrow:before {\n",
              "  /* Arrow on the left of the label */\n",
              "  content: \"▸\";\n",
              "  float: left;\n",
              "  margin-right: 0.25em;\n",
              "  color: var(--sklearn-color-icon);\n",
              "}\n",
              "\n",
              "#sk-container-id-1 label.sk-toggleable__label-arrow:hover:before {\n",
              "  color: var(--sklearn-color-text);\n",
              "}\n",
              "\n",
              "/* Toggleable content - dropdown */\n",
              "\n",
              "#sk-container-id-1 div.sk-toggleable__content {\n",
              "  max-height: 0;\n",
              "  max-width: 0;\n",
              "  overflow: hidden;\n",
              "  text-align: left;\n",
              "  /* unfitted */\n",
              "  background-color: var(--sklearn-color-unfitted-level-0);\n",
              "}\n",
              "\n",
              "#sk-container-id-1 div.sk-toggleable__content.fitted {\n",
              "  /* fitted */\n",
              "  background-color: var(--sklearn-color-fitted-level-0);\n",
              "}\n",
              "\n",
              "#sk-container-id-1 div.sk-toggleable__content pre {\n",
              "  margin: 0.2em;\n",
              "  border-radius: 0.25em;\n",
              "  color: var(--sklearn-color-text);\n",
              "  /* unfitted */\n",
              "  background-color: var(--sklearn-color-unfitted-level-0);\n",
              "}\n",
              "\n",
              "#sk-container-id-1 div.sk-toggleable__content.fitted pre {\n",
              "  /* unfitted */\n",
              "  background-color: var(--sklearn-color-fitted-level-0);\n",
              "}\n",
              "\n",
              "#sk-container-id-1 input.sk-toggleable__control:checked~div.sk-toggleable__content {\n",
              "  /* Expand drop-down */\n",
              "  max-height: 200px;\n",
              "  max-width: 100%;\n",
              "  overflow: auto;\n",
              "}\n",
              "\n",
              "#sk-container-id-1 input.sk-toggleable__control:checked~label.sk-toggleable__label-arrow:before {\n",
              "  content: \"▾\";\n",
              "}\n",
              "\n",
              "/* Pipeline/ColumnTransformer-specific style */\n",
              "\n",
              "#sk-container-id-1 div.sk-label input.sk-toggleable__control:checked~label.sk-toggleable__label {\n",
              "  color: var(--sklearn-color-text);\n",
              "  background-color: var(--sklearn-color-unfitted-level-2);\n",
              "}\n",
              "\n",
              "#sk-container-id-1 div.sk-label.fitted input.sk-toggleable__control:checked~label.sk-toggleable__label {\n",
              "  background-color: var(--sklearn-color-fitted-level-2);\n",
              "}\n",
              "\n",
              "/* Estimator-specific style */\n",
              "\n",
              "/* Colorize estimator box */\n",
              "#sk-container-id-1 div.sk-estimator input.sk-toggleable__control:checked~label.sk-toggleable__label {\n",
              "  /* unfitted */\n",
              "  background-color: var(--sklearn-color-unfitted-level-2);\n",
              "}\n",
              "\n",
              "#sk-container-id-1 div.sk-estimator.fitted input.sk-toggleable__control:checked~label.sk-toggleable__label {\n",
              "  /* fitted */\n",
              "  background-color: var(--sklearn-color-fitted-level-2);\n",
              "}\n",
              "\n",
              "#sk-container-id-1 div.sk-label label.sk-toggleable__label,\n",
              "#sk-container-id-1 div.sk-label label {\n",
              "  /* The background is the default theme color */\n",
              "  color: var(--sklearn-color-text-on-default-background);\n",
              "}\n",
              "\n",
              "/* On hover, darken the color of the background */\n",
              "#sk-container-id-1 div.sk-label:hover label.sk-toggleable__label {\n",
              "  color: var(--sklearn-color-text);\n",
              "  background-color: var(--sklearn-color-unfitted-level-2);\n",
              "}\n",
              "\n",
              "/* Label box, darken color on hover, fitted */\n",
              "#sk-container-id-1 div.sk-label.fitted:hover label.sk-toggleable__label.fitted {\n",
              "  color: var(--sklearn-color-text);\n",
              "  background-color: var(--sklearn-color-fitted-level-2);\n",
              "}\n",
              "\n",
              "/* Estimator label */\n",
              "\n",
              "#sk-container-id-1 div.sk-label label {\n",
              "  font-family: monospace;\n",
              "  font-weight: bold;\n",
              "  display: inline-block;\n",
              "  line-height: 1.2em;\n",
              "}\n",
              "\n",
              "#sk-container-id-1 div.sk-label-container {\n",
              "  text-align: center;\n",
              "}\n",
              "\n",
              "/* Estimator-specific */\n",
              "#sk-container-id-1 div.sk-estimator {\n",
              "  font-family: monospace;\n",
              "  border: 1px dotted var(--sklearn-color-border-box);\n",
              "  border-radius: 0.25em;\n",
              "  box-sizing: border-box;\n",
              "  margin-bottom: 0.5em;\n",
              "  /* unfitted */\n",
              "  background-color: var(--sklearn-color-unfitted-level-0);\n",
              "}\n",
              "\n",
              "#sk-container-id-1 div.sk-estimator.fitted {\n",
              "  /* fitted */\n",
              "  background-color: var(--sklearn-color-fitted-level-0);\n",
              "}\n",
              "\n",
              "/* on hover */\n",
              "#sk-container-id-1 div.sk-estimator:hover {\n",
              "  /* unfitted */\n",
              "  background-color: var(--sklearn-color-unfitted-level-2);\n",
              "}\n",
              "\n",
              "#sk-container-id-1 div.sk-estimator.fitted:hover {\n",
              "  /* fitted */\n",
              "  background-color: var(--sklearn-color-fitted-level-2);\n",
              "}\n",
              "\n",
              "/* Specification for estimator info (e.g. \"i\" and \"?\") */\n",
              "\n",
              "/* Common style for \"i\" and \"?\" */\n",
              "\n",
              ".sk-estimator-doc-link,\n",
              "a:link.sk-estimator-doc-link,\n",
              "a:visited.sk-estimator-doc-link {\n",
              "  float: right;\n",
              "  font-size: smaller;\n",
              "  line-height: 1em;\n",
              "  font-family: monospace;\n",
              "  background-color: var(--sklearn-color-background);\n",
              "  border-radius: 1em;\n",
              "  height: 1em;\n",
              "  width: 1em;\n",
              "  text-decoration: none !important;\n",
              "  margin-left: 0.5em;\n",
              "  text-align: center;\n",
              "  /* unfitted */\n",
              "  border: var(--sklearn-color-unfitted-level-1) 1pt solid;\n",
              "  color: var(--sklearn-color-unfitted-level-1);\n",
              "}\n",
              "\n",
              ".sk-estimator-doc-link.fitted,\n",
              "a:link.sk-estimator-doc-link.fitted,\n",
              "a:visited.sk-estimator-doc-link.fitted {\n",
              "  /* fitted */\n",
              "  border: var(--sklearn-color-fitted-level-1) 1pt solid;\n",
              "  color: var(--sklearn-color-fitted-level-1);\n",
              "}\n",
              "\n",
              "/* On hover */\n",
              "div.sk-estimator:hover .sk-estimator-doc-link:hover,\n",
              ".sk-estimator-doc-link:hover,\n",
              "div.sk-label-container:hover .sk-estimator-doc-link:hover,\n",
              ".sk-estimator-doc-link:hover {\n",
              "  /* unfitted */\n",
              "  background-color: var(--sklearn-color-unfitted-level-3);\n",
              "  color: var(--sklearn-color-background);\n",
              "  text-decoration: none;\n",
              "}\n",
              "\n",
              "div.sk-estimator.fitted:hover .sk-estimator-doc-link.fitted:hover,\n",
              ".sk-estimator-doc-link.fitted:hover,\n",
              "div.sk-label-container:hover .sk-estimator-doc-link.fitted:hover,\n",
              ".sk-estimator-doc-link.fitted:hover {\n",
              "  /* fitted */\n",
              "  background-color: var(--sklearn-color-fitted-level-3);\n",
              "  color: var(--sklearn-color-background);\n",
              "  text-decoration: none;\n",
              "}\n",
              "\n",
              "/* Span, style for the box shown on hovering the info icon */\n",
              ".sk-estimator-doc-link span {\n",
              "  display: none;\n",
              "  z-index: 9999;\n",
              "  position: relative;\n",
              "  font-weight: normal;\n",
              "  right: .2ex;\n",
              "  padding: .5ex;\n",
              "  margin: .5ex;\n",
              "  width: min-content;\n",
              "  min-width: 20ex;\n",
              "  max-width: 50ex;\n",
              "  color: var(--sklearn-color-text);\n",
              "  box-shadow: 2pt 2pt 4pt #999;\n",
              "  /* unfitted */\n",
              "  background: var(--sklearn-color-unfitted-level-0);\n",
              "  border: .5pt solid var(--sklearn-color-unfitted-level-3);\n",
              "}\n",
              "\n",
              ".sk-estimator-doc-link.fitted span {\n",
              "  /* fitted */\n",
              "  background: var(--sklearn-color-fitted-level-0);\n",
              "  border: var(--sklearn-color-fitted-level-3);\n",
              "}\n",
              "\n",
              ".sk-estimator-doc-link:hover span {\n",
              "  display: block;\n",
              "}\n",
              "\n",
              "/* \"?\"-specific style due to the `<a>` HTML tag */\n",
              "\n",
              "#sk-container-id-1 a.estimator_doc_link {\n",
              "  float: right;\n",
              "  font-size: 1rem;\n",
              "  line-height: 1em;\n",
              "  font-family: monospace;\n",
              "  background-color: var(--sklearn-color-background);\n",
              "  border-radius: 1rem;\n",
              "  height: 1rem;\n",
              "  width: 1rem;\n",
              "  text-decoration: none;\n",
              "  /* unfitted */\n",
              "  color: var(--sklearn-color-unfitted-level-1);\n",
              "  border: var(--sklearn-color-unfitted-level-1) 1pt solid;\n",
              "}\n",
              "\n",
              "#sk-container-id-1 a.estimator_doc_link.fitted {\n",
              "  /* fitted */\n",
              "  border: var(--sklearn-color-fitted-level-1) 1pt solid;\n",
              "  color: var(--sklearn-color-fitted-level-1);\n",
              "}\n",
              "\n",
              "/* On hover */\n",
              "#sk-container-id-1 a.estimator_doc_link:hover {\n",
              "  /* unfitted */\n",
              "  background-color: var(--sklearn-color-unfitted-level-3);\n",
              "  color: var(--sklearn-color-background);\n",
              "  text-decoration: none;\n",
              "}\n",
              "\n",
              "#sk-container-id-1 a.estimator_doc_link.fitted:hover {\n",
              "  /* fitted */\n",
              "  background-color: var(--sklearn-color-fitted-level-3);\n",
              "}\n",
              "</style><div id=\"sk-container-id-1\" class=\"sk-top-container\"><div class=\"sk-text-repr-fallback\"><pre>LinearRegression()</pre><b>In a Jupyter environment, please rerun this cell to show the HTML representation or trust the notebook. <br />On GitHub, the HTML representation is unable to render, please try loading this page with nbviewer.org.</b></div><div class=\"sk-container\" hidden><div class=\"sk-item\"><div class=\"sk-estimator fitted sk-toggleable\"><input class=\"sk-toggleable__control sk-hidden--visually\" id=\"sk-estimator-id-1\" type=\"checkbox\" checked><label for=\"sk-estimator-id-1\" class=\"sk-toggleable__label fitted sk-toggleable__label-arrow\"><div><div>LinearRegression</div></div><div><a class=\"sk-estimator-doc-link fitted\" rel=\"noreferrer\" target=\"_blank\" href=\"https://scikit-learn.org/1.6/modules/generated/sklearn.linear_model.LinearRegression.html\">?<span>Documentation for LinearRegression</span></a><span class=\"sk-estimator-doc-link fitted\">i<span>Fitted</span></span></div></label><div class=\"sk-toggleable__content fitted\"><pre>LinearRegression()</pre></div> </div></div></div></div>"
            ]
          },
          "metadata": {},
          "execution_count": 26
        }
      ],
      "source": [
        "# your code here\n",
        "lr = LinearRegression()\n",
        "lr.fit(X.reshape(-1, 1), y)"
      ]
    },
    {
      "cell_type": "code",
      "execution_count": 27,
      "metadata": {
        "colab": {
          "base_uri": "https://localhost:8080/"
        },
        "id": "Lp5rB1BWZnyE",
        "outputId": "398c37bb-bf2e-49d8-dd0a-35488e2fbace"
      },
      "outputs": [
        {
          "output_type": "execute_result",
          "data": {
            "text/plain": [
              "(array([2.86206803]), np.float64(2.4452884726402466))"
            ]
          },
          "metadata": {},
          "execution_count": 27
        }
      ],
      "source": [
        "# Display the slope and intercept\n",
        "lr.coef_, lr.intercept_"
      ]
    },
    {
      "cell_type": "code",
      "execution_count": 28,
      "metadata": {
        "colab": {
          "base_uri": "https://localhost:8080/"
        },
        "id": "1PAk2Xt3cAEy",
        "outputId": "06490d00-3525-4312-fcab-754eaa00de9d"
      },
      "outputs": [
        {
          "output_type": "execute_result",
          "data": {
            "text/plain": [
              "7.259261075703482"
            ]
          },
          "metadata": {},
          "execution_count": 28
        }
      ],
      "source": [
        "# Calculate the mean squared error\n",
        "mean_squared_error(y, lr.predict(X.reshape(-1, 1)))"
      ]
    },
    {
      "cell_type": "code",
      "execution_count": 29,
      "metadata": {
        "colab": {
          "base_uri": "https://localhost:8080/",
          "height": 867
        },
        "id": "8eIhs0pjZyem",
        "outputId": "a8e724f3-468e-4fd1-b9b8-f816d10b861f"
      },
      "outputs": [
        {
          "output_type": "execute_result",
          "data": {
            "text/plain": [
              "<matplotlib.legend.Legend at 0x7e466d851bd0>"
            ]
          },
          "metadata": {},
          "execution_count": 29
        },
        {
          "output_type": "display_data",
          "data": {
            "text/plain": [
              "<Figure size 1000x1000 with 1 Axes>"
            ],
            "image/png": "[encoded data removed]"
          },
          "metadata": {}
        }
      ],
      "source": [
        "# Plot our line of best fit\n",
        "fig, ax = plt.subplots(figsize=(10,10))\n",
        "ax.set_xlabel('X')\n",
        "ax.set_ylabel('y')\n",
        "ax.scatter(X, y)\n",
        "_x = np.arange(0, 10)\n",
        "_y = _x * lr.coef_[0] + lr.intercept_\n",
        "ax.plot(_x, _y, c='red', label=f\"Line of best fit\")\n",
        "ax.legend()"
      ]
    },
    {
      "cell_type": "code",
      "execution_count": 30,
      "metadata": {
        "id": "zOJ2WiAyxGyo"
      },
      "outputs": [],
      "source": [
        "# Because we're in torch now, let's just turn X and y into tensors.\n",
        "X = torch.tensor(X)\n",
        "y = torch.tensor(y)"
      ]
    },
    {
      "cell_type": "markdown",
      "metadata": {
        "id": "u5Kd4qcgnnK3"
      },
      "source": [
        "# Exercise 2.4\n",
        "\n",
        "In the exercise below, complete the `forward` method.\n",
        "What is the input `X`?\n",
        "How should that be transformed to the output for a linear regression?\n",
        "\n",
        "<!-- startquestion -->"
      ]
    },
    {
      "cell_type": "code",
      "execution_count": 63,
      "metadata": {
        "id": "-2dfhB3fg1Jn"
      },
      "outputs": [],
      "source": [
        "# Build our linear regression model\n",
        "class LinReg(nn.Module):\n",
        "    def __init__(self):\n",
        "        super().__init__()\n",
        "        # Randomly initialize 2 parameters, one for our slope and one for our bias.\n",
        "        self.slope = nn.Parameter(torch.rand(1))\n",
        "        self.bias = nn.Parameter(torch.rand(1))\n",
        "\n",
        "    def forward(self, X):\n",
        "        return X * self.slope + self.bias"
      ]
    },
    {
      "cell_type": "code",
      "execution_count": 64,
      "metadata": {
        "id": "okgeYEnUtfHx"
      },
      "outputs": [],
      "source": [
        "lr = LinReg()"
      ]
    },
    {
      "cell_type": "code",
      "execution_count": 69,
      "metadata": {
        "id": "g5peJppY0Tsm"
      },
      "outputs": [],
      "source": [
        "N_EPOCHS = 1000\n",
        "LR = 1e-2"
      ]
    },
    {
      "cell_type": "code",
      "execution_count": 70,
      "metadata": {
        "colab": {
          "base_uri": "https://localhost:8080/"
        },
        "id": "WGi-JIk-0ZP7",
        "outputId": "ea1d23da-840f-4b2b-e4e2-faf6980d1c6b"
      },
      "outputs": [
        {
          "output_type": "stream",
          "name": "stdout",
          "text": [
            "Epoch 0 Train Loss: 7.2611\n",
            "Epoch 100 Train Loss: 7.2599\n",
            "Epoch 200 Train Loss: 7.2595\n",
            "Epoch 300 Train Loss: 7.2593\n",
            "Epoch 400 Train Loss: 7.2593\n",
            "Epoch 500 Train Loss: 7.2593\n"
          ]
        },
        {
          "output_type": "stream",
          "name": "stderr",
          "text": [
            "/tmp/ipython-input-70-2478317927.py:31: DeprecationWarning: Conversion of an array with ndim > 0 to a scalar is deprecated, and will error in future. Ensure you extract a single element from your array before performing this operation. (Deprecated NumPy 1.25.)\n",
            "  slopes.append(float(lr.slope.data.detach().numpy()))\n",
            "/tmp/ipython-input-70-2478317927.py:32: DeprecationWarning: Conversion of an array with ndim > 0 to a scalar is deprecated, and will error in future. Ensure you extract a single element from your array before performing this operation. (Deprecated NumPy 1.25.)\n",
            "  biases.append(float(lr.bias.data.detach().numpy()))\n"
          ]
        },
        {
          "output_type": "stream",
          "name": "stdout",
          "text": [
            "Epoch 600 Train Loss: 7.2593\n",
            "Epoch 700 Train Loss: 7.2593\n",
            "Epoch 800 Train Loss: 7.2593\n",
            "Epoch 900 Train Loss: 7.2593\n"
          ]
        }
      ],
      "source": [
        "# Initialize lists to store slopes, biases, losses, and alphas for visualization later\n",
        "slopes = []\n",
        "biases = []\n",
        "losses = []\n",
        "_alphas = []\n",
        "\n",
        "# Loop over the number of epochs\n",
        "for i in range(N_EPOCHS):\n",
        "    # Generate predictions using the current model\n",
        "    yhat = lr(X)\n",
        "\n",
        "    # Compute the loss between the predictions and actual values\n",
        "    loss = F.mse_loss(yhat, y)\n",
        "\n",
        "    # Print the loss every 10% of the total epochs\n",
        "    if i % (N_EPOCHS / 10) == 0:\n",
        "        print(f\"Epoch {i} Train Loss: {loss:.04f}\")\n",
        "\n",
        "    # Compute the gradients of the loss with respect to the model parameters\n",
        "    loss.backward()\n",
        "\n",
        "    # Update the model parameters using the computed gradients and the learning rate\n",
        "    lr.slope.data.sub_(lr.slope.grad * LR)\n",
        "    lr.bias.data.sub_(lr.bias.grad * LR)\n",
        "\n",
        "    # Reset the gradients to zero for the next iteration\n",
        "    lr.slope.grad.zero_()\n",
        "    lr.bias.grad.zero_()\n",
        "\n",
        "    # Store the current parameters and loss for visualization later\n",
        "    slopes.append(float(lr.slope.data.detach().numpy()))\n",
        "    biases.append(float(lr.bias.data.detach().numpy()))\n",
        "    losses.append(float(loss.detach().numpy()))\n",
        "    _alphas.append(i / N_EPOCHS)"
      ]
    },
    {
      "cell_type": "code",
      "execution_count": 71,
      "metadata": {
        "colab": {
          "base_uri": "https://localhost:8080/"
        },
        "id": "wgyFeEBudKpF",
        "outputId": "09d2e3e1-a27c-4046-8f4c-92503837d7e5"
      },
      "outputs": [
        {
          "output_type": "execute_result",
          "data": {
            "text/plain": [
              "(Parameter containing:\n",
              " tensor([2.8621], requires_grad=True),\n",
              " Parameter containing:\n",
              " tensor([2.4450], requires_grad=True))"
            ]
          },
          "metadata": {},
          "execution_count": 71
        }
      ],
      "source": [
        "lr.slope, lr.bias"
      ]
    },
    {
      "cell_type": "code",
      "execution_count": 72,
      "metadata": {
        "colab": {
          "base_uri": "https://localhost:8080/",
          "height": 850
        },
        "id": "qrWoCKIV1z4X",
        "outputId": "101d4342-fbcb-4ee8-c04f-08288ef4496b"
      },
      "outputs": [
        {
          "output_type": "display_data",
          "data": {
            "text/plain": [
              "<Figure size 1000x1000 with 1 Axes>"
            ],
            "image/png": "[encoded data removed]"
          },
          "metadata": {}
        }
      ],
      "source": [
        "fig, ax = plt.subplots(figsize=(10,10))\n",
        "ax.set_xlabel('X')\n",
        "ax.set_ylabel('y')\n",
        "ax.scatter(X, y)\n",
        "for s, b, a in zip(slopes, biases, _alphas):\n",
        "    _x = np.arange(0, 10)\n",
        "    _y = _x * s + b\n",
        "    ax.plot(_x, _y, alpha=a, c='red', label=f\"Epoch {int(a)}\")\n"
      ]
    },
    {
      "cell_type": "code",
      "execution_count": 73,
      "metadata": {
        "colab": {
          "base_uri": "https://localhost:8080/",
          "height": 872
        },
        "id": "7gQXK8bw2NL-",
        "outputId": "9f7f1493-e5d9-4705-ac1f-0d607c887e39"
      },
      "outputs": [
        {
          "output_type": "display_data",
          "data": {
            "text/plain": [
              "<Figure size 1400x1000 with 1 Axes>"
            ],
            "image/png": "[encoded data removed]"
          },
          "metadata": {}
        }
      ],
      "source": [
        "fig, ax = plt.subplots(figsize=(14,10))\n",
        "ax.plot(losses)\n",
        "ax.set_xlabel('Epoch')\n",
        "ax.set_ylabel('Loss (MSE)')\n",
        "if (losses[-1] > losses[0]) | np.isnan(losses[-1]):\n",
        "    ax.set_title('Diverging - BAD!')\n",
        "else:\n",
        "    ax.set_title('Converging - goood!')"
      ]
    },
    {
      "cell_type": "markdown",
      "metadata": {
        "id": "kMMiW5YRhCQF"
      },
      "source": [
        "# Exercise 2.5\n",
        "\n",
        "Change the learning rate and number of epochs, then re-run the code up to this point, making sure to re-instantiate your model every time.\n",
        "What do you notice?\n",
        "What happens if you make the learning rate too large or too small?\n",
        "\n",
        "<!-- startquestion -->"
      ]
    },
    {
      "cell_type": "code",
      "execution_count": null,
      "metadata": {
        "id": "1BMXex0Xjlty"
      },
      "outputs": [],
      "source": [
        "# Go back and re-run the code with different hyperparameters."
      ]
    },
    {
      "cell_type": "code",
      "execution_count": 74,
      "metadata": {
        "id": "-VVJBDwN6X-_"
      },
      "outputs": [],
      "source": [
        "# Make yet another fake dataset\n",
        "from sklearn.datasets import make_regression\n",
        "X, y = make_regression(n_samples=1000, n_features=3, n_informative=2, bias=3, noise=2)"
      ]
    },
    {
      "cell_type": "code",
      "execution_count": 75,
      "metadata": {
        "id": "3XHTBONL8APT"
      },
      "outputs": [],
      "source": [
        "# No more bad habits, we need to split our data.\n",
        "X_train, X_valid, y_train, y_valid = (torch.tensor(i).float() for i in train_test_split(X, y, test_size=0.1, random_state=42))"
      ]
    },
    {
      "cell_type": "markdown",
      "metadata": {
        "id": "h9o7gG1hqaey"
      },
      "source": [
        "# Exercise 2.6\n",
        "\n",
        "Complete the exercise below to create a few `nn.Parameter`s for our weights and bias.\n",
        "The `weights` parameter should have the same number of elements as `X_train` has columns, and the `bias` parameter should just be a single value.\n",
        "Use `torch.rand` to generate random numbers to populate the parameters.\n",
        "\n",
        "<!-- startquestion -->"
      ]
    },
    {
      "cell_type": "code",
      "execution_count": null,
      "metadata": {
        "id": "e79s8POBiRaF"
      },
      "outputs": [],
      "source": [
        "# Let's create some temporary weights and biases and test out our matrix operations before we build our model.\n",
        "# Create a weights parameter with 1 beta per column in X\n",
        "weights = ...\n",
        "# Create our bias parameter\n",
        "bias = ..."
      ]
    },
    {
      "cell_type": "code",
      "execution_count": null,
      "metadata": {
        "id": "ZW3sWkn49A9r"
      },
      "outputs": [],
      "source": [
        "# Test out the operation we want to perform in the forward pass\n",
        "torch.matmul(X_train[:10], weights) + bias"
      ]
    },
    {
      "cell_type": "code",
      "execution_count": null,
      "metadata": {
        "id": "y8bauLhD7N8V"
      },
      "outputs": [],
      "source": [
        "# FYI: @ does the same thing as matmul in this context and is easier\n",
        "X_train[:10]@weights + bias"
      ]
    },
    {
      "cell_type": "code",
      "execution_count": null,
      "metadata": {
        "id": "mYRcEdGH8aN3"
      },
      "outputs": [],
      "source": [
        "# Sanity check: different implementations of our forward pass are the same\n",
        "assert (X_train@weights + bias == torch.matmul(X_train, weights) + bias).all()"
      ]
    },
    {
      "cell_type": "code",
      "execution_count": null,
      "metadata": {
        "id": "gNzWV8938wjO"
      },
      "outputs": [],
      "source": [
        "# Let's make our model\n",
        "class LinRegMulti(nn.Module):\n",
        "    def __init__(self, n_cols):\n",
        "        super().__init__()\n",
        "        self.n_cols = n_cols\n",
        "\n",
        "        self.weights = nn.Parameter(torch.rand(self.n_cols))\n",
        "        self.bias = nn.Parameter(torch.rand(1))\n",
        "\n",
        "    def forward(self, X):\n",
        "        return X@self.weights.T + self.bias"
      ]
    },
    {
      "cell_type": "code",
      "execution_count": null,
      "metadata": {
        "id": "wEzQbpnR8hqO"
      },
      "outputs": [],
      "source": [
        "N_EPOCHS = 10000\n",
        "LR = 1e-3"
      ]
    },
    {
      "cell_type": "code",
      "execution_count": null,
      "metadata": {
        "id": "MfWaPFjW9dfb"
      },
      "outputs": [],
      "source": [
        "lrm = LinRegMulti(X_train.shape[1])"
      ]
    },
    {
      "cell_type": "code",
      "execution_count": null,
      "metadata": {
        "id": "UlRs5GF7-CQh"
      },
      "outputs": [],
      "source": [
        "# Instead of updating each parameter individually, let's make an update rule function.\n",
        "def gd_update_rule(parameters, lr):\n",
        "    parameters.data.sub_(parameters.grad * lr)\n",
        "    parameters.grad.zero_()"
      ]
    },
    {
      "cell_type": "code",
      "execution_count": null,
      "metadata": {
        "id": "zzk5omp6-hEX"
      },
      "outputs": [],
      "source": [
        "train_losses = []\n",
        "valid_losses = []"
      ]
    },
    {
      "cell_type": "code",
      "execution_count": null,
      "metadata": {
        "id": "GczinipS9hRz"
      },
      "outputs": [],
      "source": [
        "for i in range(N_EPOCHS):\n",
        "    yhat = lrm(X_train)\n",
        "    loss = mse(yhat, y_train)\n",
        "    loss.backward()\n",
        "    for p in lrm.parameters():\n",
        "        gd_update_rule(p, LR)\n",
        "    train_losses.append(loss.detach().numpy())\n",
        "\n",
        "    with torch.no_grad():\n",
        "        yhat = lrm(X_valid)\n",
        "        valid_loss = mse(yhat, y_valid)\n",
        "        valid_losses.append(valid_loss.numpy())\n",
        "\n",
        "    if i%(N_EPOCHS/10) == 0:\n",
        "        print(f\"Epoch {i} Train Loss: {loss:.04f}, Valid Loss: {valid_loss:.04f}\")"
      ]
    },
    {
      "cell_type": "code",
      "execution_count": null,
      "metadata": {
        "id": "RoVuHW7a9iau"
      },
      "outputs": [],
      "source": [
        "EPOCHS_TO_SHOW = 2000\n",
        "fig, ax = plt.subplots(figsize=(12, 12))\n",
        "ax.plot(train_losses[:EPOCHS_TO_SHOW], label='Train', linewidth=3, alpha=0.5)\n",
        "ax.plot(valid_losses[:EPOCHS_TO_SHOW], ls='--', label='Valid')\n",
        "ax.legend()"
      ]
    },
    {
      "cell_type": "code",
      "execution_count": null,
      "metadata": {
        "id": "nVxNByIg-mas"
      },
      "outputs": [],
      "source": [
        "lrm.weights"
      ]
    },
    {
      "cell_type": "code",
      "execution_count": null,
      "metadata": {
        "id": "fYNLiUqy-yxx"
      },
      "outputs": [],
      "source": [
        "lrm.bias"
      ]
    },
    {
      "cell_type": "code",
      "execution_count": null,
      "metadata": {
        "id": "59HrUTC5_YfS"
      },
      "outputs": [],
      "source": [
        "class Linear(nn.Module):\n",
        "    def __init__(self, dim_in, dim_out):\n",
        "        super().__init__()\n",
        "        self.weights = nn.Parameter(torch.rand((dim_in, dim_out)))\n",
        "        self.bias = nn.Parameter(torch.rand(dim_out))\n",
        "\n",
        "    def forward(self, X):\n",
        "\n",
        "        return X@self.weights + self.bias"
      ]
    },
    {
      "cell_type": "code",
      "execution_count": null,
      "metadata": {
        "id": "glH-bIYp8JxC"
      },
      "outputs": [],
      "source": [
        "# Let's compare our Linear class with nn.Linear\n",
        "l1 = Linear(3, 5)\n",
        "l2 = nn.Linear(3, 5)"
      ]
    },
    {
      "cell_type": "code",
      "execution_count": null,
      "metadata": {
        "id": "SNAS7jI99yGE"
      },
      "outputs": [],
      "source": [
        "l2.weight"
      ]
    },
    {
      "cell_type": "code",
      "execution_count": null,
      "metadata": {
        "id": "QgwbpaGw9wCT"
      },
      "outputs": [],
      "source": [
        "l1.weights"
      ]
    },
    {
      "cell_type": "code",
      "execution_count": null,
      "metadata": {
        "id": "ZHTeLzXP_Rzc"
      },
      "outputs": [],
      "source": [
        "# We need to make sure the weights have the same values.\n",
        "# If they don't, we won't be able to compare the output.\n",
        "# I'm not sure why the Linear layer's weights are transposed,\n",
        "# but we'll see it doesn't matter.\n",
        "l1.weights.data.copy_(l2.weight.T)\n",
        "l1.bias.data.copy_(l2.bias)"
      ]
    },
    {
      "cell_type": "code",
      "execution_count": null,
      "metadata": {
        "id": "LZsxCvsZ8c5R"
      },
      "outputs": [],
      "source": [
        "l1(X_train[:5])"
      ]
    },
    {
      "cell_type": "code",
      "execution_count": null,
      "metadata": {
        "id": "o-l2dsw78oyO"
      },
      "outputs": [],
      "source": [
        "l2(X_train[:5])"
      ]
    },
    {
      "cell_type": "code",
      "execution_count": null,
      "metadata": {
        "id": "OJK1Q27O_cdR"
      },
      "outputs": [],
      "source": [
        "assert (l1(X_train[:5]) == l2(X_train[:5])).all()"
      ]
    },
    {
      "cell_type": "code",
      "execution_count": null,
      "metadata": {
        "id": "iRV8GSei7rt_"
      },
      "outputs": [],
      "source": [
        "%%timeit\n",
        "l1(X_train[:5])"
      ]
    },
    {
      "cell_type": "code",
      "execution_count": null,
      "metadata": {
        "id": "WFOymbqq7wHO"
      },
      "outputs": [],
      "source": [
        "%%timeit\n",
        " l2(X_train[:5])"
      ]
    },
    {
      "cell_type": "code",
      "execution_count": null,
      "metadata": {
        "id": "gE7TAbIG2tjD"
      },
      "outputs": [],
      "source": [
        "rng = torch.arange(-5, 5.01, 0.05)\n",
        "fig, ax = plt.subplots(figsize=(14, 8))\n",
        "ax.plot(rng, F.relu(rng), label='ReLU')\n",
        "ax.plot(rng, torch.tanh(rng), label='tanh')\n",
        "ax.plot(rng, torch.sigmoid(rng), label='sigmoid')\n",
        "ax.plot(rng, F.leaky_relu(rng, negative_slope=0.01), ls='--', label='leaky ReLU')\n",
        "ax.set_ylim(-1.1, 1.1)\n",
        "ax.set_title('Common activation functions')\n",
        "ax.legend()"
      ]
    },
    {
      "cell_type": "code",
      "execution_count": null,
      "metadata": {
        "id": "E1zUoNys_9QL"
      },
      "outputs": [],
      "source": [
        "class MultiLayerRegressor(nn.Module):\n",
        "    def __init__(self, dim_in, hidden_dim):\n",
        "        super().__init__()\n",
        "        # self.first_layer = Linear(dim_in, hidden_dim)\n",
        "        self.first_layer = nn.Linear(dim_in, hidden_dim)\n",
        "        # self.second_layer = Linear(hidden_dim, 1)\n",
        "        self.second_layer = nn.Linear(hidden_dim, 1)\n",
        "\n",
        "    def forward(self, X):\n",
        "        x = self.first_layer(X)\n",
        "        # x = relu(x)\n",
        "        x = F.relu(x)\n",
        "        x = self.second_layer(x)\n",
        "        return x"
      ]
    },
    {
      "cell_type": "code",
      "execution_count": null,
      "metadata": {
        "id": "mc0dA6sxIFoe"
      },
      "outputs": [],
      "source": [
        "def multilayer_regressor(in_dim, hidden_dim):\n",
        "    return nn.Sequential(\n",
        "        nn.Linear(in_dim, hidden_dim),\n",
        "        nn.ReLU(),\n",
        "        nn.Linear(hidden_dim, 1)\n",
        "    )"
      ]
    },
    {
      "cell_type": "code",
      "execution_count": null,
      "metadata": {
        "id": "FKLZZbRBAaBD"
      },
      "outputs": [],
      "source": [
        "# mlr = MultiLayerRegressor(3, 4)\n",
        "mlr = multilayer_regressor(3, 4)"
      ]
    },
    {
      "cell_type": "code",
      "execution_count": null,
      "metadata": {
        "id": "0oaN64-iAwJ4"
      },
      "outputs": [],
      "source": [
        "train_losses = []\n",
        "valid_losses = []"
      ]
    },
    {
      "cell_type": "code",
      "execution_count": null,
      "metadata": {
        "id": "Yt1uzMjZBkWQ"
      },
      "outputs": [],
      "source": [
        "LR = 1e-3\n",
        "N_EPOCHS = 20000"
      ]
    },
    {
      "cell_type": "code",
      "execution_count": null,
      "metadata": {
        "id": "CPuw46kBFdty"
      },
      "outputs": [],
      "source": [
        "# Notice that instead of iterating through our parameters and applying\n",
        "# an update rule, we're just using torch's built in SGD optimizer.\n",
        "opt = optim.SGD(mlr.parameters(), lr=LR)"
      ]
    },
    {
      "cell_type": "code",
      "execution_count": null,
      "metadata": {
        "id": "Bf91-OmaAepE"
      },
      "outputs": [],
      "source": [
        "for i in range(N_EPOCHS):\n",
        "    yhat = mlr(X_train).squeeze()\n",
        "    loss = F.mse_loss(yhat, y_train)\n",
        "    loss.backward()\n",
        "    opt.step()\n",
        "    opt.zero_grad()\n",
        "    train_losses.append(loss.detach().numpy())\n",
        "\n",
        "    with torch.no_grad():\n",
        "        yhat = mlr(X_valid).squeeze()\n",
        "        valid_loss = F.mse_loss(yhat, y_valid)\n",
        "        valid_losses.append(loss.numpy())\n",
        "\n",
        "    if i%(N_EPOCHS/10) == 0:\n",
        "        print(f\"Epoch {i} Train loss: {loss:.04f}, Valid loss: {valid_loss:.04f}\")"
      ]
    },
    {
      "cell_type": "code",
      "execution_count": null,
      "metadata": {
        "id": "1FImQTDQA278"
      },
      "outputs": [],
      "source": [
        "idx=10000\n",
        "fig, ax = plt.subplots(figsize=(12, 12))\n",
        "ax.plot(train_losses[:idx], label='Train', linewidth=3, alpha=0.5)\n",
        "ax.plot(valid_losses[:idx], ls='--', label='Valid')\n",
        "ax.legend()"
      ]
    },
    {
      "cell_type": "code",
      "execution_count": null,
      "metadata": {
        "id": "SXkBM19al6Ge"
      },
      "outputs": [],
      "source": [
        "# Modify the code above to complete the exercise"
      ]
    },
    {
      "cell_type": "code",
      "execution_count": null,
      "metadata": {
        "id": "q-WNsgD3UZlj"
      },
      "outputs": [],
      "source": []
    }
  ],
  "metadata": {
    "colab": {
      "name": "02_Our_first_neural_network_linear_regression.ipynb",
      "provenance": []
    },
    "kernelspec": {
      "display_name": "cndl",
      "language": "python",
      "name": "cndl"
    },
    "language_info": {
      "codemirror_mode": {
        "name": "ipython",
        "version": 3
      },
      "file_extension": ".py",
      "mimetype": "text/x-python",
      "name": "python",
      "nbconvert_exporter": "python",
      "pygments_lexer": "ipython3",
      "version": "3.9.4"
    }
  },
  "nbformat": 4,
  "nbformat_minor": 0
}