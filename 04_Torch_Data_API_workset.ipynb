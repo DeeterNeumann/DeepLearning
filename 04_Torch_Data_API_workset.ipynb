{
  "cells": [
    {
      "cell_type": "code",
      "execution_count": 1,
      "metadata": {
        "id": "LST--PuAXxvU"
      },
      "outputs": [],
      "source": [
        "import pandas as pd\n",
        "import numpy as np\n",
        "from torch.utils.data import Dataset, DataLoader\n",
        "import torch\n",
        "from torch import nn\n",
        "import os\n",
        "from sklearn.preprocessing import StandardScaler\n",
        "from multiprocessing import cpu_count"
      ]
    },
    {
      "cell_type": "code",
      "execution_count": 2,
      "metadata": {
        "id": "irHkC09MZIYs"
      },
      "outputs": [],
      "source": [
        "# Load data into memory\n",
        "# These datasets come come pre-packaged with colab, so it's best to run this lesson there.\n",
        "housing = pd.read_csv('sample_data/california_housing_train.csv')\n",
        "housing_test = pd.read_csv('sample_data/california_housing_test.csv')"
      ]
    },
    {
      "cell_type": "code",
      "execution_count": 3,
      "metadata": {
        "colab": {
          "base_uri": "https://localhost:8080/",
          "height": 226
        },
        "id": "lAhOBwfBcrgg",
        "outputId": "710ba757-c957-41dd-e582-f9464034d53a"
      },
      "outputs": [
        {
          "output_type": "execute_result",
          "data": {
            "text/plain": [
              "   longitude  latitude  housing_median_age  total_rooms  total_bedrooms  \\\n",
              "0    -114.31     34.19                15.0       5612.0          1283.0   \n",
              "1    -114.47     34.40                19.0       7650.0          1901.0   \n",
              "2    -114.56     33.69                17.0        720.0           174.0   \n",
              "3    -114.57     33.64                14.0       1501.0           337.0   \n",
              "4    -114.57     33.57                20.0       1454.0           326.0   \n",
              "\n",
              "   population  households  median_income  median_house_value  \n",
              "0      1015.0       472.0         1.4936             66900.0  \n",
              "1      1129.0       463.0         1.8200             80100.0  \n",
              "2       333.0       117.0         1.6509             85700.0  \n",
              "3       515.0       226.0         3.1917             73400.0  \n",
              "4       624.0       262.0         1.9250             65500.0  "
            ],
            "text/html": [
              "\n",
              "  <div id=\"df-c61e9ee0-4b67-49f2-a0f7-54039457f151\" class=\"colab-df-container\">\n",
              "    <div>\n",
              "<style scoped>\n",
              "    .dataframe tbody tr th:only-of-type {\n",
              "        vertical-align: middle;\n",
              "    }\n",
              "\n",
              "    .dataframe tbody tr th {\n",
              "        vertical-align: top;\n",
              "    }\n",
              "\n",
              "    .dataframe thead th {\n",
              "        text-align: right;\n",
              "    }\n",
              "</style>\n",
              "<table border=\"1\" class=\"dataframe\">\n",
              "  <thead>\n",
              "    <tr style=\"text-align: right;\">\n",
              "      <th></th>\n",
              "      <th>longitude</th>\n",
              "      <th>latitude</th>\n",
              "      <th>housing_median_age</th>\n",
              "      <th>total_rooms</th>\n",
              "      <th>total_bedrooms</th>\n",
              "      <th>population</th>\n",
              "      <th>households</th>\n",
              "      <th>median_income</th>\n",
              "      <th>median_house_value</th>\n",
              "    </tr>\n",
              "  </thead>\n",
              "  <tbody>\n",
              "    <tr>\n",
              "      <th>0</th>\n",
              "      <td>-114.31</td>\n",
              "      <td>34.19</td>\n",
              "      <td>15.0</td>\n",
              "      <td>5612.0</td>\n",
              "      <td>1283.0</td>\n",
              "      <td>1015.0</td>\n",
              "      <td>472.0</td>\n",
              "      <td>1.4936</td>\n",
              "      <td>66900.0</td>\n",
              "    </tr>\n",
              "    <tr>\n",
              "      <th>1</th>\n",
              "      <td>-114.47</td>\n",
              "      <td>34.40</td>\n",
              "      <td>19.0</td>\n",
              "      <td>7650.0</td>\n",
              "      <td>1901.0</td>\n",
              "      <td>1129.0</td>\n",
              "      <td>463.0</td>\n",
              "      <td>1.8200</td>\n",
              "      <td>80100.0</td>\n",
              "    </tr>\n",
              "    <tr>\n",
              "      <th>2</th>\n",
              "      <td>-114.56</td>\n",
              "      <td>33.69</td>\n",
              "      <td>17.0</td>\n",
              "      <td>720.0</td>\n",
              "      <td>174.0</td>\n",
              "      <td>333.0</td>\n",
              "      <td>117.0</td>\n",
              "      <td>1.6509</td>\n",
              "      <td>85700.0</td>\n",
              "    </tr>\n",
              "    <tr>\n",
              "      <th>3</th>\n",
              "      <td>-114.57</td>\n",
              "      <td>33.64</td>\n",
              "      <td>14.0</td>\n",
              "      <td>1501.0</td>\n",
              "      <td>337.0</td>\n",
              "      <td>515.0</td>\n",
              "      <td>226.0</td>\n",
              "      <td>3.1917</td>\n",
              "      <td>73400.0</td>\n",
              "    </tr>\n",
              "    <tr>\n",
              "      <th>4</th>\n",
              "      <td>-114.57</td>\n",
              "      <td>33.57</td>\n",
              "      <td>20.0</td>\n",
              "      <td>1454.0</td>\n",
              "      <td>326.0</td>\n",
              "      <td>624.0</td>\n",
              "      <td>262.0</td>\n",
              "      <td>1.9250</td>\n",
              "      <td>65500.0</td>\n",
              "    </tr>\n",
              "  </tbody>\n",
              "</table>\n",
              "</div>\n",
              "    <div class=\"colab-df-buttons\">\n",
              "\n",
              "  <div class=\"colab-df-container\">\n",
              "    <button class=\"colab-df-convert\" onclick=\"convertToInteractive('df-c61e9ee0-4b67-49f2-a0f7-54039457f151')\"\n",
              "            title=\"Convert this dataframe to an interactive table.\"\n",
              "            style=\"display:none;\">\n",
              "\n",
              "  <svg xmlns=\"http://www.w3.org/2000/svg\" height=\"24px\" viewBox=\"0 -960 960 960\">\n",
              "    <path d=\"M120-120v-720h720v720H120Zm60-500h600v-160H180v160Zm220 220h160v-160H400v160Zm0 220h160v-160H400v160ZM180-400h160v-160H180v160Zm440 0h160v-160H620v160ZM180-180h160v-160H180v160Zm440 0h160v-160H620v160Z\"/>\n",
              "  </svg>\n",
              "    </button>\n",
              "\n",
              "  <style>\n",
              "    .colab-df-container {\n",
              "      display:flex;\n",
              "      gap: 12px;\n",
              "    }\n",
              "\n",
              "    .colab-df-convert {\n",
              "      background-color: #E8F0FE;\n",
              "      border: none;\n",
              "      border-radius: 50%;\n",
              "      cursor: pointer;\n",
              "      display: none;\n",
              "      fill: #1967D2;\n",
              "      height: 32px;\n",
              "      padding: 0 0 0 0;\n",
              "      width: 32px;\n",
              "    }\n",
              "\n",
              "    .colab-df-convert:hover {\n",
              "      background-color: #E2EBFA;\n",
              "      box-shadow: 0px 1px 2px rgba(60, 64, 67, 0.3), 0px 1px 3px 1px rgba(60, 64, 67, 0.15);\n",
              "      fill: #174EA6;\n",
              "    }\n",
              "\n",
              "    .colab-df-buttons div {\n",
              "      margin-bottom: 4px;\n",
              "    }\n",
              "\n",
              "    [theme=dark] .colab-df-convert {\n",
              "      background-color: #3B4455;\n",
              "      fill: #D2E3FC;\n",
              "    }\n",
              "\n",
              "    [theme=dark] .colab-df-convert:hover {\n",
              "      background-color: #434B5C;\n",
              "      box-shadow: 0px 1px 3px 1px rgba(0, 0, 0, 0.15);\n",
              "      filter: drop-shadow(0px 1px 2px rgba(0, 0, 0, 0.3));\n",
              "      fill: #FFFFFF;\n",
              "    }\n",
              "  </style>\n",
              "\n",
              "    <script>\n",
              "      const buttonEl =\n",
              "        document.querySelector('#df-c61e9ee0-4b67-49f2-a0f7-54039457f151 button.colab-df-convert');\n",
              "      buttonEl.style.display =\n",
              "        google.colab.kernel.accessAllowed ? 'block' : 'none';\n",
              "\n",
              "      async function convertToInteractive(key) {\n",
              "        const element = document.querySelector('#df-c61e9ee0-4b67-49f2-a0f7-54039457f151');\n",
              "        const dataTable =\n",
              "          await google.colab.kernel.invokeFunction('convertToInteractive',\n",
              "                                                    [key], {});\n",
              "        if (!dataTable) return;\n",
              "\n",
              "        const docLinkHtml = 'Like what you see? Visit the ' +\n",
              "          '<a target=\"_blank\" href=https://colab.research.google.com/notebooks/data_table.ipynb>data table notebook</a>'\n",
              "          + ' to learn more about interactive tables.';\n",
              "        element.innerHTML = '';\n",
              "        dataTable['output_type'] = 'display_data';\n",
              "        await google.colab.output.renderOutput(dataTable, element);\n",
              "        const docLink = document.createElement('div');\n",
              "        docLink.innerHTML = docLinkHtml;\n",
              "        element.appendChild(docLink);\n",
              "      }\n",
              "    </script>\n",
              "  </div>\n",
              "\n",
              "\n",
              "    <div id=\"df-1478a898-d01d-498d-95b9-be9ba7b46a04\">\n",
              "      <button class=\"colab-df-quickchart\" onclick=\"quickchart('df-1478a898-d01d-498d-95b9-be9ba7b46a04')\"\n",
              "                title=\"Suggest charts\"\n",
              "                style=\"display:none;\">\n",
              "\n",
              "<svg xmlns=\"http://www.w3.org/2000/svg\" height=\"24px\"viewBox=\"0 0 24 24\"\n",
              "     width=\"24px\">\n",
              "    <g>\n",
              "        <path d=\"M19 3H5c-1.1 0-2 .9-2 2v14c0 1.1.9 2 2 2h14c1.1 0 2-.9 2-2V5c0-1.1-.9-2-2-2zM9 17H7v-7h2v7zm4 0h-2V7h2v10zm4 0h-2v-4h2v4z\"/>\n",
              "    </g>\n",
              "</svg>\n",
              "      </button>\n",
              "\n",
              "<style>\n",
              "  .colab-df-quickchart {\n",
              "      --bg-color: #E8F0FE;\n",
              "      --fill-color: #1967D2;\n",
              "      --hover-bg-color: #E2EBFA;\n",
              "      --hover-fill-color: #174EA6;\n",
              "      --disabled-fill-color: #AAA;\n",
              "      --disabled-bg-color: #DDD;\n",
              "  }\n",
              "\n",
              "  [theme=dark] .colab-df-quickchart {\n",
              "      --bg-color: #3B4455;\n",
              "      --fill-color: #D2E3FC;\n",
              "      --hover-bg-color: #434B5C;\n",
              "      --hover-fill-color: #FFFFFF;\n",
              "      --disabled-bg-color: #3B4455;\n",
              "      --disabled-fill-color: #666;\n",
              "  }\n",
              "\n",
              "  .colab-df-quickchart {\n",
              "    background-color: var(--bg-color);\n",
              "    border: none;\n",
              "    border-radius: 50%;\n",
              "    cursor: pointer;\n",
              "    display: none;\n",
              "    fill: var(--fill-color);\n",
              "    height: 32px;\n",
              "    padding: 0;\n",
              "    width: 32px;\n",
              "  }\n",
              "\n",
              "  .colab-df-quickchart:hover {\n",
              "    background-color: var(--hover-bg-color);\n",
              "    box-shadow: 0 1px 2px rgba(60, 64, 67, 0.3), 0 1px 3px 1px rgba(60, 64, 67, 0.15);\n",
              "    fill: var(--button-hover-fill-color);\n",
              "  }\n",
              "\n",
              "  .colab-df-quickchart-complete:disabled,\n",
              "  .colab-df-quickchart-complete:disabled:hover {\n",
              "    background-color: var(--disabled-bg-color);\n",
              "    fill: var(--disabled-fill-color);\n",
              "    box-shadow: none;\n",
              "  }\n",
              "\n",
              "  .colab-df-spinner {\n",
              "    border: 2px solid var(--fill-color);\n",
              "    border-color: transparent;\n",
              "    border-bottom-color: var(--fill-color);\n",
              "    animation:\n",
              "      spin 1s steps(1) infinite;\n",
              "  }\n",
              "\n",
              "  @keyframes spin {\n",
              "    0% {\n",
              "      border-color: transparent;\n",
              "      border-bottom-color: var(--fill-color);\n",
              "      border-left-color: var(--fill-color);\n",
              "    }\n",
              "    20% {\n",
              "      border-color: transparent;\n",
              "      border-left-color: var(--fill-color);\n",
              "      border-top-color: var(--fill-color);\n",
              "    }\n",
              "    30% {\n",
              "      border-color: transparent;\n",
              "      border-left-color: var(--fill-color);\n",
              "      border-top-color: var(--fill-color);\n",
              "      border-right-color: var(--fill-color);\n",
              "    }\n",
              "    40% {\n",
              "      border-color: transparent;\n",
              "      border-right-color: var(--fill-color);\n",
              "      border-top-color: var(--fill-color);\n",
              "    }\n",
              "    60% {\n",
              "      border-color: transparent;\n",
              "      border-right-color: var(--fill-color);\n",
              "    }\n",
              "    80% {\n",
              "      border-color: transparent;\n",
              "      border-right-color: var(--fill-color);\n",
              "      border-bottom-color: var(--fill-color);\n",
              "    }\n",
              "    90% {\n",
              "      border-color: transparent;\n",
              "      border-bottom-color: var(--fill-color);\n",
              "    }\n",
              "  }\n",
              "</style>\n",
              "\n",
              "      <script>\n",
              "        async function quickchart(key) {\n",
              "          const quickchartButtonEl =\n",
              "            document.querySelector('#' + key + ' button');\n",
              "          quickchartButtonEl.disabled = true;  // To prevent multiple clicks.\n",
              "          quickchartButtonEl.classList.add('colab-df-spinner');\n",
              "          try {\n",
              "            const charts = await google.colab.kernel.invokeFunction(\n",
              "                'suggestCharts', [key], {});\n",
              "          } catch (error) {\n",
              "            console.error('Error during call to suggestCharts:', error);\n",
              "          }\n",
              "          quickchartButtonEl.classList.remove('colab-df-spinner');\n",
              "          quickchartButtonEl.classList.add('colab-df-quickchart-complete');\n",
              "        }\n",
              "        (() => {\n",
              "          let quickchartButtonEl =\n",
              "            document.querySelector('#df-1478a898-d01d-498d-95b9-be9ba7b46a04 button');\n",
              "          quickchartButtonEl.style.display =\n",
              "            google.colab.kernel.accessAllowed ? 'block' : 'none';\n",
              "        })();\n",
              "      </script>\n",
              "    </div>\n",
              "\n",
              "    </div>\n",
              "  </div>\n"
            ],
            "application/vnd.google.colaboratory.intrinsic+json": {
              "type": "dataframe",
              "variable_name": "housing",
              "summary": "{\n  \"name\": \"housing\",\n  \"rows\": 17000,\n  \"fields\": [\n    {\n      \"column\": \"longitude\",\n      \"properties\": {\n        \"dtype\": \"number\",\n        \"std\": 2.005166408426173,\n        \"min\": -124.35,\n        \"max\": -114.31,\n        \"num_unique_values\": 827,\n        \"samples\": [\n          -117.56,\n          -123.32,\n          -118.26\n        ],\n        \"semantic_type\": \"\",\n        \"description\": \"\"\n      }\n    },\n    {\n      \"column\": \"latitude\",\n      \"properties\": {\n        \"dtype\": \"number\",\n        \"std\": 2.1373397946570734,\n        \"min\": 32.54,\n        \"max\": 41.95,\n        \"num_unique_values\": 840,\n        \"samples\": [\n          38.44,\n          40.79,\n          32.69\n        ],\n        \"semantic_type\": \"\",\n        \"description\": \"\"\n      }\n    },\n    {\n      \"column\": \"housing_median_age\",\n      \"properties\": {\n        \"dtype\": \"number\",\n        \"std\": 12.586936981660335,\n        \"min\": 1.0,\n        \"max\": 52.0,\n        \"num_unique_values\": 52,\n        \"samples\": [\n          23.0,\n          52.0,\n          47.0\n        ],\n        \"semantic_type\": \"\",\n        \"description\": \"\"\n      }\n    },\n    {\n      \"column\": \"total_rooms\",\n      \"properties\": {\n        \"dtype\": \"number\",\n        \"std\": 2179.947071452768,\n        \"min\": 2.0,\n        \"max\": 37937.0,\n        \"num_unique_values\": 5533,\n        \"samples\": [\n          3564.0,\n          6955.0,\n          5451.0\n        ],\n        \"semantic_type\": \"\",\n        \"description\": \"\"\n      }\n    },\n    {\n      \"column\": \"total_bedrooms\",\n      \"properties\": {\n        \"dtype\": \"number\",\n        \"std\": 421.49945157986514,\n        \"min\": 1.0,\n        \"max\": 6445.0,\n        \"num_unique_values\": 1848,\n        \"samples\": [\n          729.0,\n          719.0,\n          2075.0\n        ],\n        \"semantic_type\": \"\",\n        \"description\": \"\"\n      }\n    },\n    {\n      \"column\": \"population\",\n      \"properties\": {\n        \"dtype\": \"number\",\n        \"std\": 1147.852959159525,\n        \"min\": 3.0,\n        \"max\": 35682.0,\n        \"num_unique_values\": 3683,\n        \"samples\": [\n          249.0,\n          1735.0,\n          235.0\n        ],\n        \"semantic_type\": \"\",\n        \"description\": \"\"\n      }\n    },\n    {\n      \"column\": \"households\",\n      \"properties\": {\n        \"dtype\": \"number\",\n        \"std\": 384.52084085590013,\n        \"min\": 1.0,\n        \"max\": 6082.0,\n        \"num_unique_values\": 1740,\n        \"samples\": [\n          390.0,\n          1089.0,\n          1351.0\n        ],\n        \"semantic_type\": \"\",\n        \"description\": \"\"\n      }\n    },\n    {\n      \"column\": \"median_income\",\n      \"properties\": {\n        \"dtype\": \"number\",\n        \"std\": 1.908156518379093,\n        \"min\": 0.4999,\n        \"max\": 15.0001,\n        \"num_unique_values\": 11175,\n        \"samples\": [\n          7.2655,\n          5.6293,\n          4.2262\n        ],\n        \"semantic_type\": \"\",\n        \"description\": \"\"\n      }\n    },\n    {\n      \"column\": \"median_house_value\",\n      \"properties\": {\n        \"dtype\": \"number\",\n        \"std\": 115983.76438720913,\n        \"min\": 14999.0,\n        \"max\": 500001.0,\n        \"num_unique_values\": 3694,\n        \"samples\": [\n          162300.0,\n          346800.0,\n          116700.0\n        ],\n        \"semantic_type\": \"\",\n        \"description\": \"\"\n      }\n    }\n  ]\n}"
            }
          },
          "metadata": {},
          "execution_count": 3
        }
      ],
      "source": [
        "housing.head()"
      ]
    },
    {
      "cell_type": "code",
      "execution_count": 4,
      "metadata": {
        "colab": {
          "base_uri": "https://localhost:8080/",
          "height": 132
        },
        "id": "vlIjCGoPmLmW",
        "outputId": "488abf79-0214-4347-d655-4fbeb7996b8d"
      },
      "outputs": [
        {
          "output_type": "execute_result",
          "data": {
            "text/plain": [
              "       longitude   latitude  housing_median_age  total_rooms  total_bedrooms  \\\n",
              "mean -119.562108  35.625225           28.589353  2643.664412      539.410824   \n",
              "std     2.005166   2.137340           12.586937  2179.947071      421.499452   \n",
              "\n",
              "       population  households  median_income  median_house_value  \n",
              "mean  1429.573941  501.221941       3.883578       207300.912353  \n",
              "std   1147.852959  384.520841       1.908157       115983.764387  "
            ],
            "text/html": [
              "\n",
              "  <div id=\"df-7fca19fc-9042-44d1-b19c-2fc279cd8d3d\" class=\"colab-df-container\">\n",
              "    <div>\n",
              "<style scoped>\n",
              "    .dataframe tbody tr th:only-of-type {\n",
              "        vertical-align: middle;\n",
              "    }\n",
              "\n",
              "    .dataframe tbody tr th {\n",
              "        vertical-align: top;\n",
              "    }\n",
              "\n",
              "    .dataframe thead th {\n",
              "        text-align: right;\n",
              "    }\n",
              "</style>\n",
              "<table border=\"1\" class=\"dataframe\">\n",
              "  <thead>\n",
              "    <tr style=\"text-align: right;\">\n",
              "      <th></th>\n",
              "      <th>longitude</th>\n",
              "      <th>latitude</th>\n",
              "      <th>housing_median_age</th>\n",
              "      <th>total_rooms</th>\n",
              "      <th>total_bedrooms</th>\n",
              "      <th>population</th>\n",
              "      <th>households</th>\n",
              "      <th>median_income</th>\n",
              "      <th>median_house_value</th>\n",
              "    </tr>\n",
              "  </thead>\n",
              "  <tbody>\n",
              "    <tr>\n",
              "      <th>mean</th>\n",
              "      <td>-119.562108</td>\n",
              "      <td>35.625225</td>\n",
              "      <td>28.589353</td>\n",
              "      <td>2643.664412</td>\n",
              "      <td>539.410824</td>\n",
              "      <td>1429.573941</td>\n",
              "      <td>501.221941</td>\n",
              "      <td>3.883578</td>\n",
              "      <td>207300.912353</td>\n",
              "    </tr>\n",
              "    <tr>\n",
              "      <th>std</th>\n",
              "      <td>2.005166</td>\n",
              "      <td>2.137340</td>\n",
              "      <td>12.586937</td>\n",
              "      <td>2179.947071</td>\n",
              "      <td>421.499452</td>\n",
              "      <td>1147.852959</td>\n",
              "      <td>384.520841</td>\n",
              "      <td>1.908157</td>\n",
              "      <td>115983.764387</td>\n",
              "    </tr>\n",
              "  </tbody>\n",
              "</table>\n",
              "</div>\n",
              "    <div class=\"colab-df-buttons\">\n",
              "\n",
              "  <div class=\"colab-df-container\">\n",
              "    <button class=\"colab-df-convert\" onclick=\"convertToInteractive('df-7fca19fc-9042-44d1-b19c-2fc279cd8d3d')\"\n",
              "            title=\"Convert this dataframe to an interactive table.\"\n",
              "            style=\"display:none;\">\n",
              "\n",
              "  <svg xmlns=\"http://www.w3.org/2000/svg\" height=\"24px\" viewBox=\"0 -960 960 960\">\n",
              "    <path d=\"M120-120v-720h720v720H120Zm60-500h600v-160H180v160Zm220 220h160v-160H400v160Zm0 220h160v-160H400v160ZM180-400h160v-160H180v160Zm440 0h160v-160H620v160ZM180-180h160v-160H180v160Zm440 0h160v-160H620v160Z\"/>\n",
              "  </svg>\n",
              "    </button>\n",
              "\n",
              "  <style>\n",
              "    .colab-df-container {\n",
              "      display:flex;\n",
              "      gap: 12px;\n",
              "    }\n",
              "\n",
              "    .colab-df-convert {\n",
              "      background-color: #E8F0FE;\n",
              "      border: none;\n",
              "      border-radius: 50%;\n",
              "      cursor: pointer;\n",
              "      display: none;\n",
              "      fill: #1967D2;\n",
              "      height: 32px;\n",
              "      padding: 0 0 0 0;\n",
              "      width: 32px;\n",
              "    }\n",
              "\n",
              "    .colab-df-convert:hover {\n",
              "      background-color: #E2EBFA;\n",
              "      box-shadow: 0px 1px 2px rgba(60, 64, 67, 0.3), 0px 1px 3px 1px rgba(60, 64, 67, 0.15);\n",
              "      fill: #174EA6;\n",
              "    }\n",
              "\n",
              "    .colab-df-buttons div {\n",
              "      margin-bottom: 4px;\n",
              "    }\n",
              "\n",
              "    [theme=dark] .colab-df-convert {\n",
              "      background-color: #3B4455;\n",
              "      fill: #D2E3FC;\n",
              "    }\n",
              "\n",
              "    [theme=dark] .colab-df-convert:hover {\n",
              "      background-color: #434B5C;\n",
              "      box-shadow: 0px 1px 3px 1px rgba(0, 0, 0, 0.15);\n",
              "      filter: drop-shadow(0px 1px 2px rgba(0, 0, 0, 0.3));\n",
              "      fill: #FFFFFF;\n",
              "    }\n",
              "  </style>\n",
              "\n",
              "    <script>\n",
              "      const buttonEl =\n",
              "        document.querySelector('#df-7fca19fc-9042-44d1-b19c-2fc279cd8d3d button.colab-df-convert');\n",
              "      buttonEl.style.display =\n",
              "        google.colab.kernel.accessAllowed ? 'block' : 'none';\n",
              "\n",
              "      async function convertToInteractive(key) {\n",
              "        const element = document.querySelector('#df-7fca19fc-9042-44d1-b19c-2fc279cd8d3d');\n",
              "        const dataTable =\n",
              "          await google.colab.kernel.invokeFunction('convertToInteractive',\n",
              "                                                    [key], {});\n",
              "        if (!dataTable) return;\n",
              "\n",
              "        const docLinkHtml = 'Like what you see? Visit the ' +\n",
              "          '<a target=\"_blank\" href=https://colab.research.google.com/notebooks/data_table.ipynb>data table notebook</a>'\n",
              "          + ' to learn more about interactive tables.';\n",
              "        element.innerHTML = '';\n",
              "        dataTable['output_type'] = 'display_data';\n",
              "        await google.colab.output.renderOutput(dataTable, element);\n",
              "        const docLink = document.createElement('div');\n",
              "        docLink.innerHTML = docLinkHtml;\n",
              "        element.appendChild(docLink);\n",
              "      }\n",
              "    </script>\n",
              "  </div>\n",
              "\n",
              "\n",
              "    <div id=\"df-7db6260a-2845-4a74-9146-fc7047a5e62d\">\n",
              "      <button class=\"colab-df-quickchart\" onclick=\"quickchart('df-7db6260a-2845-4a74-9146-fc7047a5e62d')\"\n",
              "                title=\"Suggest charts\"\n",
              "                style=\"display:none;\">\n",
              "\n",
              "<svg xmlns=\"http://www.w3.org/2000/svg\" height=\"24px\"viewBox=\"0 0 24 24\"\n",
              "     width=\"24px\">\n",
              "    <g>\n",
              "        <path d=\"M19 3H5c-1.1 0-2 .9-2 2v14c0 1.1.9 2 2 2h14c1.1 0 2-.9 2-2V5c0-1.1-.9-2-2-2zM9 17H7v-7h2v7zm4 0h-2V7h2v10zm4 0h-2v-4h2v4z\"/>\n",
              "    </g>\n",
              "</svg>\n",
              "      </button>\n",
              "\n",
              "<style>\n",
              "  .colab-df-quickchart {\n",
              "      --bg-color: #E8F0FE;\n",
              "      --fill-color: #1967D2;\n",
              "      --hover-bg-color: #E2EBFA;\n",
              "      --hover-fill-color: #174EA6;\n",
              "      --disabled-fill-color: #AAA;\n",
              "      --disabled-bg-color: #DDD;\n",
              "  }\n",
              "\n",
              "  [theme=dark] .colab-df-quickchart {\n",
              "      --bg-color: #3B4455;\n",
              "      --fill-color: #D2E3FC;\n",
              "      --hover-bg-color: #434B5C;\n",
              "      --hover-fill-color: #FFFFFF;\n",
              "      --disabled-bg-color: #3B4455;\n",
              "      --disabled-fill-color: #666;\n",
              "  }\n",
              "\n",
              "  .colab-df-quickchart {\n",
              "    background-color: var(--bg-color);\n",
              "    border: none;\n",
              "    border-radius: 50%;\n",
              "    cursor: pointer;\n",
              "    display: none;\n",
              "    fill: var(--fill-color);\n",
              "    height: 32px;\n",
              "    padding: 0;\n",
              "    width: 32px;\n",
              "  }\n",
              "\n",
              "  .colab-df-quickchart:hover {\n",
              "    background-color: var(--hover-bg-color);\n",
              "    box-shadow: 0 1px 2px rgba(60, 64, 67, 0.3), 0 1px 3px 1px rgba(60, 64, 67, 0.15);\n",
              "    fill: var(--button-hover-fill-color);\n",
              "  }\n",
              "\n",
              "  .colab-df-quickchart-complete:disabled,\n",
              "  .colab-df-quickchart-complete:disabled:hover {\n",
              "    background-color: var(--disabled-bg-color);\n",
              "    fill: var(--disabled-fill-color);\n",
              "    box-shadow: none;\n",
              "  }\n",
              "\n",
              "  .colab-df-spinner {\n",
              "    border: 2px solid var(--fill-color);\n",
              "    border-color: transparent;\n",
              "    border-bottom-color: var(--fill-color);\n",
              "    animation:\n",
              "      spin 1s steps(1) infinite;\n",
              "  }\n",
              "\n",
              "  @keyframes spin {\n",
              "    0% {\n",
              "      border-color: transparent;\n",
              "      border-bottom-color: var(--fill-color);\n",
              "      border-left-color: var(--fill-color);\n",
              "    }\n",
              "    20% {\n",
              "      border-color: transparent;\n",
              "      border-left-color: var(--fill-color);\n",
              "      border-top-color: var(--fill-color);\n",
              "    }\n",
              "    30% {\n",
              "      border-color: transparent;\n",
              "      border-left-color: var(--fill-color);\n",
              "      border-top-color: var(--fill-color);\n",
              "      border-right-color: var(--fill-color);\n",
              "    }\n",
              "    40% {\n",
              "      border-color: transparent;\n",
              "      border-right-color: var(--fill-color);\n",
              "      border-top-color: var(--fill-color);\n",
              "    }\n",
              "    60% {\n",
              "      border-color: transparent;\n",
              "      border-right-color: var(--fill-color);\n",
              "    }\n",
              "    80% {\n",
              "      border-color: transparent;\n",
              "      border-right-color: var(--fill-color);\n",
              "      border-bottom-color: var(--fill-color);\n",
              "    }\n",
              "    90% {\n",
              "      border-color: transparent;\n",
              "      border-bottom-color: var(--fill-color);\n",
              "    }\n",
              "  }\n",
              "</style>\n",
              "\n",
              "      <script>\n",
              "        async function quickchart(key) {\n",
              "          const quickchartButtonEl =\n",
              "            document.querySelector('#' + key + ' button');\n",
              "          quickchartButtonEl.disabled = true;  // To prevent multiple clicks.\n",
              "          quickchartButtonEl.classList.add('colab-df-spinner');\n",
              "          try {\n",
              "            const charts = await google.colab.kernel.invokeFunction(\n",
              "                'suggestCharts', [key], {});\n",
              "          } catch (error) {\n",
              "            console.error('Error during call to suggestCharts:', error);\n",
              "          }\n",
              "          quickchartButtonEl.classList.remove('colab-df-spinner');\n",
              "          quickchartButtonEl.classList.add('colab-df-quickchart-complete');\n",
              "        }\n",
              "        (() => {\n",
              "          let quickchartButtonEl =\n",
              "            document.querySelector('#df-7db6260a-2845-4a74-9146-fc7047a5e62d button');\n",
              "          quickchartButtonEl.style.display =\n",
              "            google.colab.kernel.accessAllowed ? 'block' : 'none';\n",
              "        })();\n",
              "      </script>\n",
              "    </div>\n",
              "\n",
              "    </div>\n",
              "  </div>\n"
            ],
            "application/vnd.google.colaboratory.intrinsic+json": {
              "type": "dataframe",
              "summary": "{\n  \"name\": \"housing\",\n  \"rows\": 2,\n  \"fields\": [\n    {\n      \"column\": \"longitude\",\n      \"properties\": {\n        \"dtype\": \"number\",\n        \"std\": 85.96104427094204,\n        \"min\": -119.5621082352941,\n        \"max\": 2.005166408426173,\n        \"num_unique_values\": 2,\n        \"samples\": [\n          2.005166408426173,\n          -119.5621082352941\n        ],\n        \"semantic_type\": \"\",\n        \"description\": \"\"\n      }\n    },\n    {\n      \"column\": \"latitude\",\n      \"properties\": {\n        \"dtype\": \"number\",\n        \"std\": 23.67951050832206,\n        \"min\": 2.1373397946570734,\n        \"max\": 35.62522470588235,\n        \"num_unique_values\": 2,\n        \"samples\": [\n          2.1373397946570734,\n          35.62522470588235\n        ],\n        \"semantic_type\": \"\",\n        \"description\": \"\"\n      }\n    },\n    {\n      \"column\": \"housing_median_age\",\n      \"properties\": {\n        \"dtype\": \"number\",\n        \"std\": 11.315416840341694,\n        \"min\": 12.586936981660335,\n        \"max\": 28.58935294117647,\n        \"num_unique_values\": 2,\n        \"samples\": [\n          12.586936981660335,\n          28.58935294117647\n        ],\n        \"semantic_type\": \"\",\n        \"description\": \"\"\n      }\n    },\n    {\n      \"column\": \"total_rooms\",\n      \"properties\": {\n        \"dtype\": \"number\",\n        \"std\": 327.8976758883615,\n        \"min\": 2179.947071452768,\n        \"max\": 2643.664411764706,\n        \"num_unique_values\": 2,\n        \"samples\": [\n          2179.947071452768,\n          2643.664411764706\n        ],\n        \"semantic_type\": \"\",\n        \"description\": \"\"\n      }\n    },\n    {\n      \"column\": \"total_bedrooms\",\n      \"properties\": {\n        \"dtype\": \"number\",\n        \"std\": 83.37593068453371,\n        \"min\": 421.49945157986514,\n        \"max\": 539.4108235294118,\n        \"num_unique_values\": 2,\n        \"samples\": [\n          421.49945157986514,\n          539.4108235294118\n        ],\n        \"semantic_type\": \"\",\n        \"description\": \"\"\n      }\n    },\n    {\n      \"column\": \"population\",\n      \"properties\": {\n        \"dtype\": \"number\",\n        \"std\": 199.2068167867156,\n        \"min\": 1147.852959159525,\n        \"max\": 1429.5739411764705,\n        \"num_unique_values\": 2,\n        \"samples\": [\n          1147.852959159525,\n          1429.5739411764705\n        ],\n        \"semantic_type\": \"\",\n        \"description\": \"\"\n      }\n    },\n    {\n      \"column\": \"households\",\n      \"properties\": {\n        \"dtype\": \"number\",\n        \"std\": 82.52013940860694,\n        \"min\": 384.52084085590013,\n        \"max\": 501.2219411764706,\n        \"num_unique_values\": 2,\n        \"samples\": [\n          384.52084085590013,\n          501.2219411764706\n        ],\n        \"semantic_type\": \"\",\n        \"description\": \"\"\n      }\n    },\n    {\n      \"column\": \"median_income\",\n      \"properties\": {\n        \"dtype\": \"number\",\n        \"std\": 1.396833996066399,\n        \"min\": 1.908156518379093,\n        \"max\": 3.8835781000000007,\n        \"num_unique_values\": 2,\n        \"samples\": [\n          1.908156518379093,\n          3.8835781000000007\n        ],\n        \"semantic_type\": \"\",\n        \"description\": \"\"\n      }\n    },\n    {\n      \"column\": \"median_house_value\",\n      \"properties\": {\n        \"dtype\": \"number\",\n        \"std\": 64570.97456518447,\n        \"min\": 115983.76438720913,\n        \"max\": 207300.91235294117,\n        \"num_unique_values\": 2,\n        \"samples\": [\n          115983.76438720913,\n          207300.91235294117\n        ],\n        \"semantic_type\": \"\",\n        \"description\": \"\"\n      }\n    }\n  ]\n}"
            }
          },
          "metadata": {},
          "execution_count": 4
        }
      ],
      "source": [
        "housing.agg(['mean','std'])"
      ]
    },
    {
      "cell_type": "code",
      "execution_count": 5,
      "metadata": {
        "id": "UwbCL-mzdHHE"
      },
      "outputs": [],
      "source": [
        "x_train = housing.drop('median_house_value', axis=1)\n",
        "y_train = housing.median_house_value.values\n",
        "\n",
        "x_valid = housing_test.drop('median_house_value', axis=1)\n",
        "y_valid = housing_test.median_house_value.values"
      ]
    },
    {
      "cell_type": "code",
      "execution_count": 6,
      "metadata": {
        "id": "M2k1dpohdMCQ"
      },
      "outputs": [],
      "source": [
        "scaler = StandardScaler()\n",
        "x_train_scaled = scaler.fit_transform(x_train)\n",
        "x_valid_scaled = scaler.transform(x_valid)"
      ]
    },
    {
      "cell_type": "code",
      "execution_count": 7,
      "metadata": {
        "id": "mrVbqzsMmgJx"
      },
      "outputs": [],
      "source": [
        "# Check that the means of each column are close to 0\n",
        "assert np.allclose(x_train_scaled.mean(axis=0), np.zeros(x_train_scaled.shape[1]))\n",
        "# Check that the stds of each column are close to 1\n",
        "assert np.allclose(x_train_scaled.std(axis=0), np.ones(x_train_scaled.shape[1]))"
      ]
    },
    {
      "cell_type": "code",
      "execution_count": 8,
      "metadata": {
        "id": "2T2J0jz7dX9s"
      },
      "outputs": [],
      "source": [
        "class HousingDataset(Dataset):\n",
        "    def __init__(self, X, y):\n",
        "        super().__init__()\n",
        "        self.X = X\n",
        "        self.y = y\n",
        "\n",
        "    def __len__(self):\n",
        "        # What are some other ways we could do this?\n",
        "        return len(self.y)\n",
        "\n",
        "    def __getitem__(self, idx):\n",
        "        return self.X[idx], self.y[idx]"
      ]
    },
    {
      "cell_type": "code",
      "execution_count": 9,
      "metadata": {
        "id": "pw23weTVdgH_"
      },
      "outputs": [],
      "source": [
        "train_ds = HousingDataset(x_train_scaled, y_train)\n",
        "valid_ds = HousingDataset(x_valid_scaled, y_valid)"
      ]
    },
    {
      "cell_type": "code",
      "execution_count": 10,
      "metadata": {
        "colab": {
          "base_uri": "https://localhost:8080/"
        },
        "id": "Oa_dtzmE7XAP",
        "outputId": "2699aea1-d600-490e-c258-39219a2c6e5a"
      },
      "outputs": [
        {
          "output_type": "execute_result",
          "data": {
            "text/plain": [
              "(17000, 3000)"
            ]
          },
          "metadata": {},
          "execution_count": 10
        }
      ],
      "source": [
        "# What are the number of items in each dataset?\n",
        "len(train_ds), len(valid_ds)"
      ]
    },
    {
      "cell_type": "code",
      "execution_count": 11,
      "metadata": {
        "id": "CvJh9XDue1wt"
      },
      "outputs": [],
      "source": [
        "# What is the x and y at a given index?\n",
        "idx = 8"
      ]
    },
    {
      "cell_type": "code",
      "execution_count": 12,
      "metadata": {
        "colab": {
          "base_uri": "https://localhost:8080/"
        },
        "id": "taVAR13Cd8Bv",
        "outputId": "2f2cb6a7-a212-454b-bc02-a56cabf65541"
      },
      "outputs": [
        {
          "output_type": "execute_result",
          "data": {
            "text/plain": [
              "(array([ 2.47972161, -0.94289358,  0.42987474,  0.98415173,  1.50796844,\n",
              "         1.48492555,  1.44282004, -0.89375701]),\n",
              " np.float64(58400.0))"
            ]
          },
          "metadata": {},
          "execution_count": 12
        }
      ],
      "source": [
        "x, y = train_ds[idx]\n",
        "x, y"
      ]
    },
    {
      "cell_type": "code",
      "execution_count": 21,
      "metadata": {
        "id": "FihpdFn5o6ps"
      },
      "outputs": [],
      "source": [
        "# Choose an index in your dataset\n",
        "idx = 250\n",
        "# Fetch an item at that index from train_ds\n",
        "x, y = train_ds[idx]\n",
        "# check that the x value is the same as the corresponding value from x_train_scaled at the same index\n",
        "assert np.allclose(x, x_train_scaled[idx]), f\"x values do not match: {x} vs {x_train_scaled[idx]}\"\n",
        "# assert (x == x_train_scaled[idx]).all()\n",
        "# check that the y value is the same as the corresponding value from y_train at the same index\n",
        "assert np.isclose(y, y_train[idx]), f\"y values do not match: {y} vs {y_train[idx]}\"\n",
        "# assert y == y_train_scaled[idx]"
      ]
    },
    {
      "cell_type": "code",
      "execution_count": 22,
      "metadata": {
        "colab": {
          "base_uri": "https://localhost:8080/"
        },
        "id": "hFYhFSjl8v1E",
        "outputId": "aed956d9-66dd-4589-a2e4-06950e7f0495"
      },
      "outputs": [
        {
          "output_type": "stream",
          "name": "stdout",
          "text": [
            "\n",
            "In this example, each batch will contain 64 items.\n",
            "We will use 2 workers to load data more efficiently.\n",
            "\n"
          ]
        }
      ],
      "source": [
        "BATCH_SIZE = 64\n",
        "N_WORKERS = cpu_count()\n",
        "print(f\"\"\"\n",
        "In this example, each batch will contain {BATCH_SIZE} items.\n",
        "We will use {N_WORKERS} workers to load data more efficiently.\n",
        "\"\"\")"
      ]
    },
    {
      "cell_type": "code",
      "execution_count": 23,
      "metadata": {
        "id": "f__XXpSqegyG"
      },
      "outputs": [],
      "source": [
        "train_dl = DataLoader(\n",
        "    train_ds,\n",
        "    batch_size=BATCH_SIZE,\n",
        "    shuffle=True, # We generally want to shuffle the train dataloader\n",
        "    num_workers=N_WORKERS\n",
        ")"
      ]
    },
    {
      "cell_type": "code",
      "execution_count": 24,
      "metadata": {
        "id": "Q_fIo1Faqm03"
      },
      "outputs": [],
      "source": [
        "valid_dl = DataLoader(valid_ds, batch_size=BATCH_SIZE, shuffle=False, num_workers=N_WORKERS)"
      ]
    },
    {
      "cell_type": "code",
      "execution_count": 25,
      "metadata": {
        "id": "qUxUSvzcfWVK"
      },
      "outputs": [],
      "source": [
        "# Pull one batch of data\n",
        "for batch in train_dl:\n",
        "    break\n",
        "\n",
        "\n",
        "# batch = next(iter(train_dl))"
      ]
    },
    {
      "cell_type": "code",
      "execution_count": 26,
      "metadata": {
        "colab": {
          "base_uri": "https://localhost:8080/"
        },
        "id": "JCn6xuYorbD9",
        "outputId": "97701306-4817-41c6-8a74-6d80db8e5c5b"
      },
      "outputs": [
        {
          "output_type": "execute_result",
          "data": {
            "text/plain": [
              "(list, 2)"
            ]
          },
          "metadata": {},
          "execution_count": 26
        }
      ],
      "source": [
        "# What's the type? The length?\n",
        "type(batch), len(batch)"
      ]
    },
    {
      "cell_type": "code",
      "execution_count": 27,
      "metadata": {
        "colab": {
          "base_uri": "https://localhost:8080/"
        },
        "id": "2l6lnnNBrhKt",
        "outputId": "a72988e0-c863-4da0-8e55-71bd804fbf1b"
      },
      "outputs": [
        {
          "output_type": "execute_result",
          "data": {
            "text/plain": [
              "torch.Size([64, 8])"
            ]
          },
          "metadata": {},
          "execution_count": 27
        }
      ],
      "source": [
        "# This looks like our X\n",
        "batch[0].shape"
      ]
    },
    {
      "cell_type": "code",
      "execution_count": 28,
      "metadata": {
        "colab": {
          "base_uri": "https://localhost:8080/"
        },
        "id": "7Yz1yxGnrkFy",
        "outputId": "cab1b02c-3adb-4bae-c1bd-a65d453d1141"
      },
      "outputs": [
        {
          "output_type": "execute_result",
          "data": {
            "text/plain": [
              "torch.Size([64])"
            ]
          },
          "metadata": {},
          "execution_count": 28
        }
      ],
      "source": [
        "# This looks like our y\n",
        "batch[1].shape"
      ]
    },
    {
      "cell_type": "code",
      "execution_count": 29,
      "metadata": {
        "id": "hCJxT_7jAxSU"
      },
      "outputs": [],
      "source": [
        "for x_batch, y_batch in train_dl:\n",
        "    break"
      ]
    },
    {
      "cell_type": "code",
      "execution_count": 30,
      "metadata": {
        "colab": {
          "base_uri": "https://localhost:8080/"
        },
        "id": "_rbn83vLAgJ7",
        "outputId": "e17437d9-6009-4e81-93b3-ae90ccecb851"
      },
      "outputs": [
        {
          "output_type": "execute_result",
          "data": {
            "text/plain": [
              "(torch.Size([64, 8]), torch.Size([64]))"
            ]
          },
          "metadata": {},
          "execution_count": 30
        }
      ],
      "source": [
        "x_batch.shape, y_batch.shape"
      ]
    },
    {
      "cell_type": "code",
      "execution_count": 31,
      "metadata": {
        "colab": {
          "base_uri": "https://localhost:8080/"
        },
        "id": "V5HxCHYefX1P",
        "outputId": "f956b466-d46d-4e17-def8-eff7249b961d"
      },
      "outputs": [
        {
          "output_type": "execute_result",
          "data": {
            "text/plain": [
              "tensor([[-1.3854e+00,  1.1064e+00,  1.0655e+00, -5.1042e-01, -5.0633e-01,\n",
              "         -1.3815e-01, -3.2307e-01, -6.6395e-01],\n",
              "        [ 6.1947e-01, -8.3528e-01,  1.0655e+00, -5.3107e-01, -2.8331e-01,\n",
              "         -4.6399e-01, -3.2307e-01, -1.1848e+00],\n",
              "        [-1.0812e+00,  1.3731e+00,  1.1208e-01,  3.0384e-01,  2.1255e-01,\n",
              "          1.6852e-01,  3.8173e-01, -5.3570e-01],\n",
              "        [-1.3405e+00,  1.1345e+00,  1.1208e-01, -6.3704e-01, -5.7513e-01,\n",
              "         -5.6679e-01, -5.0512e-01, -1.1566e+00],\n",
              "        [ 5.5464e-01, -7.6510e-01,  1.3038e+00, -6.9346e-01, -6.4156e-01,\n",
              "         -6.7569e-01, -6.1695e-01,  3.5833e-01],\n",
              "        [ 6.4441e-01, -8.5867e-01,  8.2712e-01, -5.6272e-01, -4.2803e-01,\n",
              "          1.7796e-02, -3.4907e-01, -5.4367e-01],\n",
              "        [ 1.1531e+00, -1.1300e+00, -1.5564e+00, -3.2096e-01, -1.2197e-01,\n",
              "          4.9000e-01, -1.2541e-01, -9.5256e-01],\n",
              "        [-5.7248e-01,  2.1077e+00, -7.6187e-01, -8.0127e-01, -8.5272e-01,\n",
              "         -1.0050e+00, -1.0175e+00, -4.8644e-01],\n",
              "        [ 7.7408e-01, -6.9959e-01,  7.4767e-01,  3.3503e-01,  3.1220e-01,\n",
              "          4.1507e-01,  3.6092e-01,  9.9220e-02],\n",
              "        [-1.5151e+00,  1.5463e+00, -1.0002e+00, -4.5262e-01, -3.5448e-01,\n",
              "         -7.4713e-01, -5.2072e-01, -1.2614e+00],\n",
              "        [-1.1460e+00,  8.0700e-01,  1.1449e+00, -5.0813e-01, -3.9956e-01,\n",
              "         -1.5122e-01, -3.7508e-01, -5.6788e-01],\n",
              "        [-1.3106e+00,  2.1405e+00,  1.1208e-01,  4.8780e-02, -1.5045e-01,\n",
              "         -1.1637e-01, -9.6804e-02, -1.8504e-01],\n",
              "        [ 9.4863e-01, -1.0037e+00, -5.2352e-01, -8.4163e-01, -8.5272e-01,\n",
              "         -9.5448e-01, -8.9522e-01, -7.8559e-01],\n",
              "        [ 7.8405e-01, -9.1482e-01, -9.2077e-01, -4.3657e-01, -2.6670e-01,\n",
              "         -4.5876e-01, -2.0343e-01, -1.5601e-01],\n",
              "        [ 6.3443e-01, -7.4170e-01,  1.2244e+00, -3.2234e-01,  9.3927e-02,\n",
              "          5.3965e-01,  8.7847e-02, -9.6592e-01],\n",
              "        [-9.8694e-02,  5.2627e-01,  5.0932e-01, -1.3609e-01, -3.1818e-02,\n",
              "          2.1469e-01, -5.2592e-02, -1.1681e+00],\n",
              "        [ 1.2379e+00, -1.3921e+00, -9.2077e-01, -4.8922e-03,  4.0948e-01,\n",
              "          5.0031e-02,  5.0136e-01, -7.0456e-01],\n",
              "        [ 5.7957e-01, -7.6978e-01,  5.8877e-01, -5.3977e-02, -2.0739e-01,\n",
              "         -3.7774e-01, -1.5662e-01,  9.0531e-01],\n",
              "        [-1.2009e+00,  1.0129e+00, -9.2077e-01,  1.3966e+00,  6.7520e-01,\n",
              "          5.9367e-01,  7.0682e-01,  1.4305e+00],\n",
              "        [-7.6699e-01,  1.2655e+00, -1.1591e+00, -5.9024e-01, -6.9376e-01,\n",
              "         -6.3997e-01, -7.2098e-01,  1.6447e-01],\n",
              "        [ 6.4441e-01, -7.8381e-01,  3.2626e-02, -4.8840e-01, -4.4701e-01,\n",
              "         -3.2546e-01, -4.6611e-01, -8.2699e-01],\n",
              "        [ 6.3942e-01, -7.3235e-01, -1.1591e+00, -3.9299e-01,  7.4401e-01,\n",
              "          7.1564e-01,  6.8081e-01, -1.4252e+00],\n",
              "        [ 5.4965e-01, -7.6042e-01,  8.2712e-01, -9.3109e-01, -8.6696e-01,\n",
              "         -7.7675e-01, -8.9002e-01, -8.0152e-01],\n",
              "        [-9.0663e-01,  1.3872e+00,  5.8877e-01, -1.7921e-01, -2.5009e-01,\n",
              "         -3.5857e-01, -1.9563e-01, -3.2702e-01],\n",
              "        [-1.2508e+00,  9.7544e-01,  5.8877e-01,  1.0796e-01, -1.4096e-01,\n",
              "         -1.6952e-01, -1.2021e-01,  5.7467e-01],\n",
              "        [-1.2458e+00,  1.0597e+00, -6.0297e-01,  1.0741e+00,  2.4926e+00,\n",
              "          9.9792e-01,  2.4883e+00, -4.1055e-01],\n",
              "        [-1.2408e+00,  8.0700e-01,  4.2987e-01, -6.8657e-02, -3.9007e-01,\n",
              "         -2.6637e-02, -3.1006e-01,  1.8299e+00],\n",
              "        [-2.2836e-01,  9.8011e-01, -9.2077e-01,  7.4470e-02,  1.4375e-01,\n",
              "         -3.8296e-01, -2.3724e-01, -7.8705e-01],\n",
              "        [-1.2408e+00,  1.2328e+00,  2.7098e-01, -7.2190e-01, -8.0764e-01,\n",
              "         -6.9573e-01, -7.9640e-01, -6.2936e-01],\n",
              "        [-1.3006e+00,  1.0082e+00,  1.6216e+00, -8.0310e-01, -8.5984e-01,\n",
              "         -8.3774e-01, -8.3281e-01, -4.4956e-03],\n",
              "        [ 7.9403e-01, -7.8849e-01,  5.0932e-01, -3.2830e-01, -4.2566e-01,\n",
              "         -3.2546e-01, -3.5167e-01,  1.0782e-01],\n",
              "        [-7.8745e-02,  5.0755e-01, -1.7153e+00, -8.6089e-02, -1.8129e-01,\n",
              "         -6.9326e-02, -2.0083e-01, -4.5369e-01],\n",
              "        [-1.1460e+00,  8.0700e-01,  5.0932e-01, -1.1591e-01,  1.5561e-01,\n",
              "          3.9765e-01,  2.4389e-01, -6.9623e-01],\n",
              "        [ 5.4965e-01, -2.3171e-01, -7.6187e-01,  2.1347e-01,  2.3865e-01,\n",
              "          2.3894e-02,  3.0891e-01, -6.5085e-01],\n",
              "        [ 4.0003e-01, -6.2941e-01, -6.0297e-01,  6.5295e-02, -4.6837e-01,\n",
              "         -2.7493e-01, -4.6611e-01,  1.0347e+00],\n",
              "        [ 7.3917e-01, -7.0427e-01,  4.2987e-01,  1.2722e-01,  2.4103e-01,\n",
              "          9.7076e-02,  1.5807e-01, -1.0528e-01],\n",
              "        [ 7.8405e-01, -9.1482e-01, -1.3180e+00, -1.9068e-01, -1.4333e-01,\n",
              "         -2.6796e-01, -3.4387e-02,  8.1192e-02],\n",
              "        [ 1.2529e+00, -1.2236e+00, -9.2077e-01,  3.6072e-01, -2.7145e-01,\n",
              "          3.3477e-02, -1.7743e-01,  3.5297e+00],\n",
              "        [-5.8796e-02,  5.4966e-01, -1.7153e+00,  9.6948e-02, -5.0798e-02,\n",
              "          2.7742e-01, -8.3794e-03,  1.6929e-01],\n",
              "        [ 1.0534e+00, -7.2767e-01, -6.0297e-01,  3.7678e-01,  2.3628e-01,\n",
              "          7.5136e-01,  3.2971e-01, -2.7686e-01],\n",
              "        [ 6.2945e-01, -7.3702e-01,  5.8877e-01, -4.2235e-01,  7.0202e-02,\n",
              "          2.0424e-01, -5.7721e-04, -1.0226e+00],\n",
              "        [-8.5177e-01,  1.1205e+00,  2.7098e-01, -1.0559e+00, -1.1422e+00,\n",
              "         -1.1252e+00, -1.1683e+00, -4.7245e-01],\n",
              "        [-8.4180e-01,  1.4293e+00, -1.2386e+00, -9.8201e-01, -1.1137e+00,\n",
              "         -1.0129e+00, -1.1033e+00,  1.2110e+00],\n",
              "        [-1.4453e+00,  1.0082e+00,  1.8600e+00, -5.3509e-03,  6.1430e-03,\n",
              "         -5.7129e-02,  1.1125e-01, -2.2173e-01],\n",
              "        [-1.3854e+00,  2.5429e+00,  3.5042e-01, -2.2692e-01, -9.8249e-02,\n",
              "         -6.9573e-01, -5.9354e-01, -1.0492e+00],\n",
              "        [-1.1610e+00,  7.8360e-01,  1.8600e+00, -2.6270e-01, -4.2092e-01,\n",
              "         -5.2672e-01, -3.5688e-01,  1.8753e-01],\n",
              "        [-6.6724e-01,  1.0222e+00, -1.2627e-01,  7.1992e-01,  4.9963e-01,\n",
              "          6.2068e-01,  6.3660e-01, -9.4585e-02],\n",
              "        [ 7.4415e-01, -8.2124e-01, -4.6824e-02, -1.1224e-01, -2.4535e-01,\n",
              "          1.5980e-01, -1.8783e-01, -1.3085e-01],\n",
              "        [-4.5778e-01, -4.5161e-01, -1.9536e+00, -3.4253e-01, -4.9447e-01,\n",
              "         -4.4831e-01, -4.2970e-01,  1.4293e-01],\n",
              "        [ 8.0899e-01, -7.2299e-01,  2.7098e-01,  2.7678e-02, -6.0289e-02,\n",
              "          2.0859e-01, -1.0980e-02,  3.0487e-01],\n",
              "        [ 5.6960e-01, -6.4813e-01,  5.8877e-01, -6.7098e-01, -7.5782e-01,\n",
              "         -5.7028e-01, -7.3658e-01,  4.3982e-01],\n",
              "        [-9.6149e-01,  1.3731e+00,  1.0655e+00, -7.9989e-01, -7.1274e-01,\n",
              "         -8.0463e-01, -7.0277e-01, -1.3638e+00],\n",
              "        [ 6.6934e-01, -8.0721e-01,  1.1208e-01, -7.5080e-01, -6.6292e-01,\n",
              "         -2.7668e-01, -6.8457e-01, -1.1306e+00],\n",
              "        [-1.3455e+00,  1.1111e+00, -1.7947e+00, -9.0173e-01, -1.0330e+00,\n",
              "         -9.6842e-01, -1.0669e+00,  7.0957e-01],\n",
              "        [ 5.9454e-01, -8.0721e-01,  2.7098e-01, -1.0605e+00, -1.0354e+00,\n",
              "         -1.0913e+00, -1.0383e+00, -2.8441e-01],\n",
              "        [ 5.4965e-01, -7.4170e-01, -7.6187e-01,  4.0293e-01,  1.1782e+00,\n",
              "          3.4015e-01,  1.2374e+00, -3.2350e-01],\n",
              "        [-1.1560e+00,  7.9764e-01,  5.8877e-01, -3.3931e-01,  3.5491e-01,\n",
              "          1.8569e+00,  3.4012e-01, -9.3621e-01],\n",
              "        [-1.3405e+00,  1.1626e+00,  1.8600e+00,  9.2819e-02,  3.9287e-01,\n",
              "          7.7910e-02,  3.0891e-01, -8.8359e-01],\n",
              "        [-1.3555e+00,  8.8186e-01,  3.5042e-01,  9.5204e-01,  5.1861e-01,\n",
              "          4.7954e-01,  6.6521e-01,  1.1649e+00],\n",
              "        [-7.2709e-01,  1.6866e+00, -1.0002e+00, -5.5813e-01, -5.2294e-01,\n",
              "         -6.8615e-01, -4.3750e-01, -1.2890e+00],\n",
              "        [ 1.3027e+00, -1.3125e+00, -8.4132e-01,  1.8090e-01,  1.2477e-01,\n",
              "          4.1333e-01,  2.4389e-01, -4.2544e-02],\n",
              "        [-1.4358e-01,  5.6838e-01, -1.3180e+00, -1.7050e-01, -5.5852e-01,\n",
              "         -5.1365e-01, -5.1032e-01,  2.6641e+00],\n",
              "        [-9.2159e-01,  1.4012e+00, -6.0297e-01,  2.8274e-01,  5.3048e-01,\n",
              "          2.6609e-01,  6.1059e-01, -7.1662e-01],\n",
              "        [-1.2358e+00,  1.4293e+00, -2.0572e-01, -7.0218e-01, -7.5307e-01,\n",
              "         -6.4520e-01, -6.9497e-01, -4.3760e-01]], dtype=torch.float64)"
            ]
          },
          "metadata": {},
          "execution_count": 31
        }
      ],
      "source": [
        "x_batch"
      ]
    },
    {
      "cell_type": "code",
      "execution_count": 32,
      "metadata": {
        "colab": {
          "base_uri": "https://localhost:8080/"
        },
        "id": "qmN0W7NCfYS7",
        "outputId": "fcc8b6e5-8deb-47ab-b782-a302eb39dd01"
      },
      "outputs": [
        {
          "output_type": "execute_result",
          "data": {
            "text/plain": [
              "tensor([ 85100., 376100., 145200., 147700., 343100., 172000., 127200.,  89400.,\n",
              "        212300.,  62000., 153300.,  73600., 500001., 262500., 143000.,  49400.,\n",
              "        147000., 456600., 312500., 157800.,  98500., 400000., 235700.,  98700.,\n",
              "        241500., 114300., 388100.,  88100.,  98900., 140600., 215700.,  91600.,\n",
              "        182100.,  94900., 266300., 264100., 350000., 429300.,  88400., 113500.,\n",
              "        161100., 155000., 276100., 441700.,  65800., 284800., 173300., 220100.,\n",
              "        172600., 195400., 183800.,  87500., 115600., 246400., 256300., 337500.,\n",
              "        187500.,  97900., 405000., 125000., 144900., 213900.,  97500.,  83600.],\n",
              "       dtype=torch.float64)"
            ]
          },
          "metadata": {},
          "execution_count": 32
        }
      ],
      "source": [
        "y_batch"
      ]
    },
    {
      "cell_type": "code",
      "execution_count": null,
      "metadata": {
        "id": "Vl-rx_cWHWcq"
      },
      "outputs": [],
      "source": [
        "# We're just using fastai for the datasets for now.\n",
        "# We'll learn how to use it for modeling later on.\n",
        "!pip install -Uqq fastai"
      ]
    },
    {
      "cell_type": "code",
      "execution_count": null,
      "metadata": {
        "id": "T-9Hlz_jDPRZ"
      },
      "outputs": [],
      "source": [
        "# Download and extract the data\n",
        "from fastai.data.all import URLs, untar_data\n",
        "from fastcore.basics import Path\n",
        "from PIL import Image\n",
        "import numpy as np\n",
        "\n",
        "path = untar_data(URLs.CIFAR)"
      ]
    },
    {
      "cell_type": "code",
      "execution_count": null,
      "metadata": {
        "id": "Vb5KvV4GJ2D_"
      },
      "outputs": [],
      "source": [
        "# what files or directories are in the path variable?"
      ]
    },
    {
      "cell_type": "code",
      "execution_count": null,
      "metadata": {
        "id": "dHtDPxWbJ6In"
      },
      "outputs": [],
      "source": [
        "# what is contained in path/'train'?"
      ]
    },
    {
      "cell_type": "code",
      "execution_count": null,
      "metadata": {
        "id": "YtBvqzCgJ-j4"
      },
      "outputs": [],
      "source": [
        "# find the paths for 10 images of airplanes from the train dataset."
      ]
    },
    {
      "cell_type": "code",
      "execution_count": null,
      "metadata": {
        "id": "yJA4e2agJIIj"
      },
      "outputs": [],
      "source": [
        "def list_png_files(path):\n",
        "    return list(path.glob('**/*.png'))"
      ]
    },
    {
      "cell_type": "code",
      "execution_count": null,
      "metadata": {
        "id": "s1ltVn2VG_HU"
      },
      "outputs": [],
      "source": [
        "sample_files = list_png_files(path/'train')[:10]\n",
        "sample_files"
      ]
    },
    {
      "cell_type": "code",
      "execution_count": null,
      "metadata": {
        "id": "OLqc9xFQI_fk"
      },
      "outputs": [],
      "source": [
        "def label_from_path_parent(path:Path) -> str:\n",
        "    return path.parent.name"
      ]
    },
    {
      "cell_type": "code",
      "execution_count": null,
      "metadata": {
        "id": "z-mb_cpQz6E0"
      },
      "outputs": [],
      "source": [
        "# Sanity check for label_from_parent_path\n",
        "assert label_from_path_parent(Path('/root/.fastai/data/cifar10/train/horse/42500_horse.png')) == 'horse'"
      ]
    },
    {
      "cell_type": "code",
      "execution_count": null,
      "metadata": {
        "id": "UvvZpZNPJwh5"
      },
      "outputs": [],
      "source": [
        "def load_image_and_label(path):\n",
        "    img = Image.open(path)\n",
        "    label = label_from_path_parent(path)\n",
        "    return img, label"
      ]
    },
    {
      "cell_type": "code",
      "execution_count": null,
      "metadata": {
        "id": "vTsKfGM4J6Pq"
      },
      "outputs": [],
      "source": [
        "img, label = load_image_and_label(sample_files[0])\n",
        "print(label)\n",
        "img"
      ]
    },
    {
      "cell_type": "code",
      "execution_count": null,
      "metadata": {
        "id": "dF7O4ggkKLAX"
      },
      "outputs": [],
      "source": [
        "# Let's resize this image and inspect what it looks like\n",
        "img.resize((224,224))"
      ]
    },
    {
      "cell_type": "code",
      "execution_count": null,
      "metadata": {
        "id": "gPDJO3iwJpmC"
      },
      "outputs": [],
      "source": [
        "class CifarDataset(Dataset):\n",
        "    def __init__(self, path):\n",
        "        self.path = path\n",
        "        self.files = ...\n",
        "\n",
        "    def __len__(self):\n",
        "        return ...\n",
        "\n",
        "    def __getitem__(self, idx):\n",
        "        return ..."
      ]
    },
    {
      "cell_type": "code",
      "execution_count": null,
      "metadata": {
        "id": "EuPZ_aVKK6za"
      },
      "outputs": [],
      "source": [
        "train_cifar = CifarDataset(path/'train')"
      ]
    },
    {
      "cell_type": "code",
      "execution_count": null,
      "metadata": {
        "id": "DouJ2oSAK-lw"
      },
      "outputs": [],
      "source": [
        "img, label = train_cifar[8000]\n",
        "print(label)\n",
        "img.resize((224, 224))"
      ]
    },
    {
      "cell_type": "code",
      "execution_count": null,
      "metadata": {
        "id": "60Q6K78pLVl3"
      },
      "outputs": [],
      "source": [
        "def img_to_scaled_tensor(img, channels_first=True):\n",
        "    t = torch.tensor(np.array(img) / 255).float()\n",
        "    if channels_first:\n",
        "        return t.permute(2, 0, 1)\n",
        "    return t"
      ]
    },
    {
      "cell_type": "code",
      "execution_count": null,
      "metadata": {
        "id": "Z6Wi6oVXNjSE"
      },
      "outputs": [],
      "source": [
        "img_t = img_to_scaled_tensor(img)\n",
        "img_t.shape"
      ]
    },
    {
      "cell_type": "code",
      "execution_count": null,
      "metadata": {
        "id": "yxjgnzKIL14w"
      },
      "outputs": [],
      "source": [
        "classes = {d.name:i  for i, d in enumerate((path/'train').ls())}\n",
        "classes"
      ]
    },
    {
      "cell_type": "code",
      "execution_count": null,
      "metadata": {
        "id": "_qZYHzV9MA7t"
      },
      "outputs": [],
      "source": [
        "def class_to_idx(class_name):\n",
        "    return classes.get(class_name)"
      ]
    },
    {
      "cell_type": "code",
      "execution_count": null,
      "metadata": {
        "id": "feO5VhKBMdsH"
      },
      "outputs": [],
      "source": [
        "def collate_fn(batch):\n",
        "    # The batch comes in the format ((x1, y1), (x2, y2), ..., (xn, yn)).\n",
        "    # Let's split this up into our xs and our ys.\n",
        "    xs, ys = list(zip(*batch))\n",
        "    # Let's create a tensor that concatenates all our images on a new axis.\n",
        "    # Is there another way to do this?\n",
        "    xs = torch.cat([img_to_scaled_tensor(i).unsqueeze(0) for i in xs], dim=0)\n",
        "    # Let's create another tensor that combines all our class labels.\n",
        "    ys = torch.tensor([class_to_idx(i) for i in ys])\n",
        "\n",
        "    return xs, ys"
      ]
    },
    {
      "cell_type": "code",
      "execution_count": null,
      "metadata": {
        "id": "W4WZRrI2RMkG"
      },
      "outputs": [],
      "source": [
        "# Test the collate function\n",
        "items = (train_cifar[0], train_cifar[1])\n",
        "items"
      ]
    },
    {
      "cell_type": "code",
      "execution_count": null,
      "metadata": {
        "id": "9Yt5u64MRX_f"
      },
      "outputs": [],
      "source": [
        "x_b, y_b = collate_fn(items)"
      ]
    },
    {
      "cell_type": "code",
      "execution_count": null,
      "metadata": {
        "id": "iHuef7duRap2"
      },
      "outputs": [],
      "source": [
        "x_b.shape, y_b.shape"
      ]
    },
    {
      "cell_type": "code",
      "execution_count": null,
      "metadata": {
        "id": "uBx2hrMiPBwt"
      },
      "outputs": [],
      "source": [
        "train_cifar_dl = DataLoader(\n",
        "    train_cifar,\n",
        "    batch_size=BATCH_SIZE,\n",
        "    num_workers=N_WORKERS,\n",
        "    shuffle=True,\n",
        "    collate_fn=collate_fn\n",
        ")"
      ]
    },
    {
      "cell_type": "code",
      "execution_count": null,
      "metadata": {
        "id": "7JEK0-_dPETh"
      },
      "outputs": [],
      "source": [
        "for x_b, y_b in train_cifar_dl:\n",
        "    break"
      ]
    },
    {
      "cell_type": "code",
      "execution_count": null,
      "metadata": {
        "id": "4IJw3fb5NGba"
      },
      "outputs": [],
      "source": [
        "x_b.shape"
      ]
    },
    {
      "cell_type": "code",
      "execution_count": null,
      "metadata": {
        "id": "hjSj5gcVOpb9"
      },
      "outputs": [],
      "source": [
        "y_b.shape"
      ]
    },
    {
      "cell_type": "code",
      "execution_count": null,
      "metadata": {
        "id": "fGbVes-rSI9P"
      },
      "outputs": [],
      "source": []
    }
  ],
  "metadata": {
    "colab": {
      "name": "04_Torch_Data_API.ipynb",
      "provenance": []
    },
    "kernelspec": {
      "display_name": "Python 3",
      "language": "python",
      "name": "python3"
    },
    "language_info": {
      "codemirror_mode": {
        "name": "ipython",
        "version": 3
      },
      "file_extension": ".py",
      "mimetype": "text/x-python",
      "name": "python",
      "nbconvert_exporter": "python",
      "pygments_lexer": "ipython3",
      "version": "3.9.4"
    }
  },
  "nbformat": 4,
  "nbformat_minor": 0
}