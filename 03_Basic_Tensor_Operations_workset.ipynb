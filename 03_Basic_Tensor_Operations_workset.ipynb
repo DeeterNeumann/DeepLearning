{
  "cells": [
    {
      "cell_type": "code",
      "execution_count": 1,
      "metadata": {
        "id": "YN_OuApGfaNk"
      },
      "outputs": [],
      "source": [
        "import torch\n",
        "import matplotlib.pyplot as plt"
      ]
    },
    {
      "cell_type": "code",
      "execution_count": 2,
      "metadata": {
        "id": "wfgIgCezf7Np"
      },
      "outputs": [],
      "source": [
        "def describe_tensor(t):\n",
        "    \"\"\"\n",
        "    Describes a few basic elements about any torch.Tensor.\n",
        "    Prints out shape, number of elements, and rank.\n",
        "    \"\"\"\n",
        "    print(f\"Shape (Tensor.shape): {t.shape}\")\n",
        "    print(f\"Number of elements (Tensor.numel()): {t.numel()}\")\n",
        "    print(f\"Number of dimensions, or rank + 1 (Tensor.ndim): {t.ndim}\")\n",
        "    print(f\"Tensor type (Tensor.dtype): {t.dtype}\")"
      ]
    },
    {
      "cell_type": "code",
      "execution_count": 3,
      "metadata": {
        "colab": {
          "base_uri": "https://localhost:8080/"
        },
        "id": "oirVvHHfffQG",
        "outputId": "4a8b0f4e-9797-406f-d575-f9d3fa027538"
      },
      "outputs": [
        {
          "output_type": "execute_result",
          "data": {
            "text/plain": [
              "tensor(1)"
            ]
          },
          "metadata": {},
          "execution_count": 3
        }
      ],
      "source": [
        "rank0tensor = torch.tensor(1)\n",
        "rank0tensor"
      ]
    },
    {
      "cell_type": "code",
      "execution_count": 4,
      "metadata": {
        "colab": {
          "base_uri": "https://localhost:8080/"
        },
        "id": "jesrSj-1f39S",
        "outputId": "2951193a-5ea9-4bef-b31e-f616cbbd70af"
      },
      "outputs": [
        {
          "output_type": "stream",
          "name": "stdout",
          "text": [
            "Shape (Tensor.shape): torch.Size([])\n",
            "Number of elements (Tensor.numel()): 1\n",
            "Number of dimensions, or rank + 1 (Tensor.ndim): 0\n",
            "Tensor type (Tensor.dtype): torch.int64\n"
          ]
        }
      ],
      "source": [
        "describe_tensor(rank0tensor)"
      ]
    },
    {
      "cell_type": "code",
      "execution_count": 5,
      "metadata": {
        "colab": {
          "base_uri": "https://localhost:8080/"
        },
        "id": "O4Yrr3jCfjmv",
        "outputId": "38ad3938-563d-4e7c-8056-6975d581dacc"
      },
      "outputs": [
        {
          "output_type": "execute_result",
          "data": {
            "text/plain": [
              "tensor([1., 2., 3.])"
            ]
          },
          "metadata": {},
          "execution_count": 5
        }
      ],
      "source": [
        "rank1tensor = torch.tensor([1.,2,3])\n",
        "rank1tensor"
      ]
    },
    {
      "cell_type": "code",
      "execution_count": 6,
      "metadata": {
        "colab": {
          "base_uri": "https://localhost:8080/"
        },
        "id": "B-exG67igb13",
        "outputId": "a9370525-17a4-4a8c-ecf4-b904f79e552c"
      },
      "outputs": [
        {
          "output_type": "stream",
          "name": "stdout",
          "text": [
            "Shape (Tensor.shape): torch.Size([3])\n",
            "Number of elements (Tensor.numel()): 3\n",
            "Number of dimensions, or rank + 1 (Tensor.ndim): 1\n",
            "Tensor type (Tensor.dtype): torch.float32\n"
          ]
        }
      ],
      "source": [
        "describe_tensor(rank1tensor)"
      ]
    },
    {
      "cell_type": "code",
      "execution_count": 7,
      "metadata": {
        "colab": {
          "base_uri": "https://localhost:8080/"
        },
        "id": "OIWFlVYwfnkf",
        "outputId": "a30bed72-eb84-4b44-c046-7ba551e56b58"
      },
      "outputs": [
        {
          "output_type": "execute_result",
          "data": {
            "text/plain": [
              "tensor([[1., 2., 3.],\n",
              "        [4., 5., 6.],\n",
              "        [7., 8., 9.]])"
            ]
          },
          "metadata": {},
          "execution_count": 7
        }
      ],
      "source": [
        "rank2tensor = torch.tensor(\n",
        "    [\n",
        "     [1.,2,3],\n",
        "     [4,5,6],\n",
        "     [7,8,9]\n",
        "    ]\n",
        ")\n",
        "rank2tensor"
      ]
    },
    {
      "cell_type": "code",
      "execution_count": 8,
      "metadata": {
        "colab": {
          "base_uri": "https://localhost:8080/"
        },
        "id": "QxbWJouzgenG",
        "outputId": "19dd3af8-d17b-424a-9d81-6fa207ed1ea7"
      },
      "outputs": [
        {
          "output_type": "stream",
          "name": "stdout",
          "text": [
            "Shape (Tensor.shape): torch.Size([3, 3])\n",
            "Number of elements (Tensor.numel()): 9\n",
            "Number of dimensions, or rank + 1 (Tensor.ndim): 2\n",
            "Tensor type (Tensor.dtype): torch.float32\n"
          ]
        }
      ],
      "source": [
        "describe_tensor(rank2tensor)"
      ]
    },
    {
      "cell_type": "code",
      "execution_count": 9,
      "metadata": {
        "colab": {
          "base_uri": "https://localhost:8080/"
        },
        "id": "Yu4OKI3fggue",
        "outputId": "32e2fce2-cdbb-4091-bfce-24213cc6889f"
      },
      "outputs": [
        {
          "output_type": "execute_result",
          "data": {
            "text/plain": [
              "tensor([[[0.0712, 0.1409, 0.4864],\n",
              "         [0.1888, 0.7116, 0.2082],\n",
              "         [0.5569, 0.7603, 0.6068]],\n",
              "\n",
              "        [[0.4351, 0.6399, 0.9933],\n",
              "         [0.8454, 0.4870, 0.2509],\n",
              "         [0.9519, 0.7376, 0.7208]],\n",
              "\n",
              "        [[0.7316, 0.9466, 0.5627],\n",
              "         [0.5643, 0.9673, 0.9188],\n",
              "         [0.9194, 0.2633, 0.9670]]])"
            ]
          },
          "metadata": {},
          "execution_count": 9
        }
      ],
      "source": [
        "rank3tensor = torch.rand(3, 3, 3)\n",
        "rank3tensor"
      ]
    },
    {
      "cell_type": "code",
      "execution_count": 10,
      "metadata": {
        "colab": {
          "base_uri": "https://localhost:8080/"
        },
        "id": "TOwckWKKgsz1",
        "outputId": "fbc26bd0-77e0-49d0-acbe-cda7e0b0a079"
      },
      "outputs": [
        {
          "output_type": "stream",
          "name": "stdout",
          "text": [
            "Shape (Tensor.shape): torch.Size([3, 3, 3])\n",
            "Number of elements (Tensor.numel()): 27\n",
            "Number of dimensions, or rank + 1 (Tensor.ndim): 3\n",
            "Tensor type (Tensor.dtype): torch.float32\n"
          ]
        }
      ],
      "source": [
        "describe_tensor(rank3tensor)"
      ]
    },
    {
      "cell_type": "code",
      "execution_count": 11,
      "metadata": {
        "colab": {
          "base_uri": "https://localhost:8080/"
        },
        "id": "ORXrY8XRgxUs",
        "outputId": "413fbd2c-7523-4301-acd9-c3d62c280d64"
      },
      "outputs": [
        {
          "output_type": "stream",
          "name": "stdout",
          "text": [
            "Shape (Tensor.shape): torch.Size([3, 3, 3, 3, 3, 3, 3, 3, 3, 3])\n",
            "Number of elements (Tensor.numel()): 59049\n",
            "Number of dimensions, or rank + 1 (Tensor.ndim): 10\n",
            "Tensor type (Tensor.dtype): torch.float32\n"
          ]
        }
      ],
      "source": [
        "# We won't try to visualize this tensor since it doesn't fit neatly into my brain.\n",
        "# This is just to show we can make big tensors, even if we don't have a practical use for them.\n",
        "n_dim = 10\n",
        "describe_tensor(torch.randn(*(tuple([3] * n_dim))))"
      ]
    },
    {
      "cell_type": "markdown",
      "metadata": {
        "id": "Rf509u1C4ZFb"
      },
      "source": [
        "# Exercise 3.1: Torch `dtype`s\n",
        "\n",
        "Read through the [documentation](https://pytorch.org/docs/stable/tensor_attributes.html#torch-dtype) on different tensor types.\n",
        "\n",
        "Create a function that uses the [`Tensor.element_size()`](https://pytorch.org/docs/stable/generated/torch.Tensor.element_size.html#) and `Tensor.numel()` methods to calculate the memory footprint of a tensor in megabytes.\n",
        "There are 1e6 bytes in a megabyte.\n",
        "Then, create at least 3 tensors with the same shape but different `dtype`s like `torch.float16` and `torch.float32`.\n",
        "What's the difference in the memory footprints of the following tensors?\n",
        "\n",
        "<!-- startquestion -->\n"
      ]
    },
    {
      "cell_type": "code",
      "execution_count": 22,
      "metadata": {
        "id": "ZZBZEr1J6s6F"
      },
      "outputs": [],
      "source": [
        "def memory_footprint(tensor):\n",
        "    mb = tensor.element_size() * tensor.numel() / 1e6\n",
        "    return mb\n",
        "    raise NotImplementedError('Implement this function!')"
      ]
    },
    {
      "cell_type": "code",
      "execution_count": 23,
      "metadata": {
        "colab": {
          "base_uri": "https://localhost:8080/"
        },
        "id": "cLYIUTlkvaTr",
        "outputId": "f89de72d-9e07-4ad3-a893-672a730d0eb4"
      },
      "outputs": [
        {
          "output_type": "stream",
          "name": "stdout",
          "text": [
            "\n",
            "    Tensor:\n",
            "    100.0\n",
            "    dtype: torch.float16\n",
            "    memory footprint (MB): 2e-06\n",
            "    ----------------\n",
            "    \n",
            "\n",
            "    Tensor:\n",
            "    100.0\n",
            "    dtype: torch.float32\n",
            "    memory footprint (MB): 4e-06\n",
            "    ----------------\n",
            "    \n",
            "\n",
            "    Tensor:\n",
            "    100\n",
            "    dtype: torch.int32\n",
            "    memory footprint (MB): 4e-06\n",
            "    ----------------\n",
            "    \n",
            "\n",
            "    Tensor:\n",
            "    100\n",
            "    dtype: torch.int64\n",
            "    memory footprint (MB): 8e-06\n",
            "    ----------------\n",
            "    \n"
          ]
        }
      ],
      "source": [
        "tensors = [\n",
        "    torch.tensor(100, dtype=torch.float16),\n",
        "    torch.tensor(100, dtype=torch.float32),\n",
        "    torch.tensor(100, dtype=torch.int32),\n",
        "    torch.tensor(100, dtype=torch.long) # I think this is int64\n",
        "]\n",
        "\n",
        "for t in tensors:\n",
        "    print(f\"\"\"\n",
        "    Tensor:\n",
        "    {t}\n",
        "    dtype: {t.dtype}\n",
        "    memory footprint (MB): {memory_footprint(t)}\n",
        "    ----------------\n",
        "    \"\"\")"
      ]
    },
    {
      "cell_type": "code",
      "execution_count": 24,
      "metadata": {
        "colab": {
          "base_uri": "https://localhost:8080/"
        },
        "id": "PXmQt7lWCUtg",
        "outputId": "56c04222-6059-4a73-dfcb-dad73359074f"
      },
      "outputs": [
        {
          "output_type": "execute_result",
          "data": {
            "text/plain": [
              "tensor([1., 1., 1., 1.])"
            ]
          },
          "metadata": {},
          "execution_count": 24
        }
      ],
      "source": [
        "x = torch.ones(4).float()\n",
        "x"
      ]
    },
    {
      "cell_type": "code",
      "execution_count": 25,
      "metadata": {
        "colab": {
          "base_uri": "https://localhost:8080/"
        },
        "id": "tub5MGNWDBRa",
        "outputId": "19b05806-a127-40ef-ec98-1ba38db68816"
      },
      "outputs": [
        {
          "output_type": "execute_result",
          "data": {
            "text/plain": [
              "tensor([4., 4., 4., 4.])"
            ]
          },
          "metadata": {},
          "execution_count": 25
        }
      ],
      "source": [
        "x * 4"
      ]
    },
    {
      "cell_type": "code",
      "execution_count": 26,
      "metadata": {
        "colab": {
          "base_uri": "https://localhost:8080/"
        },
        "id": "0oub394LDEBl",
        "outputId": "54ea8ad9-ef23-4a26-b405-14afd7668178"
      },
      "outputs": [
        {
          "output_type": "execute_result",
          "data": {
            "text/plain": [
              "tensor([5., 5., 5., 5.])"
            ]
          },
          "metadata": {},
          "execution_count": 26
        }
      ],
      "source": [
        "x + 4"
      ]
    },
    {
      "cell_type": "code",
      "execution_count": 27,
      "metadata": {
        "colab": {
          "base_uri": "https://localhost:8080/"
        },
        "id": "TtFlMX5LDFdz",
        "outputId": "ab07a64d-aa59-42a7-9f85-b288a8fccaee"
      },
      "outputs": [
        {
          "output_type": "execute_result",
          "data": {
            "text/plain": [
              "tensor([-1., -1., -1., -1.])"
            ]
          },
          "metadata": {},
          "execution_count": 27
        }
      ],
      "source": [
        "x - 2"
      ]
    },
    {
      "cell_type": "code",
      "execution_count": 28,
      "metadata": {
        "colab": {
          "base_uri": "https://localhost:8080/"
        },
        "id": "MEnlgHOuDGlQ",
        "outputId": "621dc797-e65c-45ca-9751-a0346af9feaf"
      },
      "outputs": [
        {
          "output_type": "execute_result",
          "data": {
            "text/plain": [
              "tensor([0.2500, 0.2500, 0.2500, 0.2500])"
            ]
          },
          "metadata": {},
          "execution_count": 28
        }
      ],
      "source": [
        "x / 4"
      ]
    },
    {
      "cell_type": "code",
      "execution_count": 29,
      "metadata": {
        "colab": {
          "base_uri": "https://localhost:8080/"
        },
        "id": "TdU_O2ORDl35",
        "outputId": "e37aa6bd-7c52-4edc-cdb4-1cf5287a2037"
      },
      "outputs": [
        {
          "output_type": "execute_result",
          "data": {
            "text/plain": [
              "(tensor([[0.5664, 0.8655],\n",
              "         [0.8023, 0.8976]]),\n",
              " tensor([[0.7836, 0.4461],\n",
              "         [0.9562, 0.3156]]))"
            ]
          },
          "metadata": {},
          "execution_count": 29
        }
      ],
      "source": [
        "x = torch.rand(2,2)\n",
        "y = torch.rand(2,2)\n",
        "x, y"
      ]
    },
    {
      "cell_type": "code",
      "execution_count": null,
      "metadata": {
        "id": "P3ybugeRDrCl"
      },
      "outputs": [],
      "source": [
        "x + y"
      ]
    },
    {
      "cell_type": "code",
      "execution_count": null,
      "metadata": {
        "id": "zXZUTYLHDsV7"
      },
      "outputs": [],
      "source": [
        "x - y"
      ]
    },
    {
      "cell_type": "code",
      "execution_count": null,
      "metadata": {
        "id": "MtCXRnFbDxZ2"
      },
      "outputs": [],
      "source": [
        "x * y"
      ]
    },
    {
      "cell_type": "code",
      "execution_count": null,
      "metadata": {
        "id": "Onlau0_tDysg"
      },
      "outputs": [],
      "source": [
        "x / y"
      ]
    },
    {
      "cell_type": "code",
      "execution_count": null,
      "metadata": {
        "id": "RalqgfDjD0Nx"
      },
      "outputs": [],
      "source": [
        "x = torch.rand(2, 4)\n",
        "y = torch.rand(4)\n",
        "x, y"
      ]
    },
    {
      "cell_type": "code",
      "execution_count": null,
      "metadata": {
        "id": "weIf9RNyU8wr"
      },
      "outputs": [],
      "source": [
        "torch.stack([x[0] * y, x[1] * y])"
      ]
    },
    {
      "cell_type": "code",
      "execution_count": null,
      "metadata": {
        "id": "Pqk2_U_sD4JW"
      },
      "outputs": [],
      "source": [
        "x * y"
      ]
    },
    {
      "cell_type": "code",
      "execution_count": null,
      "metadata": {
        "id": "IUf3fJFyEn4l"
      },
      "outputs": [],
      "source": [
        "x = torch.rand(3, 2, 4)\n",
        "x"
      ]
    },
    {
      "cell_type": "code",
      "execution_count": null,
      "metadata": {
        "id": "n-8_uK76VQaZ"
      },
      "outputs": [],
      "source": [
        "torch.stack([torch.stack([i * y for i in a]) for a in x])"
      ]
    },
    {
      "cell_type": "code",
      "execution_count": null,
      "metadata": {
        "id": "BdkIij6qJmQ_"
      },
      "outputs": [],
      "source": [
        "x * y"
      ]
    },
    {
      "cell_type": "code",
      "execution_count": null,
      "metadata": {
        "id": "BtQjJwU8pygJ"
      },
      "outputs": [],
      "source": [
        "x = torch.tensor([1, 2, 3, 4])\n",
        "y = torch.tensor([2, 3, 4, 5])"
      ]
    },
    {
      "cell_type": "code",
      "execution_count": null,
      "metadata": {
        "id": "C4sxHFjCKzrD"
      },
      "outputs": [],
      "source": [
        "# Let's do this using element-wise operations\n",
        "(x * y).sum()"
      ]
    },
    {
      "cell_type": "code",
      "execution_count": null,
      "metadata": {
        "id": "XhUqjR2-p-M_"
      },
      "outputs": [],
      "source": [
        "# torch.matmul does matrix multiplication.\n",
        "torch.matmul(x, y)"
      ]
    },
    {
      "cell_type": "code",
      "execution_count": null,
      "metadata": {
        "id": "uaDdfNlfp9HV"
      },
      "outputs": [],
      "source": [
        "# @ is shorthand for matrix multiplication as well.\n",
        "x@y"
      ]
    },
    {
      "cell_type": "code",
      "execution_count": null,
      "metadata": {
        "id": "b5hCp0rfLfSt"
      },
      "outputs": [],
      "source": [
        "y@x"
      ]
    },
    {
      "cell_type": "code",
      "execution_count": null,
      "metadata": {
        "id": "AcaOBkxOYDlt"
      },
      "outputs": [],
      "source": [
        "assert x@y == y@x == torch.matmul(x,y) == (x * y).sum()"
      ]
    },
    {
      "cell_type": "code",
      "execution_count": null,
      "metadata": {
        "id": "KBjsj76RqvR0"
      },
      "outputs": [],
      "source": [
        "X = torch.tensor([[1, 2], [3, 4]])\n",
        "Y = torch.tensor([[2, 3, 4], [5, 6, 7]])"
      ]
    },
    {
      "cell_type": "code",
      "execution_count": null,
      "metadata": {
        "id": "tyb7F-9Hs40g"
      },
      "outputs": [],
      "source": [
        "X@Y"
      ]
    },
    {
      "cell_type": "code",
      "execution_count": null,
      "metadata": {
        "id": "osQMTXao5n08"
      },
      "outputs": [],
      "source": [
        "(torch.randn(16, 3, 3, 3) @ torch.randn(3, 3, 12)).shape"
      ]
    },
    {
      "cell_type": "markdown",
      "metadata": {
        "id": "uXh7RbC6tGsp"
      },
      "source": [
        "# Exercise 3.2: matrix multiplication\n",
        "\n",
        "Previously, we tried to multiply `X@Y`.\n",
        "Will `Y@X` work?\n",
        "Why or why not?\n",
        "\n",
        "In the cell below, define `B`  using `torch.rand` so that `A@B` returns a tensor with shape (4, 7).\n",
        "\n",
        "<!-- startquestion -->"
      ]
    },
    {
      "cell_type": "code",
      "execution_count": null,
      "metadata": {
        "id": "3HgK5T6RtN3n"
      },
      "outputs": [],
      "source": [
        "A = torch.rand(4, 2)\n",
        "B = ..."
      ]
    },
    {
      "cell_type": "code",
      "execution_count": null,
      "metadata": {
        "id": "_d_BiKLJD0s9"
      },
      "outputs": [],
      "source": [
        "if not isinstance(B, type(...)):\n",
        "    assert (A@B).shape == (4, 7)\n",
        "else:\n",
        "    print('Please define B such that (A@B).shape = (4, 7)')"
      ]
    },
    {
      "cell_type": "code",
      "execution_count": null,
      "metadata": {
        "id": "orXRC7LsrRBv"
      },
      "outputs": [],
      "source": [
        "X = torch.tensor(list(range(27))).reshape(3,3,3)\n",
        "X"
      ]
    },
    {
      "cell_type": "code",
      "execution_count": null,
      "metadata": {
        "id": "Ow1QpNZFrW5l"
      },
      "outputs": [],
      "source": [
        "X.sum()"
      ]
    },
    {
      "cell_type": "code",
      "execution_count": null,
      "metadata": {
        "id": "YfZ1IVRBrdC9"
      },
      "outputs": [],
      "source": [
        "# Change the dim parameter to see how the results change\n",
        "X.sum(dim=0)"
      ]
    },
    {
      "cell_type": "code",
      "execution_count": null,
      "metadata": {
        "id": "93qmY8pv8Lej"
      },
      "outputs": [],
      "source": [
        "# Create a vector\n",
        "X = torch.arange(0, 3*3*3)\n",
        "X"
      ]
    },
    {
      "cell_type": "code",
      "execution_count": null,
      "metadata": {
        "id": "3I8zUv138Lek"
      },
      "outputs": [],
      "source": [
        "# Reshape it into a 3x3x3 to be \"image-like\"\n",
        "X = X.reshape(3, 3, 3)\n",
        "X"
      ]
    },
    {
      "cell_type": "code",
      "execution_count": null,
      "metadata": {
        "id": "aAAyqkXR8Lek"
      },
      "outputs": [],
      "source": [
        "# How do we add a \"batch_dim\"?\n",
        "# Unsqueeze addes an empty dimension\n",
        "# Squeeze takes away empty dimensions\n",
        "X.shape, X.unsqueeze(0).shape"
      ]
    },
    {
      "cell_type": "code",
      "execution_count": null,
      "metadata": {
        "id": "NEi5A-6H8Lek"
      },
      "outputs": [],
      "source": [
        "# Use unsqueeze to create a \"batch\"\n",
        "torch.cat([X.unsqueeze(0), X.unsqueeze(0)]).shape"
      ]
    },
    {
      "cell_type": "code",
      "execution_count": null,
      "metadata": {
        "id": "7ERgwobz8Lel"
      },
      "outputs": [],
      "source": [
        "y = torch.randn(1, 1, 1, 1, 1, 1, 8)\n",
        "y, y.shape, y.squeeze(), y.squeeze().shape, y.squeeze(2).shape"
      ]
    },
    {
      "cell_type": "code",
      "execution_count": null,
      "metadata": {
        "id": "zH81Ceg58Lel"
      },
      "outputs": [],
      "source": [
        "# squeeze and unsqueeze are opposites\n",
        "assert X.shape == X.unsqueeze(0).squeeze(0).shape"
      ]
    },
    {
      "cell_type": "code",
      "execution_count": null,
      "metadata": {
        "id": "Qbj3_Heg8Lel"
      },
      "outputs": [],
      "source": [
        "# Swap the 1nd and 2rd dim\n",
        "X.permute(0, 2, 1)"
      ]
    },
    {
      "cell_type": "markdown",
      "metadata": {
        "id": "0ea7_0B1Zayt"
      },
      "source": [
        "# Exercise 3.3: Write your own `sigmoid` function\n",
        "\n",
        "The `softmax` function is given.\n",
        "Use a similar approach to complete the `sigmoid` function.\n",
        "$e^x$ in `torch` is expressed using `torch.exp(x)`.\n",
        "\n",
        "<!-- startquestion -->"
      ]
    },
    {
      "cell_type": "code",
      "execution_count": null,
      "metadata": {
        "id": "T3OWeHDZ_ATC"
      },
      "outputs": [],
      "source": [
        "def sigmoid(x):\n",
        "    raise NotImplementedError()\n",
        "\n",
        "def softmax(x, dim):\n",
        "    raise NotImplementedError()"
      ]
    },
    {
      "cell_type": "code",
      "execution_count": null,
      "metadata": {
        "id": "Nd2ZJ8aX8cRN"
      },
      "outputs": [],
      "source": [
        "x = torch.arange(-8, 8, 0.05)\n",
        "plt.plot(x, sigmoid(x), label='our sigmoid', ls='--', color='r', linewidth=4)\n",
        "plt.plot(x, torch.sigmoid(x), label='torch sigmoid', c='b', alpha=0.8)\n",
        "plt.legend()"
      ]
    },
    {
      "cell_type": "code",
      "execution_count": null,
      "metadata": {
        "id": "vl1V-i_69tcd"
      },
      "outputs": [],
      "source": [
        "X = torch.rand(3, 3)\n",
        "print(\n",
        "    'X:', X,\n",
        "    'Our softmax(x):', softmax(X, dim=0),\n",
        "    'Torch softmax(x):', torch.softmax(X, dim=0),\n",
        "    'Sanity check: row sums:', softmax(X, dim=0).sum(dim=0),\n",
        "    sep='\\n'\n",
        ")"
      ]
    },
    {
      "cell_type": "code",
      "execution_count": null,
      "metadata": {
        "id": "cLgGQ-DBJB14"
      },
      "outputs": [],
      "source": [
        "# We can also call softmax on a tensor\n",
        "X.softmax(dim=0)"
      ]
    },
    {
      "cell_type": "code",
      "execution_count": null,
      "metadata": {
        "id": "OxKqhnztM9qr"
      },
      "outputs": [],
      "source": [
        "(torch.randn(16, 3, 4) * torch.randn(3, 4)).shape"
      ]
    },
    {
      "cell_type": "code",
      "execution_count": null,
      "metadata": {
        "id": "D36jx2ebNF7h"
      },
      "outputs": [],
      "source": [
        "(torch.randn(16, 3, 4) @ torch.randn(3, 4)).shape"
      ]
    },
    {
      "cell_type": "code",
      "execution_count": null,
      "metadata": {
        "id": "uxvmDsePNQFX"
      },
      "outputs": [],
      "source": [
        "(torch.randn(16, 3, 4) @ torch.randn(4, 7)).shape"
      ]
    },
    {
      "cell_type": "code",
      "execution_count": null,
      "metadata": {
        "id": "-zcrvRyaNR8e"
      },
      "outputs": [],
      "source": [
        "torch.randn(3, 4) * torch.randn(4, 3)"
      ]
    },
    {
      "cell_type": "code",
      "execution_count": null,
      "metadata": {
        "id": "iGz5XhoYNvtw"
      },
      "outputs": [],
      "source": [
        "torch.randn(3, 4) @ torch.randn(4, 3)"
      ]
    },
    {
      "cell_type": "code",
      "execution_count": null,
      "metadata": {
        "id": "NfqOjwTKaiJx"
      },
      "outputs": [],
      "source": []
    }
  ],
  "metadata": {
    "colab": {
      "name": "03_Basic_Tensor_Operations.ipynb",
      "provenance": []
    },
    "kernelspec": {
      "display_name": "cndl",
      "language": "python",
      "name": "cndl"
    },
    "language_info": {
      "codemirror_mode": {
        "name": "ipython",
        "version": 3
      },
      "file_extension": ".py",
      "mimetype": "text/x-python",
      "name": "python",
      "nbconvert_exporter": "python",
      "pygments_lexer": "ipython3",
      "version": "3.9.4"
    }
  },
  "nbformat": 4,
  "nbformat_minor": 0
}