{
  "cells": [
    {
      "cell_type": "code",
      "execution_count": 1,
      "metadata": {
        "id": "YN_OuApGfaNk"
      },
      "outputs": [],
      "source": [
        "import torch\n",
        "import matplotlib.pyplot as plt"
      ]
    },
    {
      "cell_type": "code",
      "execution_count": 2,
      "metadata": {
        "id": "wfgIgCezf7Np"
      },
      "outputs": [],
      "source": [
        "def describe_tensor(t):\n",
        "    \"\"\"\n",
        "    Describes a few basic elements about any torch.Tensor.\n",
        "    Prints out shape, number of elements, and rank.\n",
        "    \"\"\"\n",
        "    print(f\"Shape (Tensor.shape): {t.shape}\")\n",
        "    print(f\"Number of elements (Tensor.numel()): {t.numel()}\")\n",
        "    print(f\"Number of dimensions, or rank + 1 (Tensor.ndim): {t.ndim}\")\n",
        "    print(f\"Tensor type (Tensor.dtype): {t.dtype}\")"
      ]
    },
    {
      "cell_type": "code",
      "execution_count": 3,
      "metadata": {
        "colab": {
          "base_uri": "https://localhost:8080/"
        },
        "id": "oirVvHHfffQG",
        "outputId": "4a8b0f4e-9797-406f-d575-f9d3fa027538"
      },
      "outputs": [
        {
          "output_type": "execute_result",
          "data": {
            "text/plain": [
              "tensor(1)"
            ]
          },
          "metadata": {},
          "execution_count": 3
        }
      ],
      "source": [
        "rank0tensor = torch.tensor(1)\n",
        "rank0tensor"
      ]
    },
    {
      "cell_type": "code",
      "execution_count": 4,
      "metadata": {
        "colab": {
          "base_uri": "https://localhost:8080/"
        },
        "id": "jesrSj-1f39S",
        "outputId": "2951193a-5ea9-4bef-b31e-f616cbbd70af"
      },
      "outputs": [
        {
          "output_type": "stream",
          "name": "stdout",
          "text": [
            "Shape (Tensor.shape): torch.Size([])\n",
            "Number of elements (Tensor.numel()): 1\n",
            "Number of dimensions, or rank + 1 (Tensor.ndim): 0\n",
            "Tensor type (Tensor.dtype): torch.int64\n"
          ]
        }
      ],
      "source": [
        "describe_tensor(rank0tensor)"
      ]
    },
    {
      "cell_type": "code",
      "execution_count": 5,
      "metadata": {
        "colab": {
          "base_uri": "https://localhost:8080/"
        },
        "id": "O4Yrr3jCfjmv",
        "outputId": "38ad3938-563d-4e7c-8056-6975d581dacc"
      },
      "outputs": [
        {
          "output_type": "execute_result",
          "data": {
            "text/plain": [
              "tensor([1., 2., 3.])"
            ]
          },
          "metadata": {},
          "execution_count": 5
        }
      ],
      "source": [
        "rank1tensor = torch.tensor([1.,2,3])\n",
        "rank1tensor"
      ]
    },
    {
      "cell_type": "code",
      "execution_count": 6,
      "metadata": {
        "colab": {
          "base_uri": "https://localhost:8080/"
        },
        "id": "B-exG67igb13",
        "outputId": "a9370525-17a4-4a8c-ecf4-b904f79e552c"
      },
      "outputs": [
        {
          "output_type": "stream",
          "name": "stdout",
          "text": [
            "Shape (Tensor.shape): torch.Size([3])\n",
            "Number of elements (Tensor.numel()): 3\n",
            "Number of dimensions, or rank + 1 (Tensor.ndim): 1\n",
            "Tensor type (Tensor.dtype): torch.float32\n"
          ]
        }
      ],
      "source": [
        "describe_tensor(rank1tensor)"
      ]
    },
    {
      "cell_type": "code",
      "execution_count": 7,
      "metadata": {
        "colab": {
          "base_uri": "https://localhost:8080/"
        },
        "id": "OIWFlVYwfnkf",
        "outputId": "a30bed72-eb84-4b44-c046-7ba551e56b58"
      },
      "outputs": [
        {
          "output_type": "execute_result",
          "data": {
            "text/plain": [
              "tensor([[1., 2., 3.],\n",
              "        [4., 5., 6.],\n",
              "        [7., 8., 9.]])"
            ]
          },
          "metadata": {},
          "execution_count": 7
        }
      ],
      "source": [
        "rank2tensor = torch.tensor(\n",
        "    [\n",
        "     [1.,2,3],\n",
        "     [4,5,6],\n",
        "     [7,8,9]\n",
        "    ]\n",
        ")\n",
        "rank2tensor"
      ]
    },
    {
      "cell_type": "code",
      "execution_count": 8,
      "metadata": {
        "colab": {
          "base_uri": "https://localhost:8080/"
        },
        "id": "QxbWJouzgenG",
        "outputId": "19dd3af8-d17b-424a-9d81-6fa207ed1ea7"
      },
      "outputs": [
        {
          "output_type": "stream",
          "name": "stdout",
          "text": [
            "Shape (Tensor.shape): torch.Size([3, 3])\n",
            "Number of elements (Tensor.numel()): 9\n",
            "Number of dimensions, or rank + 1 (Tensor.ndim): 2\n",
            "Tensor type (Tensor.dtype): torch.float32\n"
          ]
        }
      ],
      "source": [
        "describe_tensor(rank2tensor)"
      ]
    },
    {
      "cell_type": "code",
      "execution_count": 9,
      "metadata": {
        "colab": {
          "base_uri": "https://localhost:8080/"
        },
        "id": "Yu4OKI3fggue",
        "outputId": "32e2fce2-cdbb-4091-bfce-24213cc6889f"
      },
      "outputs": [
        {
          "output_type": "execute_result",
          "data": {
            "text/plain": [
              "tensor([[[0.0712, 0.1409, 0.4864],\n",
              "         [0.1888, 0.7116, 0.2082],\n",
              "         [0.5569, 0.7603, 0.6068]],\n",
              "\n",
              "        [[0.4351, 0.6399, 0.9933],\n",
              "         [0.8454, 0.4870, 0.2509],\n",
              "         [0.9519, 0.7376, 0.7208]],\n",
              "\n",
              "        [[0.7316, 0.9466, 0.5627],\n",
              "         [0.5643, 0.9673, 0.9188],\n",
              "         [0.9194, 0.2633, 0.9670]]])"
            ]
          },
          "metadata": {},
          "execution_count": 9
        }
      ],
      "source": [
        "rank3tensor = torch.rand(3, 3, 3)\n",
        "rank3tensor"
      ]
    },
    {
      "cell_type": "code",
      "execution_count": 10,
      "metadata": {
        "colab": {
          "base_uri": "https://localhost:8080/"
        },
        "id": "TOwckWKKgsz1",
        "outputId": "fbc26bd0-77e0-49d0-acbe-cda7e0b0a079"
      },
      "outputs": [
        {
          "output_type": "stream",
          "name": "stdout",
          "text": [
            "Shape (Tensor.shape): torch.Size([3, 3, 3])\n",
            "Number of elements (Tensor.numel()): 27\n",
            "Number of dimensions, or rank + 1 (Tensor.ndim): 3\n",
            "Tensor type (Tensor.dtype): torch.float32\n"
          ]
        }
      ],
      "source": [
        "describe_tensor(rank3tensor)"
      ]
    },
    {
      "cell_type": "code",
      "execution_count": 11,
      "metadata": {
        "colab": {
          "base_uri": "https://localhost:8080/"
        },
        "id": "ORXrY8XRgxUs",
        "outputId": "413fbd2c-7523-4301-acd9-c3d62c280d64"
      },
      "outputs": [
        {
          "output_type": "stream",
          "name": "stdout",
          "text": [
            "Shape (Tensor.shape): torch.Size([3, 3, 3, 3, 3, 3, 3, 3, 3, 3])\n",
            "Number of elements (Tensor.numel()): 59049\n",
            "Number of dimensions, or rank + 1 (Tensor.ndim): 10\n",
            "Tensor type (Tensor.dtype): torch.float32\n"
          ]
        }
      ],
      "source": [
        "# We won't try to visualize this tensor since it doesn't fit neatly into my brain.\n",
        "# This is just to show we can make big tensors, even if we don't have a practical use for them.\n",
        "n_dim = 10\n",
        "describe_tensor(torch.randn(*(tuple([3] * n_dim))))"
      ]
    },
    {
      "cell_type": "markdown",
      "metadata": {
        "id": "Rf509u1C4ZFb"
      },
      "source": [
        "# Exercise 3.1: Torch `dtype`s\n",
        "\n",
        "Read through the [documentation](https://pytorch.org/docs/stable/tensor_attributes.html#torch-dtype) on different tensor types.\n",
        "\n",
        "Create a function that uses the [`Tensor.element_size()`](https://pytorch.org/docs/stable/generated/torch.Tensor.element_size.html#) and `Tensor.numel()` methods to calculate the memory footprint of a tensor in megabytes.\n",
        "There are 1e6 bytes in a megabyte.\n",
        "Then, create at least 3 tensors with the same shape but different `dtype`s like `torch.float16` and `torch.float32`.\n",
        "What's the difference in the memory footprints of the following tensors?\n",
        "\n",
        "<!-- startquestion -->\n"
      ]
    },
    {
      "cell_type": "code",
      "execution_count": 22,
      "metadata": {
        "id": "ZZBZEr1J6s6F"
      },
      "outputs": [],
      "source": [
        "def memory_footprint(tensor):\n",
        "    mb = tensor.element_size() * tensor.numel() / 1e6\n",
        "    return mb\n",
        "    raise NotImplementedError('Implement this function!')"
      ]
    },
    {
      "cell_type": "code",
      "execution_count": 23,
      "metadata": {
        "colab": {
          "base_uri": "https://localhost:8080/"
        },
        "id": "cLYIUTlkvaTr",
        "outputId": "f89de72d-9e07-4ad3-a893-672a730d0eb4"
      },
      "outputs": [
        {
          "output_type": "stream",
          "name": "stdout",
          "text": [
            "\n",
            "    Tensor:\n",
            "    100.0\n",
            "    dtype: torch.float16\n",
            "    memory footprint (MB): 2e-06\n",
            "    ----------------\n",
            "    \n",
            "\n",
            "    Tensor:\n",
            "    100.0\n",
            "    dtype: torch.float32\n",
            "    memory footprint (MB): 4e-06\n",
            "    ----------------\n",
            "    \n",
            "\n",
            "    Tensor:\n",
            "    100\n",
            "    dtype: torch.int32\n",
            "    memory footprint (MB): 4e-06\n",
            "    ----------------\n",
            "    \n",
            "\n",
            "    Tensor:\n",
            "    100\n",
            "    dtype: torch.int64\n",
            "    memory footprint (MB): 8e-06\n",
            "    ----------------\n",
            "    \n"
          ]
        }
      ],
      "source": [
        "tensors = [\n",
        "    torch.tensor(100, dtype=torch.float16),\n",
        "    torch.tensor(100, dtype=torch.float32),\n",
        "    torch.tensor(100, dtype=torch.int32),\n",
        "    torch.tensor(100, dtype=torch.long) # I think this is int64\n",
        "]\n",
        "\n",
        "for t in tensors:\n",
        "    print(f\"\"\"\n",
        "    Tensor:\n",
        "    {t}\n",
        "    dtype: {t.dtype}\n",
        "    memory footprint (MB): {memory_footprint(t)}\n",
        "    ----------------\n",
        "    \"\"\")"
      ]
    },
    {
      "cell_type": "code",
      "execution_count": 4,
      "metadata": {
        "colab": {
          "base_uri": "https://localhost:8080/"
        },
        "id": "PXmQt7lWCUtg",
        "outputId": "8a8383d1-be97-48b7-ceb4-c82ac6d40653"
      },
      "outputs": [
        {
          "output_type": "execute_result",
          "data": {
            "text/plain": [
              "tensor([1., 1., 1., 1.])"
            ]
          },
          "metadata": {},
          "execution_count": 4
        }
      ],
      "source": [
        "x = torch.ones(4).float()\n",
        "x"
      ]
    },
    {
      "cell_type": "code",
      "execution_count": 6,
      "metadata": {
        "colab": {
          "base_uri": "https://localhost:8080/"
        },
        "id": "tub5MGNWDBRa",
        "outputId": "910775d6-3121-48de-f598-45a16a32053b"
      },
      "outputs": [
        {
          "output_type": "execute_result",
          "data": {
            "text/plain": [
              "tensor([4., 4., 4., 4.])"
            ]
          },
          "metadata": {},
          "execution_count": 6
        }
      ],
      "source": [
        "x * 4"
      ]
    },
    {
      "cell_type": "code",
      "execution_count": 7,
      "metadata": {
        "colab": {
          "base_uri": "https://localhost:8080/"
        },
        "id": "0oub394LDEBl",
        "outputId": "44823d6e-8a18-4e06-ae95-6009028520bd"
      },
      "outputs": [
        {
          "output_type": "execute_result",
          "data": {
            "text/plain": [
              "tensor([5., 5., 5., 5.])"
            ]
          },
          "metadata": {},
          "execution_count": 7
        }
      ],
      "source": [
        "x + 4"
      ]
    },
    {
      "cell_type": "code",
      "execution_count": 8,
      "metadata": {
        "colab": {
          "base_uri": "https://localhost:8080/"
        },
        "id": "TtFlMX5LDFdz",
        "outputId": "63f6a7f3-ea81-4a56-d3d6-8abb449ddea1"
      },
      "outputs": [
        {
          "output_type": "execute_result",
          "data": {
            "text/plain": [
              "tensor([-1., -1., -1., -1.])"
            ]
          },
          "metadata": {},
          "execution_count": 8
        }
      ],
      "source": [
        "x - 2"
      ]
    },
    {
      "cell_type": "code",
      "execution_count": 9,
      "metadata": {
        "colab": {
          "base_uri": "https://localhost:8080/"
        },
        "id": "MEnlgHOuDGlQ",
        "outputId": "c167fbfb-01d7-49e0-f52c-9c8ffed2cb95"
      },
      "outputs": [
        {
          "output_type": "execute_result",
          "data": {
            "text/plain": [
              "tensor([0.2500, 0.2500, 0.2500, 0.2500])"
            ]
          },
          "metadata": {},
          "execution_count": 9
        }
      ],
      "source": [
        "x / 4"
      ]
    },
    {
      "cell_type": "code",
      "execution_count": 10,
      "metadata": {
        "colab": {
          "base_uri": "https://localhost:8080/"
        },
        "id": "TdU_O2ORDl35",
        "outputId": "1636685f-0d7b-4999-f242-f279a32323df"
      },
      "outputs": [
        {
          "output_type": "execute_result",
          "data": {
            "text/plain": [
              "(tensor([[0.4348, 0.6784],\n",
              "         [0.2328, 0.9445]]),\n",
              " tensor([[0.3983, 0.1650],\n",
              "         [0.0366, 0.3313]]))"
            ]
          },
          "metadata": {},
          "execution_count": 10
        }
      ],
      "source": [
        "# create two random tensors of the same shape, x and y\n",
        "x = torch.rand(2,2)\n",
        "y = torch.rand(2,2)\n",
        "x, y"
      ]
    },
    {
      "cell_type": "code",
      "execution_count": 11,
      "metadata": {
        "colab": {
          "base_uri": "https://localhost:8080/"
        },
        "id": "P3ybugeRDrCl",
        "outputId": "0d60522a-8b60-4bea-fae3-cdbbdbc2ef87"
      },
      "outputs": [
        {
          "output_type": "execute_result",
          "data": {
            "text/plain": [
              "tensor([[0.8332, 0.8434],\n",
              "        [0.2694, 1.2758]])"
            ]
          },
          "metadata": {},
          "execution_count": 11
        }
      ],
      "source": [
        "x + y"
      ]
    },
    {
      "cell_type": "code",
      "execution_count": 12,
      "metadata": {
        "colab": {
          "base_uri": "https://localhost:8080/"
        },
        "id": "zXZUTYLHDsV7",
        "outputId": "c9382258-a7c4-4542-9ae8-d7b8620e1cf7"
      },
      "outputs": [
        {
          "output_type": "execute_result",
          "data": {
            "text/plain": [
              "tensor([[0.0365, 0.5135],\n",
              "        [0.1962, 0.6131]])"
            ]
          },
          "metadata": {},
          "execution_count": 12
        }
      ],
      "source": [
        "x - y"
      ]
    },
    {
      "cell_type": "code",
      "source": [],
      "metadata": {
        "id": "_0WPAOv0RKVd"
      },
      "execution_count": null,
      "outputs": []
    },
    {
      "cell_type": "code",
      "execution_count": 13,
      "metadata": {
        "colab": {
          "base_uri": "https://localhost:8080/"
        },
        "id": "MtCXRnFbDxZ2",
        "outputId": "e884342c-10d3-4143-e3c6-9e965875eaab"
      },
      "outputs": [
        {
          "output_type": "execute_result",
          "data": {
            "text/plain": [
              "tensor([[0.1732, 0.1119],\n",
              "        [0.0085, 0.3129]])"
            ]
          },
          "metadata": {},
          "execution_count": 13
        }
      ],
      "source": [
        "x * y"
      ]
    },
    {
      "cell_type": "code",
      "execution_count": 14,
      "metadata": {
        "colab": {
          "base_uri": "https://localhost:8080/"
        },
        "id": "Onlau0_tDysg",
        "outputId": "899cad03-7f24-4f37-e63b-b207038f83a5"
      },
      "outputs": [
        {
          "output_type": "execute_result",
          "data": {
            "text/plain": [
              "tensor([[1.0916, 4.1128],\n",
              "        [6.3591, 2.8504]])"
            ]
          },
          "metadata": {},
          "execution_count": 14
        }
      ],
      "source": [
        "x / y"
      ]
    },
    {
      "cell_type": "markdown",
      "source": [
        "Broadcasting with Python"
      ],
      "metadata": {
        "id": "XUeBVVPHSJlt"
      }
    },
    {
      "cell_type": "code",
      "execution_count": 18,
      "metadata": {
        "colab": {
          "base_uri": "https://localhost:8080/"
        },
        "id": "RalqgfDjD0Nx",
        "outputId": "55d3457d-d803-4704-8764-3d11948f5d9f"
      },
      "outputs": [
        {
          "output_type": "execute_result",
          "data": {
            "text/plain": [
              "(tensor([[0.9047, 0.7102, 0.7551, 0.9596],\n",
              "         [0.0233, 0.7781, 0.3278, 0.8863]]),\n",
              " tensor([0.9229, 0.7613, 0.6774, 0.7097]))"
            ]
          },
          "metadata": {},
          "execution_count": 18
        }
      ],
      "source": [
        "x = torch.rand(2, 4)\n",
        "y = torch.rand(4)\n",
        "x, y"
      ]
    },
    {
      "cell_type": "code",
      "execution_count": 19,
      "metadata": {
        "colab": {
          "base_uri": "https://localhost:8080/"
        },
        "id": "weIf9RNyU8wr",
        "outputId": "6e6dc27d-a485-45e1-cc6c-85b1903ad2ff"
      },
      "outputs": [
        {
          "output_type": "execute_result",
          "data": {
            "text/plain": [
              "tensor([[0.8350, 0.5407, 0.5115, 0.6810],\n",
              "        [0.0215, 0.5923, 0.2220, 0.6290]])"
            ]
          },
          "metadata": {},
          "execution_count": 19
        }
      ],
      "source": [
        "torch.stack([x[0] * y, x[1] * y])"
      ]
    },
    {
      "cell_type": "code",
      "execution_count": 20,
      "metadata": {
        "colab": {
          "base_uri": "https://localhost:8080/"
        },
        "id": "Pqk2_U_sD4JW",
        "outputId": "99234768-aa3e-493d-9995-43da55bf271e"
      },
      "outputs": [
        {
          "output_type": "execute_result",
          "data": {
            "text/plain": [
              "tensor([[0.8350, 0.5407, 0.5115, 0.6810],\n",
              "        [0.0215, 0.5923, 0.2220, 0.6290]])"
            ]
          },
          "metadata": {},
          "execution_count": 20
        }
      ],
      "source": [
        "x * y"
      ]
    },
    {
      "cell_type": "code",
      "execution_count": 21,
      "metadata": {
        "colab": {
          "base_uri": "https://localhost:8080/"
        },
        "id": "IUf3fJFyEn4l",
        "outputId": "eb7e296e-0ce7-4a9e-cb22-4d5af8ec0f70"
      },
      "outputs": [
        {
          "output_type": "execute_result",
          "data": {
            "text/plain": [
              "tensor([[[0.7203, 0.9085, 0.7096, 0.3399],\n",
              "         [0.4427, 0.9881, 0.0879, 0.9817]],\n",
              "\n",
              "        [[0.5326, 0.1883, 0.6197, 0.0905],\n",
              "         [0.4888, 0.8840, 0.6973, 0.8089]],\n",
              "\n",
              "        [[0.8519, 0.4956, 0.9084, 0.2208],\n",
              "         [0.0403, 0.7031, 0.6138, 0.6447]]])"
            ]
          },
          "metadata": {},
          "execution_count": 21
        }
      ],
      "source": [
        "x = torch.rand(3, 2, 4)\n",
        "x"
      ]
    },
    {
      "cell_type": "code",
      "execution_count": 22,
      "metadata": {
        "colab": {
          "base_uri": "https://localhost:8080/"
        },
        "id": "n-8_uK76VQaZ",
        "outputId": "017c3fe3-8734-4a98-e645-8df063cc5053"
      },
      "outputs": [
        {
          "output_type": "execute_result",
          "data": {
            "text/plain": [
              "tensor([[[0.6647, 0.6917, 0.4807, 0.2412],\n",
              "         [0.4086, 0.7522, 0.0596, 0.6967]],\n",
              "\n",
              "        [[0.4916, 0.1433, 0.4198, 0.0642],\n",
              "         [0.4512, 0.6730, 0.4723, 0.5741]],\n",
              "\n",
              "        [[0.7862, 0.3773, 0.6154, 0.1567],\n",
              "         [0.0371, 0.5353, 0.4158, 0.4575]]])"
            ]
          },
          "metadata": {},
          "execution_count": 22
        }
      ],
      "source": [
        "torch.stack([torch.stack([i * y for i in a]) for a in x])"
      ]
    },
    {
      "cell_type": "code",
      "execution_count": 24,
      "metadata": {
        "colab": {
          "base_uri": "https://localhost:8080/"
        },
        "id": "BdkIij6qJmQ_",
        "outputId": "5ca6958d-8b8d-4de6-df90-bfd9a460fd5c"
      },
      "outputs": [
        {
          "output_type": "execute_result",
          "data": {
            "text/plain": [
              "tensor([[[0.6647, 0.6917, 0.4807, 0.2412],\n",
              "         [0.4086, 0.7522, 0.0596, 0.6967]],\n",
              "\n",
              "        [[0.4916, 0.1433, 0.4198, 0.0642],\n",
              "         [0.4512, 0.6730, 0.4723, 0.5741]],\n",
              "\n",
              "        [[0.7862, 0.3773, 0.6154, 0.1567],\n",
              "         [0.0371, 0.5353, 0.4158, 0.4575]]])"
            ]
          },
          "metadata": {},
          "execution_count": 24
        }
      ],
      "source": [
        "x * y"
      ]
    },
    {
      "cell_type": "markdown",
      "source": [
        "Multiplication Examples"
      ],
      "metadata": {
        "id": "uTTb0ur5gbrh"
      }
    },
    {
      "cell_type": "code",
      "execution_count": 26,
      "metadata": {
        "id": "BtQjJwU8pygJ"
      },
      "outputs": [],
      "source": [
        "x = torch.tensor([1, 2, 3, 4])\n",
        "y = torch.tensor([2, 3, 4, 5])"
      ]
    },
    {
      "cell_type": "code",
      "execution_count": 27,
      "metadata": {
        "colab": {
          "base_uri": "https://localhost:8080/"
        },
        "id": "C4sxHFjCKzrD",
        "outputId": "4a10cf7a-b3ed-48ce-a05a-c3a77356bf32"
      },
      "outputs": [
        {
          "output_type": "execute_result",
          "data": {
            "text/plain": [
              "tensor(40)"
            ]
          },
          "metadata": {},
          "execution_count": 27
        }
      ],
      "source": [
        "# Let's do this using element-wise operations\n",
        "(x * y).sum()"
      ]
    },
    {
      "cell_type": "code",
      "execution_count": 28,
      "metadata": {
        "colab": {
          "base_uri": "https://localhost:8080/"
        },
        "id": "XhUqjR2-p-M_",
        "outputId": "050cb7ff-32be-455a-86f7-64cb895ad83d"
      },
      "outputs": [
        {
          "output_type": "execute_result",
          "data": {
            "text/plain": [
              "tensor(40)"
            ]
          },
          "metadata": {},
          "execution_count": 28
        }
      ],
      "source": [
        "# torch.matmul does matrix multiplication.\n",
        "torch.matmul(x, y)"
      ]
    },
    {
      "cell_type": "code",
      "execution_count": 29,
      "metadata": {
        "colab": {
          "base_uri": "https://localhost:8080/"
        },
        "id": "uaDdfNlfp9HV",
        "outputId": "ff10914e-4d80-4ed3-cc88-559298a39863"
      },
      "outputs": [
        {
          "output_type": "execute_result",
          "data": {
            "text/plain": [
              "tensor(40)"
            ]
          },
          "metadata": {},
          "execution_count": 29
        }
      ],
      "source": [
        "# @ is shorthand for matrix multiplication as well.\n",
        "x@y"
      ]
    },
    {
      "cell_type": "code",
      "execution_count": 30,
      "metadata": {
        "colab": {
          "base_uri": "https://localhost:8080/"
        },
        "id": "b5hCp0rfLfSt",
        "outputId": "6cc5b6fe-60b9-4c87-8123-ec0a815f83e1"
      },
      "outputs": [
        {
          "output_type": "execute_result",
          "data": {
            "text/plain": [
              "tensor(40)"
            ]
          },
          "metadata": {},
          "execution_count": 30
        }
      ],
      "source": [
        "y@x"
      ]
    },
    {
      "cell_type": "code",
      "execution_count": 31,
      "metadata": {
        "id": "AcaOBkxOYDlt"
      },
      "outputs": [],
      "source": [
        "assert x@y == y@x == torch.matmul(x,y) == (x * y).sum()"
      ]
    },
    {
      "cell_type": "code",
      "execution_count": 32,
      "metadata": {
        "id": "KBjsj76RqvR0"
      },
      "outputs": [],
      "source": [
        "X = torch.tensor([[1, 2], [3, 4]])\n",
        "Y = torch.tensor([[2, 3, 4], [5, 6, 7]])"
      ]
    },
    {
      "cell_type": "code",
      "execution_count": 33,
      "metadata": {
        "colab": {
          "base_uri": "https://localhost:8080/"
        },
        "id": "tyb7F-9Hs40g",
        "outputId": "46457e71-70b7-447e-f815-9b7dd98c4afd"
      },
      "outputs": [
        {
          "output_type": "execute_result",
          "data": {
            "text/plain": [
              "tensor([[12, 15, 18],\n",
              "        [26, 33, 40]])"
            ]
          },
          "metadata": {},
          "execution_count": 33
        }
      ],
      "source": [
        "X@Y"
      ]
    },
    {
      "cell_type": "code",
      "execution_count": 34,
      "metadata": {
        "colab": {
          "base_uri": "https://localhost:8080/"
        },
        "id": "osQMTXao5n08",
        "outputId": "7ff803e1-63b4-4417-e3d3-dd65c04493da"
      },
      "outputs": [
        {
          "output_type": "execute_result",
          "data": {
            "text/plain": [
              "torch.Size([16, 3, 3, 12])"
            ]
          },
          "metadata": {},
          "execution_count": 34
        }
      ],
      "source": [
        "(torch.randn(16, 3, 3, 3) @ torch.randn(3, 3, 12)).shape"
      ]
    },
    {
      "cell_type": "markdown",
      "metadata": {
        "id": "uXh7RbC6tGsp"
      },
      "source": [
        "# Exercise 3.2: matrix multiplication\n",
        "\n",
        "Previously, we tried to multiply `X@Y`.\n",
        "Will `Y@X` work?\n",
        "Why or why not?\n",
        "\n",
        "In the cell below, define `B`  using `torch.rand` so that `A@B` returns a tensor with shape (4, 7).\n",
        "\n",
        "<!-- startquestion -->"
      ]
    },
    {
      "cell_type": "code",
      "execution_count": 2,
      "metadata": {
        "id": "3HgK5T6RtN3n"
      },
      "outputs": [],
      "source": [
        "A = torch.rand(4, 2)\n",
        "B = torch.rand(2, 7)"
      ]
    },
    {
      "cell_type": "code",
      "execution_count": 3,
      "metadata": {
        "id": "_d_BiKLJD0s9"
      },
      "outputs": [],
      "source": [
        "if not isinstance(B, type(...)):\n",
        "    assert (A@B).shape == (4, 7)\n",
        "else:\n",
        "    print('Please define B such that (A@B).shape = (4, 7)')"
      ]
    },
    {
      "cell_type": "code",
      "execution_count": 4,
      "metadata": {
        "colab": {
          "base_uri": "https://localhost:8080/"
        },
        "id": "orXRC7LsrRBv",
        "outputId": "9fbc6746-f52e-46b7-8437-b2f237f0ca39"
      },
      "outputs": [
        {
          "output_type": "execute_result",
          "data": {
            "text/plain": [
              "tensor([[[ 0,  1,  2],\n",
              "         [ 3,  4,  5],\n",
              "         [ 6,  7,  8]],\n",
              "\n",
              "        [[ 9, 10, 11],\n",
              "         [12, 13, 14],\n",
              "         [15, 16, 17]],\n",
              "\n",
              "        [[18, 19, 20],\n",
              "         [21, 22, 23],\n",
              "         [24, 25, 26]]])"
            ]
          },
          "metadata": {},
          "execution_count": 4
        }
      ],
      "source": [
        "X = torch.tensor(list(range(27))).reshape(3,3,3)\n",
        "X"
      ]
    },
    {
      "cell_type": "code",
      "execution_count": 5,
      "metadata": {
        "colab": {
          "base_uri": "https://localhost:8080/"
        },
        "id": "Ow1QpNZFrW5l",
        "outputId": "dda21c5d-4c94-47b1-d01a-e69288d1e5b3"
      },
      "outputs": [
        {
          "output_type": "execute_result",
          "data": {
            "text/plain": [
              "tensor(351)"
            ]
          },
          "metadata": {},
          "execution_count": 5
        }
      ],
      "source": [
        "X.sum()"
      ]
    },
    {
      "cell_type": "code",
      "execution_count": 6,
      "metadata": {
        "colab": {
          "base_uri": "https://localhost:8080/"
        },
        "id": "YfZ1IVRBrdC9",
        "outputId": "bce02f77-e351-4fac-eb46-9cfdb5f0124b"
      },
      "outputs": [
        {
          "output_type": "execute_result",
          "data": {
            "text/plain": [
              "tensor([[27, 30, 33],\n",
              "        [36, 39, 42],\n",
              "        [45, 48, 51]])"
            ]
          },
          "metadata": {},
          "execution_count": 6
        }
      ],
      "source": [
        "# Change the dim parameter to see how the results change\n",
        "X.sum(dim=0)"
      ]
    },
    {
      "cell_type": "code",
      "execution_count": 10,
      "metadata": {
        "colab": {
          "base_uri": "https://localhost:8080/"
        },
        "id": "93qmY8pv8Lej",
        "outputId": "37409603-53bd-4306-d860-e6253ceddf22"
      },
      "outputs": [
        {
          "output_type": "execute_result",
          "data": {
            "text/plain": [
              "tensor([ 0,  1,  2,  3,  4,  5,  6,  7,  8,  9, 10, 11, 12, 13, 14, 15, 16, 17,\n",
              "        18, 19, 20, 21, 22, 23, 24, 25, 26])"
            ]
          },
          "metadata": {},
          "execution_count": 10
        }
      ],
      "source": [
        "# Create a vector\n",
        "X = torch.arange(0, 3*3*3)\n",
        "X"
      ]
    },
    {
      "cell_type": "code",
      "execution_count": 11,
      "metadata": {
        "colab": {
          "base_uri": "https://localhost:8080/"
        },
        "id": "3I8zUv138Lek",
        "outputId": "e88e2034-9b82-48ba-a0a0-414b5787cef3"
      },
      "outputs": [
        {
          "output_type": "execute_result",
          "data": {
            "text/plain": [
              "tensor([[[ 0,  1,  2],\n",
              "         [ 3,  4,  5],\n",
              "         [ 6,  7,  8]],\n",
              "\n",
              "        [[ 9, 10, 11],\n",
              "         [12, 13, 14],\n",
              "         [15, 16, 17]],\n",
              "\n",
              "        [[18, 19, 20],\n",
              "         [21, 22, 23],\n",
              "         [24, 25, 26]]])"
            ]
          },
          "metadata": {},
          "execution_count": 11
        }
      ],
      "source": [
        "# Reshape it into a 3x3x3 to be \"image-like\"\n",
        "X = X.reshape(3, 3, 3)\n",
        "X"
      ]
    },
    {
      "cell_type": "code",
      "execution_count": 12,
      "metadata": {
        "colab": {
          "base_uri": "https://localhost:8080/"
        },
        "id": "aAAyqkXR8Lek",
        "outputId": "34fe5f17-4bea-4337-abe6-c07b93bd91fe"
      },
      "outputs": [
        {
          "output_type": "execute_result",
          "data": {
            "text/plain": [
              "(torch.Size([3, 3, 3]), torch.Size([1, 3, 3, 3]))"
            ]
          },
          "metadata": {},
          "execution_count": 12
        }
      ],
      "source": [
        "# How do we add a \"batch_dim\"?\n",
        "# Unsqueeze addes an empty dimension\n",
        "# Squeeze takes away empty dimensions\n",
        "X.shape, X.unsqueeze(0).shape"
      ]
    },
    {
      "cell_type": "code",
      "execution_count": 13,
      "metadata": {
        "colab": {
          "base_uri": "https://localhost:8080/"
        },
        "id": "NEi5A-6H8Lek",
        "outputId": "69622251-699a-4d2c-9fff-98187ce9fcff"
      },
      "outputs": [
        {
          "output_type": "execute_result",
          "data": {
            "text/plain": [
              "torch.Size([2, 3, 3, 3])"
            ]
          },
          "metadata": {},
          "execution_count": 13
        }
      ],
      "source": [
        "# Use unsqueeze to create a \"batch\"\n",
        "torch.cat([X.unsqueeze(0), X.unsqueeze(0)]).shape"
      ]
    },
    {
      "cell_type": "code",
      "execution_count": 14,
      "metadata": {
        "colab": {
          "base_uri": "https://localhost:8080/"
        },
        "id": "7ERgwobz8Lel",
        "outputId": "a7811f65-1754-41cc-83dd-f5099b8522d3"
      },
      "outputs": [
        {
          "output_type": "execute_result",
          "data": {
            "text/plain": [
              "(tensor([[[[[[[ 0.2693, -1.1868,  0.3426,  0.7029,  0.3455, -0.7369, -1.6634,\n",
              "               -0.2377]]]]]]]),\n",
              " torch.Size([1, 1, 1, 1, 1, 1, 8]),\n",
              " tensor([ 0.2693, -1.1868,  0.3426,  0.7029,  0.3455, -0.7369, -1.6634, -0.2377]),\n",
              " torch.Size([8]),\n",
              " torch.Size([1, 1, 1, 1, 1, 8]))"
            ]
          },
          "metadata": {},
          "execution_count": 14
        }
      ],
      "source": [
        "y = torch.randn(1, 1, 1, 1, 1, 1, 8)\n",
        "y, y.shape, y.squeeze(), y.squeeze().shape, y.squeeze(2).shape"
      ]
    },
    {
      "cell_type": "code",
      "execution_count": 15,
      "metadata": {
        "id": "zH81Ceg58Lel"
      },
      "outputs": [],
      "source": [
        "# squeeze and unsqueeze are opposites\n",
        "assert X.shape == X.unsqueeze(0).squeeze(0).shape"
      ]
    },
    {
      "cell_type": "code",
      "execution_count": 16,
      "metadata": {
        "colab": {
          "base_uri": "https://localhost:8080/"
        },
        "id": "Qbj3_Heg8Lel",
        "outputId": "40f958bb-4329-4b0c-8e31-1badd5ce2e36"
      },
      "outputs": [
        {
          "output_type": "execute_result",
          "data": {
            "text/plain": [
              "tensor([[[ 0,  3,  6],\n",
              "         [ 1,  4,  7],\n",
              "         [ 2,  5,  8]],\n",
              "\n",
              "        [[ 9, 12, 15],\n",
              "         [10, 13, 16],\n",
              "         [11, 14, 17]],\n",
              "\n",
              "        [[18, 21, 24],\n",
              "         [19, 22, 25],\n",
              "         [20, 23, 26]]])"
            ]
          },
          "metadata": {},
          "execution_count": 16
        }
      ],
      "source": [
        "# Swap the 1nd and 2rd dim\n",
        "X.permute(0, 2, 1)"
      ]
    },
    {
      "cell_type": "markdown",
      "metadata": {
        "id": "0ea7_0B1Zayt"
      },
      "source": [
        "# Exercise 3.3: Write your own `sigmoid` function\n",
        "\n",
        "The `softmax` function is given.\n",
        "Use a similar approach to complete the `sigmoid` function.\n",
        "$e^x$ in `torch` is expressed using `torch.exp(x)`.\n",
        "\n",
        "<!-- startquestion -->"
      ]
    },
    {
      "cell_type": "code",
      "execution_count": 2,
      "metadata": {
        "id": "T3OWeHDZ_ATC"
      },
      "outputs": [],
      "source": [
        "def sigmoid(x):\n",
        "    return (torch.exp(x)/(1 + torch.exp(x)))\n",
        "\n",
        "def softmax(x, dim):\n",
        "    return torch.exp(x)/torch.exp(x).sum(dim=dim)"
      ]
    },
    {
      "cell_type": "code",
      "execution_count": 3,
      "metadata": {
        "colab": {
          "base_uri": "https://localhost:8080/",
          "height": 447
        },
        "id": "Nd2ZJ8aX8cRN",
        "outputId": "abb2bdb0-2ae9-4488-aeb5-55227071cde1"
      },
      "outputs": [
        {
          "output_type": "execute_result",
          "data": {
            "text/plain": [
              "<matplotlib.legend.Legend at 0x78bed425ea90>"
            ]
          },
          "metadata": {},
          "execution_count": 3
        },
        {
          "output_type": "display_data",
          "data": {
            "text/plain": [
              "<Figure size 640x480 with 1 Axes>"
            ],
            "image/png": "[encoded data removed]"
          },
          "metadata": {}
        }
      ],
      "source": [
        "x = torch.arange(-8, 8, 0.05)\n",
        "plt.plot(x, sigmoid(x), label='our sigmoid', ls='--', color='r', linewidth=4)\n",
        "plt.plot(x, torch.sigmoid(x), label='torch sigmoid', c='b', alpha=0.8)\n",
        "plt.legend()"
      ]
    },
    {
      "cell_type": "code",
      "execution_count": 4,
      "metadata": {
        "colab": {
          "base_uri": "https://localhost:8080/"
        },
        "id": "vl1V-i_69tcd",
        "outputId": "c1dac569-aec4-440a-d89a-2a5e80beaa55"
      },
      "outputs": [
        {
          "output_type": "stream",
          "name": "stdout",
          "text": [
            "X:\n",
            "tensor([[0.0961, 0.8231, 0.6395],\n",
            "        [0.7587, 0.0204, 0.6594],\n",
            "        [0.4484, 0.3954, 0.8505]])\n",
            "Our softmax(x):\n",
            "tensor([[0.2292, 0.4762, 0.3072],\n",
            "        [0.4447, 0.2134, 0.3134],\n",
            "        [0.3261, 0.3105, 0.3794]])\n",
            "Torch softmax(x):\n",
            "tensor([[0.2292, 0.4762, 0.3072],\n",
            "        [0.4447, 0.2134, 0.3134],\n",
            "        [0.3261, 0.3105, 0.3794]])\n",
            "Sanity check: row sums:\n",
            "tensor([1.0000, 1.0000, 1.0000])\n"
          ]
        }
      ],
      "source": [
        "X = torch.rand(3, 3)\n",
        "print(\n",
        "    'X:', X,\n",
        "    'Our softmax(x):', softmax(X, dim=0),\n",
        "    'Torch softmax(x):', torch.softmax(X, dim=0),\n",
        "    'Sanity check: row sums:', softmax(X, dim=0).sum(dim=0),\n",
        "    sep='\\n'\n",
        ")"
      ]
    },
    {
      "cell_type": "code",
      "execution_count": 5,
      "metadata": {
        "colab": {
          "base_uri": "https://localhost:8080/"
        },
        "id": "cLgGQ-DBJB14",
        "outputId": "0d8ab21a-3521-447b-fbb5-a234ac14cd4a"
      },
      "outputs": [
        {
          "output_type": "execute_result",
          "data": {
            "text/plain": [
              "tensor([[0.2292, 0.4762, 0.3072],\n",
              "        [0.4447, 0.2134, 0.3134],\n",
              "        [0.3261, 0.3105, 0.3794]])"
            ]
          },
          "metadata": {},
          "execution_count": 5
        }
      ],
      "source": [
        "# We can also call softmax on a tensor\n",
        "X.softmax(dim=0)"
      ]
    },
    {
      "cell_type": "code",
      "execution_count": 6,
      "metadata": {
        "colab": {
          "base_uri": "https://localhost:8080/"
        },
        "id": "OxKqhnztM9qr",
        "outputId": "88784e2f-29fa-48f6-c5ef-21a640187665"
      },
      "outputs": [
        {
          "output_type": "execute_result",
          "data": {
            "text/plain": [
              "torch.Size([16, 3, 4])"
            ]
          },
          "metadata": {},
          "execution_count": 6
        }
      ],
      "source": [
        "(torch.randn(16, 3, 4) * torch.randn(3, 4)).shape"
      ]
    },
    {
      "cell_type": "code",
      "execution_count": 10,
      "metadata": {
        "colab": {
          "base_uri": "https://localhost:8080/",
          "height": 141
        },
        "id": "D36jx2ebNF7h",
        "outputId": "558e5816-1ae4-4c62-ee7c-78355c1308f1"
      },
      "outputs": [
        {
          "output_type": "error",
          "ename": "RuntimeError",
          "evalue": "mat1 and mat2 shapes cannot be multiplied (48x4 and 3x4)",
          "traceback": [
            "\u001b[0;31m---------------------------------------------------------------------------\u001b[0m",
            "\u001b[0;31mRuntimeError\u001b[0m                              Traceback (most recent call last)",
            "\u001b[0;32m/tmp/ipython-input-729894593.py\u001b[0m in \u001b[0;36m<cell line: 0>\u001b[0;34m()\u001b[0m\n\u001b[0;32m----> 1\u001b[0;31m \u001b[0;34m(\u001b[0m\u001b[0mtorch\u001b[0m\u001b[0;34m.\u001b[0m\u001b[0mrandn\u001b[0m\u001b[0;34m(\u001b[0m\u001b[0;36m16\u001b[0m\u001b[0;34m,\u001b[0m \u001b[0;36m3\u001b[0m\u001b[0;34m,\u001b[0m \u001b[0;36m4\u001b[0m\u001b[0;34m)\u001b[0m \u001b[0;34m@\u001b[0m \u001b[0mtorch\u001b[0m\u001b[0;34m.\u001b[0m\u001b[0mrandn\u001b[0m\u001b[0;34m(\u001b[0m\u001b[0;36m3\u001b[0m\u001b[0;34m,\u001b[0m \u001b[0;36m4\u001b[0m\u001b[0;34m)\u001b[0m\u001b[0;34m)\u001b[0m\u001b[0;34m.\u001b[0m\u001b[0mshape\u001b[0m\u001b[0;34m\u001b[0m\u001b[0;34m\u001b[0m\u001b[0m\n\u001b[0m",
            "\u001b[0;31mRuntimeError\u001b[0m: mat1 and mat2 shapes cannot be multiplied (48x4 and 3x4)"
          ]
        }
      ],
      "source": [
        "(torch.randn(16, 3, 4) @ torch.randn(4, 3)).shape"
      ]
    },
    {
      "cell_type": "code",
      "execution_count": 8,
      "metadata": {
        "colab": {
          "base_uri": "https://localhost:8080/"
        },
        "id": "uxvmDsePNQFX",
        "outputId": "d019340c-ea72-4487-da1e-8caf0d05200e"
      },
      "outputs": [
        {
          "output_type": "execute_result",
          "data": {
            "text/plain": [
              "torch.Size([16, 3, 7])"
            ]
          },
          "metadata": {},
          "execution_count": 8
        }
      ],
      "source": [
        "(torch.randn(16, 3, 4) @ torch.randn(4, 7)).shape"
      ]
    },
    {
      "cell_type": "code",
      "execution_count": 11,
      "metadata": {
        "colab": {
          "base_uri": "https://localhost:8080/",
          "height": 159
        },
        "id": "-zcrvRyaNR8e",
        "outputId": "3daebeae-eb5d-47a1-b87f-229446a76b43"
      },
      "outputs": [
        {
          "output_type": "error",
          "ename": "RuntimeError",
          "evalue": "The size of tensor a (4) must match the size of tensor b (3) at non-singleton dimension 1",
          "traceback": [
            "\u001b[0;31m---------------------------------------------------------------------------\u001b[0m",
            "\u001b[0;31mRuntimeError\u001b[0m                              Traceback (most recent call last)",
            "\u001b[0;32m/tmp/ipython-input-4068685309.py\u001b[0m in \u001b[0;36m<cell line: 0>\u001b[0;34m()\u001b[0m\n\u001b[0;32m----> 1\u001b[0;31m \u001b[0mtorch\u001b[0m\u001b[0;34m.\u001b[0m\u001b[0mrandn\u001b[0m\u001b[0;34m(\u001b[0m\u001b[0;36m3\u001b[0m\u001b[0;34m,\u001b[0m \u001b[0;36m4\u001b[0m\u001b[0;34m)\u001b[0m \u001b[0;34m*\u001b[0m \u001b[0mtorch\u001b[0m\u001b[0;34m.\u001b[0m\u001b[0mrandn\u001b[0m\u001b[0;34m(\u001b[0m\u001b[0;36m4\u001b[0m\u001b[0;34m,\u001b[0m \u001b[0;36m3\u001b[0m\u001b[0;34m)\u001b[0m\u001b[0;34m\u001b[0m\u001b[0;34m\u001b[0m\u001b[0m\n\u001b[0m",
            "\u001b[0;31mRuntimeError\u001b[0m: The size of tensor a (4) must match the size of tensor b (3) at non-singleton dimension 1"
          ]
        }
      ],
      "source": [
        "torch.randn(3, 4) * torch.randn(4, 3)"
      ]
    },
    {
      "cell_type": "code",
      "execution_count": null,
      "metadata": {
        "id": "iGz5XhoYNvtw"
      },
      "outputs": [],
      "source": [
        "torch.randn(3, 4) @ torch.randn(4, 3)"
      ]
    },
    {
      "cell_type": "code",
      "execution_count": 9,
      "metadata": {
        "id": "NfqOjwTKaiJx"
      },
      "outputs": [],
      "source": []
    },
    {
      "cell_type": "code",
      "source": [],
      "metadata": {
        "id": "_1w2nPTwk5lq"
      },
      "execution_count": null,
      "outputs": []
    }
  ],
  "metadata": {
    "colab": {
      "name": "03_Basic_Tensor_Operations.ipynb",
      "provenance": []
    },
    "kernelspec": {
      "display_name": "cndl",
      "language": "python",
      "name": "cndl"
    },
    "language_info": {
      "codemirror_mode": {
        "name": "ipython",
        "version": 3
      },
      "file_extension": ".py",
      "mimetype": "text/x-python",
      "name": "python",
      "nbconvert_exporter": "python",
      "pygments_lexer": "ipython3",
      "version": "3.9.4"
    }
  },
  "nbformat": 4,
  "nbformat_minor": 0
}